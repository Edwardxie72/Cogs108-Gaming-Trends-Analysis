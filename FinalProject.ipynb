{
 "cells": [
  {
   "cell_type": "markdown",
   "metadata": {},
   "source": [
    "# COGS 108 - Final Project "
   ]
  },
  {
   "cell_type": "markdown",
   "metadata": {},
   "source": [
    "# Overview"
   ]
  },
  {
   "cell_type": "markdown",
   "metadata": {},
   "source": [
    "Games nowadays are often categorized fairly broadly, with many falling into the categories of shooters, rpgs, rogue-likes, and so on. Our main goal with this project is to see what type of categories tend to get the best user responses to them and how this response has shifted over time. We wanted to figure out what is the current trend for popular game categories. We will split this up by seeing the trends for each specific year and how the reception for the game has been.\n",
    "\n",
    "We will utilize two datasets, one for Steam games and one for mobile games in order to see if there's a category more suited for mobile devices compared to computers."
   ]
  },
  {
   "cell_type": "markdown",
   "metadata": {},
   "source": [
    "# Names\n",
    "\n",
    "- Edward Xie\n",
    "- Simon Fei"
   ]
  },
  {
   "cell_type": "markdown",
   "metadata": {},
   "source": [
    "# Group Members IDs\n",
    "\n",
    "- Edwardxie72---A15534895\n",
    "- Simonfei123---A15658075"
   ]
  },
  {
   "cell_type": "markdown",
   "metadata": {},
   "source": [
    "# Research Question"
   ]
  },
  {
   "cell_type": "markdown",
   "metadata": {},
   "source": [
    "What type of game categories get the best user ratings and how has this trend changed over the years. \n",
    "\n",
    "Our second goal is to see whether these trends differ between mobile games and PC games."
   ]
  },
  {
   "cell_type": "markdown",
   "metadata": {},
   "source": [
    "## Background and Prior Work"
   ]
  },
  {
   "cell_type": "markdown",
   "metadata": {},
   "source": [
    "## TODO\n",
    "*Fill in your background and prior work here* \n",
    "\n",
    "References (include links):\n",
    "- 1)\n",
    "- 2)"
   ]
  },
  {
   "cell_type": "markdown",
   "metadata": {},
   "source": [
    "# Hypothesis\n"
   ]
  },
  {
   "cell_type": "markdown",
   "metadata": {},
   "source": [
    "## TODO\n",
    "*Fill in your hypotheses here*"
   ]
  },
  {
   "cell_type": "markdown",
   "metadata": {},
   "source": [
    "# Dataset(s)"
   ]
  },
  {
   "cell_type": "markdown",
   "metadata": {},
   "source": [
    "*Dataset Information*\n",
    "\n",
    "- Dataset Name: Steam Store Games\n",
    "- Link to the dataset: https://www.kaggle.com/nikdavis/steam-store-games\n",
    "- Number of observations: 27033\n",
    "\n",
    "This dataset contains 27033 games from steam and it includes information on the games. The data we will be utilizing for each game is the categories of the game, the genre of the game, the steamspy tags of the game, the number of positive ratings for the game, and the number of negative ratings for the game.\n",
    "\n",
    "- Dataset Name: Google Store Play Apps\n",
    "- Link to the dataset: https://www.kaggle.com/gauthamp10/google-playstore-apps#Google-Playstore-Full.csv\n",
    "- Number of observations: 244407\n",
    "\n",
    "This dataset contains 244407 apps from the play store. With this data set we will extract all the games and from these games, the data we will utilize from them is the category of the game, the rating for the app, and the review count for the app.\n",
    "\n",
    "*How we will combine the datasets:*\n",
    "We will be treating these as seperate databases, but will use the results to compare the differences between games on the computer and games on a mobile device to see if there is some difference in the trends between these.\n"
   ]
  },
  {
   "cell_type": "markdown",
   "metadata": {},
   "source": [
    "# Setup"
   ]
  },
  {
   "cell_type": "code",
   "execution_count": 2,
   "metadata": {},
   "outputs": [],
   "source": [
    "#Imports (Following A2 as a guideline for processing data)\n",
    "%matplotlib inline\n",
    "\n",
    "import numpy as np\n",
    "import pandas as pd\n",
    "import matplotlib.pyplot as plt\n",
    "from scipy.optimize import curve_fit\n",
    "\n",
    "import seaborn as sns"
   ]
  },
  {
   "cell_type": "code",
   "execution_count": 3,
   "metadata": {},
   "outputs": [],
   "source": [
    "# Configure libraries(taken from A2)\n",
    "# The seaborn library makes plots look nicer\n",
    "sns.set()\n",
    "sns.set_context('talk')\n",
    "\n",
    "# Don't display too many rows/cols of DataFrames\n",
    "pd.options.display.max_rows = 7\n",
    "pd.options.display.max_columns = 8\n",
    "\n",
    "# Round decimals when displaying DataFrames\n",
    "pd.set_option('precision', 2)"
   ]
  },
  {
   "cell_type": "markdown",
   "metadata": {},
   "source": [
    "# Data Cleaning"
   ]
  },
  {
   "cell_type": "markdown",
   "metadata": {},
   "source": [
    "## TODO\n",
    "Describe your data cleaning steps here."
   ]
  },
  {
   "cell_type": "code",
   "execution_count": 4,
   "metadata": {},
   "outputs": [],
   "source": [
    "# Read in data\n",
    "df_steam = pd.read_csv('steam.csv', low_memory=False)\n",
    "df_googleplay = pd.read_csv('Google-Playstore-Full.csv', low_memory=False)"
   ]
  },
  {
   "cell_type": "code",
   "execution_count": 5,
   "metadata": {},
   "outputs": [
    {
     "data": {
      "text/html": [
       "<div>\n",
       "<style scoped>\n",
       "    .dataframe tbody tr th:only-of-type {\n",
       "        vertical-align: middle;\n",
       "    }\n",
       "\n",
       "    .dataframe tbody tr th {\n",
       "        vertical-align: top;\n",
       "    }\n",
       "\n",
       "    .dataframe thead th {\n",
       "        text-align: right;\n",
       "    }\n",
       "</style>\n",
       "<table border=\"1\" class=\"dataframe\">\n",
       "  <thead>\n",
       "    <tr style=\"text-align: right;\">\n",
       "      <th></th>\n",
       "      <th>appid</th>\n",
       "      <th>name</th>\n",
       "      <th>release_date</th>\n",
       "      <th>english</th>\n",
       "      <th>...</th>\n",
       "      <th>average_playtime</th>\n",
       "      <th>median_playtime</th>\n",
       "      <th>owners</th>\n",
       "      <th>price</th>\n",
       "    </tr>\n",
       "  </thead>\n",
       "  <tbody>\n",
       "    <tr>\n",
       "      <th>0</th>\n",
       "      <td>10</td>\n",
       "      <td>Counter-Strike</td>\n",
       "      <td>2000-11-01</td>\n",
       "      <td>1</td>\n",
       "      <td>...</td>\n",
       "      <td>17612</td>\n",
       "      <td>317</td>\n",
       "      <td>10000000-20000000</td>\n",
       "      <td>7.19</td>\n",
       "    </tr>\n",
       "    <tr>\n",
       "      <th>1</th>\n",
       "      <td>20</td>\n",
       "      <td>Team Fortress Classic</td>\n",
       "      <td>1999-04-01</td>\n",
       "      <td>1</td>\n",
       "      <td>...</td>\n",
       "      <td>277</td>\n",
       "      <td>62</td>\n",
       "      <td>5000000-10000000</td>\n",
       "      <td>3.99</td>\n",
       "    </tr>\n",
       "    <tr>\n",
       "      <th>2</th>\n",
       "      <td>30</td>\n",
       "      <td>Day of Defeat</td>\n",
       "      <td>2003-05-01</td>\n",
       "      <td>1</td>\n",
       "      <td>...</td>\n",
       "      <td>187</td>\n",
       "      <td>34</td>\n",
       "      <td>5000000-10000000</td>\n",
       "      <td>3.99</td>\n",
       "    </tr>\n",
       "    <tr>\n",
       "      <th>3</th>\n",
       "      <td>40</td>\n",
       "      <td>Deathmatch Classic</td>\n",
       "      <td>2001-06-01</td>\n",
       "      <td>1</td>\n",
       "      <td>...</td>\n",
       "      <td>258</td>\n",
       "      <td>184</td>\n",
       "      <td>5000000-10000000</td>\n",
       "      <td>3.99</td>\n",
       "    </tr>\n",
       "    <tr>\n",
       "      <th>4</th>\n",
       "      <td>50</td>\n",
       "      <td>Half-Life: Opposing Force</td>\n",
       "      <td>1999-11-01</td>\n",
       "      <td>1</td>\n",
       "      <td>...</td>\n",
       "      <td>624</td>\n",
       "      <td>415</td>\n",
       "      <td>5000000-10000000</td>\n",
       "      <td>3.99</td>\n",
       "    </tr>\n",
       "  </tbody>\n",
       "</table>\n",
       "<p>5 rows × 18 columns</p>\n",
       "</div>"
      ],
      "text/plain": [
       "   appid                       name release_date  english  ...  \\\n",
       "0     10             Counter-Strike   2000-11-01        1  ...   \n",
       "1     20      Team Fortress Classic   1999-04-01        1  ...   \n",
       "2     30              Day of Defeat   2003-05-01        1  ...   \n",
       "3     40         Deathmatch Classic   2001-06-01        1  ...   \n",
       "4     50  Half-Life: Opposing Force   1999-11-01        1  ...   \n",
       "\n",
       "  average_playtime median_playtime             owners  price  \n",
       "0            17612             317  10000000-20000000   7.19  \n",
       "1              277              62   5000000-10000000   3.99  \n",
       "2              187              34   5000000-10000000   3.99  \n",
       "3              258             184   5000000-10000000   3.99  \n",
       "4              624             415   5000000-10000000   3.99  \n",
       "\n",
       "[5 rows x 18 columns]"
      ]
     },
     "execution_count": 5,
     "metadata": {},
     "output_type": "execute_result"
    }
   ],
   "source": [
    "# Preview and clean up steam data set first\n",
    "df_steam.head(5)"
   ]
  },
  {
   "cell_type": "code",
   "execution_count": 6,
   "metadata": {},
   "outputs": [],
   "source": [
    "# Start by dropping unwanted data, keep the name so we have some way to identify apps, but not neccesary\n",
    "del df_steam['appid']\n",
    "del df_steam['english']\n",
    "del df_steam['developer']\n",
    "del df_steam['publisher']\n",
    "del df_steam['platforms']\n",
    "del df_steam['required_age']\n",
    "del df_steam['achievements']\n",
    "del df_steam['average_playtime']\n",
    "del df_steam['median_playtime']\n",
    "del df_steam['price']\n",
    "del df_steam['owners']  # We drop owners because it gives a range which might make data inconsistent, instead we will weigh off each rating"
   ]
  },
  {
   "cell_type": "code",
   "execution_count": 7,
   "metadata": {},
   "outputs": [],
   "source": [
    "# Rename categories before we start cleaning data\n",
    "df_steam.columns = ['Name', 'Year', 'Steam Categories', 'Genre', 'Steamspy Categories', 'Positive Ratings', 'Negative Ratings']"
   ]
  },
  {
   "cell_type": "code",
   "execution_count": 8,
   "metadata": {},
   "outputs": [],
   "source": [
    "# Extract only the year from the release date because we analyze by year\n",
    "def extract_year(string):\n",
    "    return int(string[:4])  # Only need first 4 characters for year"
   ]
  },
  {
   "cell_type": "code",
   "execution_count": 9,
   "metadata": {},
   "outputs": [],
   "source": [
    "df_steam['Year'] = df_steam['Year'].apply(extract_year)  # Change all years in our df"
   ]
  },
  {
   "cell_type": "code",
   "execution_count": 10,
   "metadata": {},
   "outputs": [
    {
     "data": {
      "text/html": [
       "<div>\n",
       "<style scoped>\n",
       "    .dataframe tbody tr th:only-of-type {\n",
       "        vertical-align: middle;\n",
       "    }\n",
       "\n",
       "    .dataframe tbody tr th {\n",
       "        vertical-align: top;\n",
       "    }\n",
       "\n",
       "    .dataframe thead th {\n",
       "        text-align: right;\n",
       "    }\n",
       "</style>\n",
       "<table border=\"1\" class=\"dataframe\">\n",
       "  <thead>\n",
       "    <tr style=\"text-align: right;\">\n",
       "      <th></th>\n",
       "      <th>App Name</th>\n",
       "      <th>Category</th>\n",
       "      <th>Rating</th>\n",
       "      <th>Reviews</th>\n",
       "      <th>...</th>\n",
       "      <th>Unnamed: 11</th>\n",
       "      <th>Unnamed: 12</th>\n",
       "      <th>Unnamed: 13</th>\n",
       "      <th>Unnamed: 14</th>\n",
       "    </tr>\n",
       "  </thead>\n",
       "  <tbody>\n",
       "    <tr>\n",
       "      <th>0</th>\n",
       "      <td>DoorDash - Food Delivery</td>\n",
       "      <td>FOOD_AND_DRINK</td>\n",
       "      <td>4.548561573</td>\n",
       "      <td>305034</td>\n",
       "      <td>...</td>\n",
       "      <td>NaN</td>\n",
       "      <td>NaN</td>\n",
       "      <td>NaN</td>\n",
       "      <td>NaN</td>\n",
       "    </tr>\n",
       "    <tr>\n",
       "      <th>1</th>\n",
       "      <td>TripAdvisor Hotels Flights Restaurants Attract...</td>\n",
       "      <td>TRAVEL_AND_LOCAL</td>\n",
       "      <td>4.400671482</td>\n",
       "      <td>1207922</td>\n",
       "      <td>...</td>\n",
       "      <td>NaN</td>\n",
       "      <td>NaN</td>\n",
       "      <td>NaN</td>\n",
       "      <td>NaN</td>\n",
       "    </tr>\n",
       "    <tr>\n",
       "      <th>2</th>\n",
       "      <td>Peapod</td>\n",
       "      <td>SHOPPING</td>\n",
       "      <td>3.656329393</td>\n",
       "      <td>1967</td>\n",
       "      <td>...</td>\n",
       "      <td>NaN</td>\n",
       "      <td>NaN</td>\n",
       "      <td>NaN</td>\n",
       "      <td>NaN</td>\n",
       "    </tr>\n",
       "    <tr>\n",
       "      <th>3</th>\n",
       "      <td>foodpanda - Local Food Delivery</td>\n",
       "      <td>FOOD_AND_DRINK</td>\n",
       "      <td>4.107232571</td>\n",
       "      <td>389154</td>\n",
       "      <td>...</td>\n",
       "      <td>NaN</td>\n",
       "      <td>NaN</td>\n",
       "      <td>NaN</td>\n",
       "      <td>NaN</td>\n",
       "    </tr>\n",
       "    <tr>\n",
       "      <th>4</th>\n",
       "      <td>My CookBook Pro (Ad Free)</td>\n",
       "      <td>FOOD_AND_DRINK</td>\n",
       "      <td>4.647752285</td>\n",
       "      <td>2291</td>\n",
       "      <td>...</td>\n",
       "      <td>NaN</td>\n",
       "      <td>NaN</td>\n",
       "      <td>NaN</td>\n",
       "      <td>NaN</td>\n",
       "    </tr>\n",
       "  </tbody>\n",
       "</table>\n",
       "<p>5 rows × 15 columns</p>\n",
       "</div>"
      ],
      "text/plain": [
       "                                            App Name          Category  \\\n",
       "0                           DoorDash - Food Delivery    FOOD_AND_DRINK   \n",
       "1  TripAdvisor Hotels Flights Restaurants Attract...  TRAVEL_AND_LOCAL   \n",
       "2                                             Peapod          SHOPPING   \n",
       "3                    foodpanda - Local Food Delivery    FOOD_AND_DRINK   \n",
       "4                          My CookBook Pro (Ad Free)    FOOD_AND_DRINK   \n",
       "\n",
       "        Rating  Reviews  ... Unnamed: 11 Unnamed: 12 Unnamed: 13 Unnamed: 14  \n",
       "0  4.548561573   305034  ...         NaN         NaN         NaN         NaN  \n",
       "1  4.400671482  1207922  ...         NaN         NaN         NaN         NaN  \n",
       "2  3.656329393     1967  ...         NaN         NaN         NaN         NaN  \n",
       "3  4.107232571   389154  ...         NaN         NaN         NaN         NaN  \n",
       "4  4.647752285     2291  ...         NaN         NaN         NaN         NaN  \n",
       "\n",
       "[5 rows x 15 columns]"
      ]
     },
     "execution_count": 10,
     "metadata": {},
     "output_type": "execute_result"
    }
   ],
   "source": [
    "# Preview and clean up Google Play Data\n",
    "df_googleplay.head(5)"
   ]
  },
  {
   "cell_type": "code",
   "execution_count": 11,
   "metadata": {},
   "outputs": [],
   "source": [
    "# Start by dropping unwanted data, keep the name so we have some way to identify apps, but not neccesary\n",
    "del df_googleplay['Installs']  # We don't care about installs for same reason as steam, use number of ratings instead\n",
    "del df_googleplay['Size']\n",
    "del df_googleplay['Price']\n",
    "del df_googleplay['Content Rating']\n",
    "del df_googleplay['Last Updated']\n",
    "del df_googleplay['Minimum Version']\n",
    "del df_googleplay['Latest Version']\n",
    "del df_googleplay['Unnamed: 11']\n",
    "del df_googleplay['Unnamed: 12']\n",
    "del df_googleplay['Unnamed: 13']\n",
    "del df_googleplay['Unnamed: 14']"
   ]
  },
  {
   "cell_type": "code",
   "execution_count": 12,
   "metadata": {},
   "outputs": [],
   "source": [
    "df_googleplay = df_googleplay.dropna(subset=['Category', 'Rating', 'Reviews'])"
   ]
  },
  {
   "cell_type": "code",
   "execution_count": 13,
   "metadata": {},
   "outputs": [],
   "source": [
    "# First start by dropping all non game category games, games will start with the string \"GAME_\" in category\n",
    "df_googleplay = df_googleplay[df_googleplay['Category'].str.contains('GAME')]\n",
    "df_googleplay = df_googleplay.reset_index(drop=True)"
   ]
  },
  {
   "cell_type": "code",
   "execution_count": 14,
   "metadata": {},
   "outputs": [],
   "source": [
    "# Add extra columns to steam one for the average rating(out of 10) and total number of ratings(Pos rating/(Pos + neg rating))\n",
    "df_steam['AvgRating'] = df_steam['Positive Ratings'].div(df_steam['Positive Ratings'].add(df_steam['Negative Ratings']))\n",
    "df_steam['NumRating'] = df_steam['Positive Ratings'].add(df_steam['Negative Ratings'])"
   ]
  },
  {
   "cell_type": "code",
   "execution_count": 15,
   "metadata": {},
   "outputs": [],
   "source": [
    "# Add extra columns to googleplay, one for avg rating(out of 10) and rename total to match steam\n",
    "df_googleplay['Rating'] = df_googleplay['Rating'].astype(float)\n",
    "df_googleplay['AvgRating'] = df_googleplay['Rating'].mul(2)\n",
    "df_googleplay.rename(columns = {'Reviews':'NumRating'}, inplace = True) "
   ]
  },
  {
   "cell_type": "code",
   "execution_count": 16,
   "metadata": {},
   "outputs": [],
   "source": [
    "# Clean up the categories for the games\n",
    "df_googleplay['Category'] = df_googleplay['Category'].str.slice(start=5)"
   ]
  },
  {
   "cell_type": "code",
   "execution_count": 17,
   "metadata": {},
   "outputs": [
    {
     "data": {
      "text/html": [
       "<div>\n",
       "<style scoped>\n",
       "    .dataframe tbody tr th:only-of-type {\n",
       "        vertical-align: middle;\n",
       "    }\n",
       "\n",
       "    .dataframe tbody tr th {\n",
       "        vertical-align: top;\n",
       "    }\n",
       "\n",
       "    .dataframe thead th {\n",
       "        text-align: right;\n",
       "    }\n",
       "</style>\n",
       "<table border=\"1\" class=\"dataframe\">\n",
       "  <thead>\n",
       "    <tr style=\"text-align: right;\">\n",
       "      <th></th>\n",
       "      <th>Name</th>\n",
       "      <th>Year</th>\n",
       "      <th>Steam Categories</th>\n",
       "      <th>Genre</th>\n",
       "      <th>...</th>\n",
       "      <th>Positive Ratings</th>\n",
       "      <th>Negative Ratings</th>\n",
       "      <th>AvgRating</th>\n",
       "      <th>NumRating</th>\n",
       "    </tr>\n",
       "  </thead>\n",
       "  <tbody>\n",
       "    <tr>\n",
       "      <th>0</th>\n",
       "      <td>Counter-Strike</td>\n",
       "      <td>2000</td>\n",
       "      <td>Multi-player;Online Multi-Player;Local Multi-P...</td>\n",
       "      <td>Action</td>\n",
       "      <td>...</td>\n",
       "      <td>124534</td>\n",
       "      <td>3339</td>\n",
       "      <td>0.97</td>\n",
       "      <td>127873</td>\n",
       "    </tr>\n",
       "    <tr>\n",
       "      <th>1</th>\n",
       "      <td>Team Fortress Classic</td>\n",
       "      <td>1999</td>\n",
       "      <td>Multi-player;Online Multi-Player;Local Multi-P...</td>\n",
       "      <td>Action</td>\n",
       "      <td>...</td>\n",
       "      <td>3318</td>\n",
       "      <td>633</td>\n",
       "      <td>0.84</td>\n",
       "      <td>3951</td>\n",
       "    </tr>\n",
       "    <tr>\n",
       "      <th>2</th>\n",
       "      <td>Day of Defeat</td>\n",
       "      <td>2003</td>\n",
       "      <td>Multi-player;Valve Anti-Cheat enabled</td>\n",
       "      <td>Action</td>\n",
       "      <td>...</td>\n",
       "      <td>3416</td>\n",
       "      <td>398</td>\n",
       "      <td>0.90</td>\n",
       "      <td>3814</td>\n",
       "    </tr>\n",
       "    <tr>\n",
       "      <th>3</th>\n",
       "      <td>Deathmatch Classic</td>\n",
       "      <td>2001</td>\n",
       "      <td>Multi-player;Online Multi-Player;Local Multi-P...</td>\n",
       "      <td>Action</td>\n",
       "      <td>...</td>\n",
       "      <td>1273</td>\n",
       "      <td>267</td>\n",
       "      <td>0.83</td>\n",
       "      <td>1540</td>\n",
       "    </tr>\n",
       "    <tr>\n",
       "      <th>4</th>\n",
       "      <td>Half-Life: Opposing Force</td>\n",
       "      <td>1999</td>\n",
       "      <td>Single-player;Multi-player;Valve Anti-Cheat en...</td>\n",
       "      <td>Action</td>\n",
       "      <td>...</td>\n",
       "      <td>5250</td>\n",
       "      <td>288</td>\n",
       "      <td>0.95</td>\n",
       "      <td>5538</td>\n",
       "    </tr>\n",
       "  </tbody>\n",
       "</table>\n",
       "<p>5 rows × 9 columns</p>\n",
       "</div>"
      ],
      "text/plain": [
       "                        Name  Year  \\\n",
       "0             Counter-Strike  2000   \n",
       "1      Team Fortress Classic  1999   \n",
       "2              Day of Defeat  2003   \n",
       "3         Deathmatch Classic  2001   \n",
       "4  Half-Life: Opposing Force  1999   \n",
       "\n",
       "                                    Steam Categories   Genre  ...  \\\n",
       "0  Multi-player;Online Multi-Player;Local Multi-P...  Action  ...   \n",
       "1  Multi-player;Online Multi-Player;Local Multi-P...  Action  ...   \n",
       "2              Multi-player;Valve Anti-Cheat enabled  Action  ...   \n",
       "3  Multi-player;Online Multi-Player;Local Multi-P...  Action  ...   \n",
       "4  Single-player;Multi-player;Valve Anti-Cheat en...  Action  ...   \n",
       "\n",
       "  Positive Ratings  Negative Ratings  AvgRating  NumRating  \n",
       "0           124534              3339       0.97     127873  \n",
       "1             3318               633       0.84       3951  \n",
       "2             3416               398       0.90       3814  \n",
       "3             1273               267       0.83       1540  \n",
       "4             5250               288       0.95       5538  \n",
       "\n",
       "[5 rows x 9 columns]"
      ]
     },
     "execution_count": 17,
     "metadata": {},
     "output_type": "execute_result"
    }
   ],
   "source": [
    "# Preview mostly cleaned up data\n",
    "df_steam.head(5)"
   ]
  },
  {
   "cell_type": "code",
   "execution_count": 18,
   "metadata": {},
   "outputs": [
    {
     "data": {
      "text/html": [
       "<div>\n",
       "<style scoped>\n",
       "    .dataframe tbody tr th:only-of-type {\n",
       "        vertical-align: middle;\n",
       "    }\n",
       "\n",
       "    .dataframe tbody tr th {\n",
       "        vertical-align: top;\n",
       "    }\n",
       "\n",
       "    .dataframe thead th {\n",
       "        text-align: right;\n",
       "    }\n",
       "</style>\n",
       "<table border=\"1\" class=\"dataframe\">\n",
       "  <thead>\n",
       "    <tr style=\"text-align: right;\">\n",
       "      <th></th>\n",
       "      <th>App Name</th>\n",
       "      <th>Category</th>\n",
       "      <th>Rating</th>\n",
       "      <th>NumRating</th>\n",
       "      <th>AvgRating</th>\n",
       "    </tr>\n",
       "  </thead>\n",
       "  <tbody>\n",
       "    <tr>\n",
       "      <th>0</th>\n",
       "      <td>King of Crabs</td>\n",
       "      <td>ACTION</td>\n",
       "      <td>3.28</td>\n",
       "      <td>785</td>\n",
       "      <td>6.56</td>\n",
       "    </tr>\n",
       "    <tr>\n",
       "      <th>1</th>\n",
       "      <td>Match 3 App Rewards: Daily Game Rewards</td>\n",
       "      <td>CASUAL</td>\n",
       "      <td>4.52</td>\n",
       "      <td>248</td>\n",
       "      <td>9.04</td>\n",
       "    </tr>\n",
       "    <tr>\n",
       "      <th>2</th>\n",
       "      <td>Brown Dust</td>\n",
       "      <td>ROLE_PLAYING</td>\n",
       "      <td>4.48</td>\n",
       "      <td>70260</td>\n",
       "      <td>8.95</td>\n",
       "    </tr>\n",
       "    <tr>\n",
       "      <th>3</th>\n",
       "      <td>Poly - Coloring Puzzle Art Book</td>\n",
       "      <td>PUZZLE</td>\n",
       "      <td>4.58</td>\n",
       "      <td>878</td>\n",
       "      <td>9.16</td>\n",
       "    </tr>\n",
       "    <tr>\n",
       "      <th>4</th>\n",
       "      <td>Legend of Empress</td>\n",
       "      <td>ROLE_PLAYING</td>\n",
       "      <td>3.82</td>\n",
       "      <td>750</td>\n",
       "      <td>7.64</td>\n",
       "    </tr>\n",
       "  </tbody>\n",
       "</table>\n",
       "</div>"
      ],
      "text/plain": [
       "                                  App Name      Category  Rating NumRating  \\\n",
       "0                            King of Crabs        ACTION    3.28       785   \n",
       "1  Match 3 App Rewards: Daily Game Rewards        CASUAL    4.52       248   \n",
       "2                               Brown Dust  ROLE_PLAYING    4.48     70260   \n",
       "3          Poly - Coloring Puzzle Art Book        PUZZLE    4.58       878   \n",
       "4                        Legend of Empress  ROLE_PLAYING    3.82       750   \n",
       "\n",
       "   AvgRating  \n",
       "0       6.56  \n",
       "1       9.04  \n",
       "2       8.95  \n",
       "3       9.16  \n",
       "4       7.64  "
      ]
     },
     "execution_count": 18,
     "metadata": {},
     "output_type": "execute_result"
    }
   ],
   "source": [
    "df_googleplay.head(5)"
   ]
  },
  {
   "cell_type": "code",
   "execution_count": 19,
   "metadata": {},
   "outputs": [],
   "source": [
    "del df_googleplay['AvgRating'] # Avg Rating is redundant since it's just (Rating * 2)\n",
    "df_googleplay['NumRating'] = df_googleplay['NumRating'].astype(int)"
   ]
  },
  {
   "cell_type": "code",
   "execution_count": 20,
   "metadata": {},
   "outputs": [],
   "source": [
    "df_googleplay['NumRating'] = df_googleplay['NumRating'].astype(int)"
   ]
  },
  {
   "cell_type": "code",
   "execution_count": 21,
   "metadata": {},
   "outputs": [
    {
     "data": {
      "text/html": [
       "<div>\n",
       "<style scoped>\n",
       "    .dataframe tbody tr th:only-of-type {\n",
       "        vertical-align: middle;\n",
       "    }\n",
       "\n",
       "    .dataframe tbody tr th {\n",
       "        vertical-align: top;\n",
       "    }\n",
       "\n",
       "    .dataframe thead th {\n",
       "        text-align: right;\n",
       "    }\n",
       "</style>\n",
       "<table border=\"1\" class=\"dataframe\">\n",
       "  <thead>\n",
       "    <tr style=\"text-align: right;\">\n",
       "      <th></th>\n",
       "      <th>App Name</th>\n",
       "      <th>Category</th>\n",
       "      <th>Rating</th>\n",
       "      <th>NumRating</th>\n",
       "    </tr>\n",
       "  </thead>\n",
       "  <tbody>\n",
       "    <tr>\n",
       "      <th>0</th>\n",
       "      <td>King of Crabs</td>\n",
       "      <td>ACTION</td>\n",
       "      <td>3.28</td>\n",
       "      <td>785</td>\n",
       "    </tr>\n",
       "    <tr>\n",
       "      <th>1</th>\n",
       "      <td>Match 3 App Rewards: Daily Game Rewards</td>\n",
       "      <td>CASUAL</td>\n",
       "      <td>4.52</td>\n",
       "      <td>248</td>\n",
       "    </tr>\n",
       "    <tr>\n",
       "      <th>2</th>\n",
       "      <td>Brown Dust</td>\n",
       "      <td>ROLE_PLAYING</td>\n",
       "      <td>4.48</td>\n",
       "      <td>70260</td>\n",
       "    </tr>\n",
       "    <tr>\n",
       "      <th>3</th>\n",
       "      <td>Poly - Coloring Puzzle Art Book</td>\n",
       "      <td>PUZZLE</td>\n",
       "      <td>4.58</td>\n",
       "      <td>878</td>\n",
       "    </tr>\n",
       "    <tr>\n",
       "      <th>4</th>\n",
       "      <td>Legend of Empress</td>\n",
       "      <td>ROLE_PLAYING</td>\n",
       "      <td>3.82</td>\n",
       "      <td>750</td>\n",
       "    </tr>\n",
       "  </tbody>\n",
       "</table>\n",
       "</div>"
      ],
      "text/plain": [
       "                                  App Name      Category  Rating  NumRating\n",
       "0                            King of Crabs        ACTION    3.28        785\n",
       "1  Match 3 App Rewards: Daily Game Rewards        CASUAL    4.52        248\n",
       "2                               Brown Dust  ROLE_PLAYING    4.48      70260\n",
       "3          Poly - Coloring Puzzle Art Book        PUZZLE    4.58        878\n",
       "4                        Legend of Empress  ROLE_PLAYING    3.82        750"
      ]
     },
     "execution_count": 21,
     "metadata": {},
     "output_type": "execute_result"
    }
   ],
   "source": [
    "df_googleplay.head(5)"
   ]
  },
  {
   "cell_type": "code",
   "execution_count": 22,
   "metadata": {},
   "outputs": [
    {
     "name": "stdout",
     "output_type": "stream",
     "text": [
      "['Multi-player;Online Multi-Player;Local Multi-Player;Valve Anti-Cheat enabled'\n",
      " 'Multi-player;Valve Anti-Cheat enabled'\n",
      " 'Single-player;Multi-player;Valve Anti-Cheat enabled' ...\n",
      " 'Online Multi-Player;Steam Achievements;Full controller support;In-App Purchases;Steam Cloud'\n",
      " 'Multi-player;Local Multi-Player;Co-op;Local Co-op;Shared/Split Screen'\n",
      " 'Multi-player;Online Multi-Player;Cross-Platform Multiplayer;Stats'] 3333\n"
     ]
    }
   ],
   "source": [
    "# Clean up categories\n",
    "# Convert Steam Categories + Genre + Steamspy Categories into one category and put it in an array\n",
    "print(df_steam[\"Steam Categories\"].unique(), len(df_steam[\"Steam Categories\"].unique()))"
   ]
  },
  {
   "cell_type": "code",
   "execution_count": 23,
   "metadata": {},
   "outputs": [
    {
     "name": "stdout",
     "output_type": "stream",
     "text": [
      "['Action' 'Action;Free to Play' 'Action;Free to Play;Strategy' ...\n",
      " 'Action;Adventure;Indie;Massively Multiplayer;RPG;Strategy;Early Access'\n",
      " 'Action;Adventure;Casual;Free to Play;Indie;RPG;Simulation;Sports;Strategy'\n",
      " 'Casual;Free to Play;Massively Multiplayer;RPG;Early Access'] 1552\n"
     ]
    }
   ],
   "source": [
    "print(df_steam[\"Genre\"].unique(), len(df_steam[\"Genre\"].unique()))"
   ]
  },
  {
   "cell_type": "code",
   "execution_count": 24,
   "metadata": {},
   "outputs": [
    {
     "name": "stdout",
     "output_type": "stream",
     "text": [
      "['Action;FPS;Multiplayer' 'FPS;World War II;Multiplayer'\n",
      " 'FPS;Action;Sci-fi' ... 'Casual;Adventure;Arcade'\n",
      " 'Free to Play;Visual Novel' 'Early Access;Adventure;Sexual Content'] 6423\n"
     ]
    }
   ],
   "source": [
    "print(df_steam[\"Steamspy Categories\"].unique(), len(df_steam[\"Steamspy Categories\"].unique()))"
   ]
  },
  {
   "cell_type": "code",
   "execution_count": 25,
   "metadata": {},
   "outputs": [
    {
     "data": {
      "text/plain": [
       "array(['ACTION', 'CASUAL', 'ROLE_PLAYING', 'PUZZLE', 'RACING',\n",
       "       'ADVENTURE', 'ARCADE', 'STRATEGY', 'SPORTS', 'SIMULATION', 'MUSIC',\n",
       "       'EDUCATIONAL', 'WORD', 'TRIVIA', 'BOARD', 'CASINO', 'CARD'],\n",
       "      dtype=object)"
      ]
     },
     "execution_count": 25,
     "metadata": {},
     "output_type": "execute_result"
    }
   ],
   "source": [
    "# Convert Google Play Categories into same style as Steam\n",
    "df_googleplay[\"Category\"].unique()"
   ]
  },
  {
   "cell_type": "code",
   "execution_count": 26,
   "metadata": {},
   "outputs": [],
   "source": [
    "# A function that saves arrays into text files\n",
    "def array2txt(array, file_name = 'output.txt'):\n",
    "    with open(file_name, \"w\") as txt_file:\n",
    "        for i in array:\n",
    "            txt_file.write(i + \"\\n\")"
   ]
  },
  {
   "cell_type": "code",
   "execution_count": 27,
   "metadata": {},
   "outputs": [],
   "source": [
    "# Save the uncleaned categories into text files\n",
    "array2txt(df_steam[\"Steam Categories\"].unique(), 'steam_categories_uncleaned.txt')\n"
   ]
  },
  {
   "cell_type": "code",
   "execution_count": 28,
   "metadata": {},
   "outputs": [],
   "source": [
    "# Split the categories connected by semicolons\n",
    "def split_semi(array):\n",
    "    output = []\n",
    "    for i in array:\n",
    "        output.extend(i.split(';'))\n",
    "    return output"
   ]
  },
  {
   "cell_type": "code",
   "execution_count": 29,
   "metadata": {},
   "outputs": [
    {
     "data": {
      "text/plain": [
       "21447"
      ]
     },
     "execution_count": 29,
     "metadata": {},
     "output_type": "execute_result"
    }
   ],
   "source": [
    "split_semi(df_steam[\"Steam Categories\"].unique())\n",
    "len(split_semi(df_steam[\"Steam Categories\"].unique()))"
   ]
  },
  {
   "cell_type": "code",
   "execution_count": 30,
   "metadata": {},
   "outputs": [],
   "source": [
    "# Filter identical items in a list\n",
    "def unique(list1): \n",
    "    x = np.array(list1) \n",
    "    #print(np.unique(x))\n",
    "    return np.unique(x)"
   ]
  },
  {
   "cell_type": "code",
   "execution_count": 31,
   "metadata": {},
   "outputs": [
    {
     "data": {
      "text/plain": [
       "array(['1', '2', '3'], dtype='<U1')"
      ]
     },
     "execution_count": 31,
     "metadata": {},
     "output_type": "execute_result"
    }
   ],
   "source": [
    "unique([\"1\",\"1\",'2','3'])"
   ]
  },
  {
   "cell_type": "code",
   "execution_count": 32,
   "metadata": {},
   "outputs": [
    {
     "data": {
      "text/plain": [
       "array(['Captions available', 'Co-op', 'Commentary available',\n",
       "       'Cross-Platform Multiplayer', 'Full controller support',\n",
       "       'In-App Purchases', 'Includes Source SDK', 'Includes level editor',\n",
       "       'Local Co-op', 'Local Multi-Player', 'MMO', 'Mods',\n",
       "       'Mods (require HL2)', 'Multi-player', 'Online Co-op',\n",
       "       'Online Multi-Player', 'Partial Controller Support',\n",
       "       'Shared/Split Screen', 'Single-player', 'Stats',\n",
       "       'Steam Achievements', 'Steam Cloud', 'Steam Leaderboards',\n",
       "       'Steam Trading Cards', 'Steam Turn Notifications',\n",
       "       'Steam Workshop', 'SteamVR Collectibles', 'VR Support',\n",
       "       'Valve Anti-Cheat enabled'], dtype='<U26')"
      ]
     },
     "execution_count": 32,
     "metadata": {},
     "output_type": "execute_result"
    }
   ],
   "source": [
    "# Cleaned steam categories\n",
    "array_steam = unique(split_semi(df_steam[\"Steam Categories\"].unique()))\n",
    "array_steam"
   ]
  },
  {
   "cell_type": "code",
   "execution_count": 33,
   "metadata": {},
   "outputs": [
    {
     "data": {
      "text/plain": [
       "array(['Accounting', 'Action', 'Adventure', 'Animation & Modeling',\n",
       "       'Audio Production', 'Casual', 'Design & Illustration',\n",
       "       'Documentary', 'Early Access', 'Education', 'Free to Play',\n",
       "       'Game Development', 'Gore', 'Indie', 'Massively Multiplayer',\n",
       "       'Nudity', 'Photo Editing', 'RPG', 'Racing', 'Sexual Content',\n",
       "       'Simulation', 'Software Training', 'Sports', 'Strategy',\n",
       "       'Tutorial', 'Utilities', 'Video Production', 'Violent',\n",
       "       'Web Publishing'], dtype='<U21')"
      ]
     },
     "execution_count": 33,
     "metadata": {},
     "output_type": "execute_result"
    }
   ],
   "source": [
    "# Cleaned steam genres\n",
    "array_genre = unique(split_semi(df_steam[\"Genre\"].unique()))\n",
    "array_genre"
   ]
  },
  {
   "cell_type": "code",
   "execution_count": 34,
   "metadata": {},
   "outputs": [
    {
     "data": {
      "text/plain": [
       "array(['1980s', \"1990's\", '2.5D', '2D', '2D Fighter', '360 Video', '3D',\n",
       "       '3D Platformer', '3D Vision', '4 Player Local', '4X', '6DOF',\n",
       "       'Abstract', 'Action', 'Action RPG', 'Action-Adventure',\n",
       "       'Adventure', 'Agriculture', 'Aliens', 'Alternate History',\n",
       "       'America', 'Animation & Modeling', 'Anime', 'Arcade',\n",
       "       'Arena Shooter', 'Assassin', 'Atmospheric', 'Audio Production',\n",
       "       'BMX', 'Base-Building', 'Baseball', 'Basketball', 'Batman',\n",
       "       'Battle Royale', \"Beat 'em up\", 'Beautiful', 'Benchmark', 'Bikes',\n",
       "       'Blood', 'Board Game', 'Bowling', 'Building', 'Bullet Hell',\n",
       "       'Bullet Time', 'CRPG', 'Capitalism', 'Card Game', 'Cartoon',\n",
       "       'Cartoony', 'Casual', 'Cats', 'Character Action Game',\n",
       "       'Character Customization', 'Chess', 'Choices Matter',\n",
       "       'Choose Your Own Adventure', 'Cinematic', 'City Builder',\n",
       "       'Class-Based', 'Classic', 'Clicker', 'Co-op', 'Cold War',\n",
       "       'Colorful', 'Comedy', 'Comic Book', 'Competitive', 'Controller',\n",
       "       'Conversation', 'Crafting', 'Crime', 'Cult Classic', 'Cute',\n",
       "       'Cyberpunk', 'Cycling', 'Dark', 'Dark Fantasy', 'Dark Humor',\n",
       "       'Dating Sim', 'Demons', 'Design & Illustration', 'Destruction',\n",
       "       'Detective', 'Difficult', 'Dinosaurs', 'Diplomacy', 'Documentary',\n",
       "       'Dog', 'Dragons', 'Drama', 'Driving', 'Dungeon Crawler',\n",
       "       'Dungeons & Dragons', 'Dystopian ', 'Early Access', 'Economy',\n",
       "       'Education', 'Epic', 'Experimental', 'Exploration', 'FMV', 'FPS',\n",
       "       'Faith', 'Family Friendly', 'Fantasy', 'Fast-Paced',\n",
       "       'Female Protagonist', 'Fighting', 'First-Person', 'Fishing',\n",
       "       'Flight', 'Football', 'Free to Play', 'Funny', 'Futuristic',\n",
       "       'Gambling', 'Game Development', 'GameMaker', 'Games Workshop',\n",
       "       'God Game', 'Golf', 'Gore', 'Gothic', 'Grand Strategy',\n",
       "       'Great Soundtrack', 'Grid-Based Movement', 'Gun Customization',\n",
       "       'Hack and Slash', 'Hacking', 'Hand-drawn', 'Heist', 'Hex Grid',\n",
       "       'Hidden Object', 'Historical', 'Hockey', 'Horror', 'Horses',\n",
       "       'Hunting', 'Illuminati', 'Indie', 'Intentionally Awkward Controls',\n",
       "       'Interactive Fiction', 'Inventory Management', 'Investigation',\n",
       "       'Isometric', 'JRPG', 'Kickstarter', 'LEGO', 'Lara Croft',\n",
       "       'Lemmings', 'Level Editor', 'Linear', 'Local Co-Op',\n",
       "       'Local Multiplayer', 'Logic', 'Loot', 'Lovecraftian', 'MMORPG',\n",
       "       'MOBA', 'Magic', 'Management', 'Mars', 'Martial Arts',\n",
       "       'Massively Multiplayer', 'Masterpiece', 'Match 3', 'Mature',\n",
       "       'Mechs', 'Medieval', 'Memes', 'Metroidvania', 'Military',\n",
       "       'Mini Golf', 'Minimalist', 'Mining', 'Mod', 'Moddable',\n",
       "       'Motocross', 'Motorbike', 'Mouse only', 'Movie', 'Multiplayer',\n",
       "       'Multiple Endings', 'Music', 'Music-Based Procedural Generation',\n",
       "       'Mystery', 'Mystery Dungeon', 'Mythology', 'NSFW', 'Narration',\n",
       "       'Naval', 'Ninja', 'Noir', 'Nonlinear', 'Nudity', 'Offroad',\n",
       "       'Old School', 'On-Rails Shooter', 'Online Co-Op', 'Open World',\n",
       "       'Otome', 'Parkour', 'Parody ', 'Party-Based RPG', 'Perma Death',\n",
       "       'Philisophical', 'Photo Editing', 'Physics', 'Pinball', 'Pirates',\n",
       "       'Pixel Graphics', 'Platformer', 'Point & Click', 'Political',\n",
       "       'Politics', 'Pool', 'Post-apocalyptic', 'Procedural Generation',\n",
       "       'Programming', 'Psychedelic', 'Psychological',\n",
       "       'Psychological Horror', 'Puzzle', 'Puzzle-Platformer', 'PvP',\n",
       "       'Quick-Time Events', 'RPG', 'RPGMaker', 'RTS', 'Racing',\n",
       "       'Real Time Tactics', 'Real-Time', 'Real-Time with Pause',\n",
       "       'Realistic', 'Relaxing', 'Remake', 'Replay Value',\n",
       "       'Resource Management', 'Retro', 'Rhythm', 'Robots', 'Rogue-like',\n",
       "       'Rogue-lite', 'Romance', 'Rome', 'Runner', 'Sailing', 'Sandbox',\n",
       "       'Satire', 'Sci-fi', 'Science', 'Score Attack', 'Sexual Content',\n",
       "       \"Shoot 'Em Up\", 'Shooter', 'Short', 'Side Scroller', 'Simulation',\n",
       "       'Singleplayer', 'Skateboarding', 'Skating', 'Sniper', 'Snow',\n",
       "       'Snowboarding', 'Soccer', 'Software', 'Software Training',\n",
       "       'Sokoban', 'Souls-like', 'Space', 'Space Sim', 'Spectacle fighter',\n",
       "       'Spelling', 'Split Screen', 'Sports', 'Star Wars', 'Stealth',\n",
       "       'Steampunk', 'Story Rich', 'Strategy', 'Strategy RPG', 'Stylized',\n",
       "       'Submarine', 'Superhero', 'Supernatural', 'Surreal', 'Survival',\n",
       "       'Survival Horror', 'Swordplay', 'Tactical', 'Tactical RPG',\n",
       "       'Tanks', 'Team-Based', 'Tennis', 'Text-Based', 'Third Person',\n",
       "       'Third-Person Shooter', 'Thriller', 'Time Attack',\n",
       "       'Time Management', 'Time Manipulation', 'Time Travel', 'Top-Down',\n",
       "       'Top-Down Shooter', 'Touch-Friendly', 'Tower Defense', 'Trading',\n",
       "       'Trading Card Game', 'Trains', 'Turn-Based', 'Turn-Based Combat',\n",
       "       'Turn-Based Strategy', 'Turn-Based Tactics', 'Twin Stick Shooter',\n",
       "       'Typing', 'Underwater', 'Utilities', 'VR', 'VR Only', 'Vampire',\n",
       "       'Video Production', 'Villain Protagonist', 'Violent',\n",
       "       'Visual Novel', 'Voice Control', 'Voxel', 'Walking Simulator',\n",
       "       'War', 'Wargame', 'Warhammer 40K', 'Web Publishing', 'Werewolves',\n",
       "       'Western', 'Word Game', 'World War I', 'World War II', 'Wrestling',\n",
       "       'Zombies', 'e-sports'], dtype='<U33')"
      ]
     },
     "execution_count": 34,
     "metadata": {},
     "output_type": "execute_result"
    }
   ],
   "source": [
    "# Cleaned steamspy categories\n",
    "array_steampy = unique(split_semi(df_steam[\"Steamspy Categories\"].unique()))\n",
    "array_steampy"
   ]
  },
  {
   "cell_type": "code",
   "execution_count": 35,
   "metadata": {},
   "outputs": [],
   "source": [
    "# Save cleaned categories into text files\n",
    "array2txt(array_steam, 'steam_categories_cleaned.txt')\n",
    "array2txt(array_genre, 'steam_genres_cleaned.txt')\n",
    "array2txt(array_steampy, 'steamspy_categories_cleaned.txt')"
   ]
  },
  {
   "cell_type": "code",
   "execution_count": 36,
   "metadata": {},
   "outputs": [
    {
     "name": "stdout",
     "output_type": "stream",
     "text": [
      "['Captions available' 'Co-op' 'Commentary available'\n",
      " 'Cross-Platform Multiplayer' 'Full controller support' 'In-App Purchases'\n",
      " 'Includes Source SDK' 'Includes level editor' 'Local Co-op'\n",
      " 'Local Multi-Player' 'MMO' 'Mods' 'Mods (require HL2)' 'Multi-player'\n",
      " 'Online Co-op' 'Online Multi-Player' 'Partial Controller Support'\n",
      " 'Shared/Split Screen' 'Single-player' 'Stats' 'Steam Achievements'\n",
      " 'Steam Cloud' 'Steam Leaderboards' 'Steam Trading Cards'\n",
      " 'Steam Turn Notifications' 'Steam Workshop' 'SteamVR Collectibles'\n",
      " 'VR Support' 'Valve Anti-Cheat enabled' 'Accounting' 'Action' 'Adventure'\n",
      " 'Animation & Modeling' 'Audio Production' 'Casual'\n",
      " 'Design & Illustration' 'Documentary' 'Early Access' 'Education'\n",
      " 'Free to Play' 'Game Development' 'Gore' 'Indie' 'Massively Multiplayer'\n",
      " 'Nudity' 'Photo Editing' 'RPG' 'Racing' 'Sexual Content' 'Simulation'\n",
      " 'Software Training' 'Sports' 'Strategy' 'Tutorial' 'Utilities'\n",
      " 'Video Production' 'Violent' 'Web Publishing' '1980s' \"1990's\" '2.5D'\n",
      " '2D' '2D Fighter' '360 Video' '3D' '3D Platformer' '3D Vision'\n",
      " '4 Player Local' '4X' '6DOF' 'Abstract' 'Action' 'Action RPG'\n",
      " 'Action-Adventure' 'Adventure' 'Agriculture' 'Aliens' 'Alternate History'\n",
      " 'America' 'Animation & Modeling' 'Anime' 'Arcade' 'Arena Shooter'\n",
      " 'Assassin' 'Atmospheric' 'Audio Production' 'BMX' 'Base-Building'\n",
      " 'Baseball' 'Basketball' 'Batman' 'Battle Royale' \"Beat 'em up\"\n",
      " 'Beautiful' 'Benchmark' 'Bikes' 'Blood' 'Board Game' 'Bowling' 'Building'\n",
      " 'Bullet Hell' 'Bullet Time' 'CRPG' 'Capitalism' 'Card Game' 'Cartoon'\n",
      " 'Cartoony' 'Casual' 'Cats' 'Character Action Game'\n",
      " 'Character Customization' 'Chess' 'Choices Matter'\n",
      " 'Choose Your Own Adventure' 'Cinematic' 'City Builder' 'Class-Based'\n",
      " 'Classic' 'Clicker' 'Co-op' 'Cold War' 'Colorful' 'Comedy' 'Comic Book'\n",
      " 'Competitive' 'Controller' 'Conversation' 'Crafting' 'Crime'\n",
      " 'Cult Classic' 'Cute' 'Cyberpunk' 'Cycling' 'Dark' 'Dark Fantasy'\n",
      " 'Dark Humor' 'Dating Sim' 'Demons' 'Design & Illustration' 'Destruction'\n",
      " 'Detective' 'Difficult' 'Dinosaurs' 'Diplomacy' 'Documentary' 'Dog'\n",
      " 'Dragons' 'Drama' 'Driving' 'Dungeon Crawler' 'Dungeons & Dragons'\n",
      " 'Dystopian ' 'Early Access' 'Economy' 'Education' 'Epic' 'Experimental'\n",
      " 'Exploration' 'FMV' 'FPS' 'Faith' 'Family Friendly' 'Fantasy'\n",
      " 'Fast-Paced' 'Female Protagonist' 'Fighting' 'First-Person' 'Fishing'\n",
      " 'Flight' 'Football' 'Free to Play' 'Funny' 'Futuristic' 'Gambling'\n",
      " 'Game Development' 'GameMaker' 'Games Workshop' 'God Game' 'Golf' 'Gore'\n",
      " 'Gothic' 'Grand Strategy' 'Great Soundtrack' 'Grid-Based Movement'\n",
      " 'Gun Customization' 'Hack and Slash' 'Hacking' 'Hand-drawn' 'Heist'\n",
      " 'Hex Grid' 'Hidden Object' 'Historical' 'Hockey' 'Horror' 'Horses'\n",
      " 'Hunting' 'Illuminati' 'Indie' 'Intentionally Awkward Controls'\n",
      " 'Interactive Fiction' 'Inventory Management' 'Investigation' 'Isometric'\n",
      " 'JRPG' 'Kickstarter' 'LEGO' 'Lara Croft' 'Lemmings' 'Level Editor'\n",
      " 'Linear' 'Local Co-Op' 'Local Multiplayer' 'Logic' 'Loot' 'Lovecraftian'\n",
      " 'MMORPG' 'MOBA' 'Magic' 'Management' 'Mars' 'Martial Arts'\n",
      " 'Massively Multiplayer' 'Masterpiece' 'Match 3' 'Mature' 'Mechs'\n",
      " 'Medieval' 'Memes' 'Metroidvania' 'Military' 'Mini Golf' 'Minimalist'\n",
      " 'Mining' 'Mod' 'Moddable' 'Motocross' 'Motorbike' 'Mouse only' 'Movie'\n",
      " 'Multiplayer' 'Multiple Endings' 'Music'\n",
      " 'Music-Based Procedural Generation' 'Mystery' 'Mystery Dungeon'\n",
      " 'Mythology' 'NSFW' 'Narration' 'Naval' 'Ninja' 'Noir' 'Nonlinear'\n",
      " 'Nudity' 'Offroad' 'Old School' 'On-Rails Shooter' 'Online Co-Op'\n",
      " 'Open World' 'Otome' 'Parkour' 'Parody ' 'Party-Based RPG' 'Perma Death'\n",
      " 'Philisophical' 'Photo Editing' 'Physics' 'Pinball' 'Pirates'\n",
      " 'Pixel Graphics' 'Platformer' 'Point & Click' 'Political' 'Politics'\n",
      " 'Pool' 'Post-apocalyptic' 'Procedural Generation' 'Programming'\n",
      " 'Psychedelic' 'Psychological' 'Psychological Horror' 'Puzzle'\n",
      " 'Puzzle-Platformer' 'PvP' 'Quick-Time Events' 'RPG' 'RPGMaker' 'RTS'\n",
      " 'Racing' 'Real Time Tactics' 'Real-Time' 'Real-Time with Pause'\n",
      " 'Realistic' 'Relaxing' 'Remake' 'Replay Value' 'Resource Management'\n",
      " 'Retro' 'Rhythm' 'Robots' 'Rogue-like' 'Rogue-lite' 'Romance' 'Rome'\n",
      " 'Runner' 'Sailing' 'Sandbox' 'Satire' 'Sci-fi' 'Science' 'Score Attack'\n",
      " 'Sexual Content' \"Shoot 'Em Up\" 'Shooter' 'Short' 'Side Scroller'\n",
      " 'Simulation' 'Singleplayer' 'Skateboarding' 'Skating' 'Sniper' 'Snow'\n",
      " 'Snowboarding' 'Soccer' 'Software' 'Software Training' 'Sokoban'\n",
      " 'Souls-like' 'Space' 'Space Sim' 'Spectacle fighter' 'Spelling'\n",
      " 'Split Screen' 'Sports' 'Star Wars' 'Stealth' 'Steampunk' 'Story Rich'\n",
      " 'Strategy' 'Strategy RPG' 'Stylized' 'Submarine' 'Superhero'\n",
      " 'Supernatural' 'Surreal' 'Survival' 'Survival Horror' 'Swordplay'\n",
      " 'Tactical' 'Tactical RPG' 'Tanks' 'Team-Based' 'Tennis' 'Text-Based'\n",
      " 'Third Person' 'Third-Person Shooter' 'Thriller' 'Time Attack'\n",
      " 'Time Management' 'Time Manipulation' 'Time Travel' 'Top-Down'\n",
      " 'Top-Down Shooter' 'Touch-Friendly' 'Tower Defense' 'Trading'\n",
      " 'Trading Card Game' 'Trains' 'Turn-Based' 'Turn-Based Combat'\n",
      " 'Turn-Based Strategy' 'Turn-Based Tactics' 'Twin Stick Shooter' 'Typing'\n",
      " 'Underwater' 'Utilities' 'VR' 'VR Only' 'Vampire' 'Video Production'\n",
      " 'Villain Protagonist' 'Violent' 'Visual Novel' 'Voice Control' 'Voxel'\n",
      " 'Walking Simulator' 'War' 'Wargame' 'Warhammer 40K' 'Web Publishing'\n",
      " 'Werewolves' 'Western' 'Word Game' 'World War I' 'World War II'\n",
      " 'Wrestling' 'Zombies' 'e-sports' 'ACTION' 'CASUAL' 'ROLE_PLAYING'\n",
      " 'PUZZLE' 'RACING' 'ADVENTURE' 'ARCADE' 'STRATEGY' 'SPORTS' 'SIMULATION'\n",
      " 'MUSIC' 'EDUCATIONAL' 'WORD' 'TRIVIA' 'BOARD' 'CASINO' 'CARD'] 414\n"
     ]
    }
   ],
   "source": [
    "# Combine all the categories into one single array\n",
    "array_googleplay = df_googleplay[\"Category\"].unique()\n",
    "all_categories = np.concatenate((array_steam, array_genre, array_steampy, array_googleplay), axis=0)\n",
    "print(all_categories, len(all_categories))"
   ]
  },
  {
   "cell_type": "code",
   "execution_count": 37,
   "metadata": {
    "scrolled": true
   },
   "outputs": [
    {
     "name": "stdout",
     "output_type": "stream",
     "text": [
      "['Captions available' 'Co-op' 'Commentary available'\n",
      " 'Cross-Platform Multiplayer' 'Full controller support' 'In-App Purchases'\n",
      " 'Includes Source SDK' 'Includes level editor' 'Local Co-op'\n",
      " 'Local Multi-Player' 'MMO' 'Mods' 'Mods (require HL2)' 'Multi-player'\n",
      " 'Online Co-op' 'Online Multi-Player' 'Partial Controller Support'\n",
      " 'Shared/Split Screen' 'Single-player' 'Stats' 'Steam Achievements'\n",
      " 'Steam Cloud' 'Steam Leaderboards' 'Steam Trading Cards'\n",
      " 'Steam Turn Notifications' 'Steam Workshop' 'SteamVR Collectibles'\n",
      " 'VR Support' 'Valve Anti-Cheat enabled' 'Accounting' 'Action' 'Adventure'\n",
      " 'Animation & Modeling' 'Audio Production' 'Casual'\n",
      " 'Design & Illustration' 'Documentary' 'Early Access' 'Education'\n",
      " 'Free to Play' 'Game Development' 'Gore' 'Indie' 'Massively Multiplayer'\n",
      " 'Nudity' 'Photo Editing' 'RPG' 'Racing' 'Sexual Content' 'Simulation'\n",
      " 'Software Training' 'Sports' 'Strategy' 'Tutorial' 'Utilities'\n",
      " 'Video Production' 'Violent' 'Web Publishing' '1980s' \"1990's\" '2.5D'\n",
      " '2D' '2D Fighter' '360 Video' '3D' '3D Platformer' '3D Vision'\n",
      " '4 Player Local' '4X' '6DOF' 'Abstract' 'Action' 'Action RPG'\n",
      " 'Action-Adventure' 'Adventure' 'Agriculture' 'Aliens' 'Alternate History'\n",
      " 'America' 'Animation & Modeling' 'Anime' 'Arcade' 'Arena Shooter'\n",
      " 'Assassin' 'Atmospheric' 'Audio Production' 'BMX' 'Base-Building'\n",
      " 'Baseball' 'Basketball' 'Batman' 'Battle Royale' \"Beat 'em up\"\n",
      " 'Beautiful' 'Benchmark' 'Bikes' 'Blood' 'Board Game' 'Bowling' 'Building'\n",
      " 'Bullet Hell' 'Bullet Time' 'CRPG' 'Capitalism' 'Card Game' 'Cartoon'\n",
      " 'Cartoony' 'Casual' 'Cats' 'Character Action Game'\n",
      " 'Character Customization' 'Chess' 'Choices Matter'\n",
      " 'Choose Your Own Adventure' 'Cinematic' 'City Builder' 'Class-Based'\n",
      " 'Classic' 'Clicker' 'Co-op' 'Cold War' 'Colorful' 'Comedy' 'Comic Book'\n",
      " 'Competitive' 'Controller' 'Conversation' 'Crafting' 'Crime'\n",
      " 'Cult Classic' 'Cute' 'Cyberpunk' 'Cycling' 'Dark' 'Dark Fantasy'\n",
      " 'Dark Humor' 'Dating Sim' 'Demons' 'Design & Illustration' 'Destruction'\n",
      " 'Detective' 'Difficult' 'Dinosaurs' 'Diplomacy' 'Documentary' 'Dog'\n",
      " 'Dragons' 'Drama' 'Driving' 'Dungeon Crawler' 'Dungeons & Dragons'\n",
      " 'Dystopian ' 'Early Access' 'Economy' 'Education' 'Epic' 'Experimental'\n",
      " 'Exploration' 'FMV' 'FPS' 'Faith' 'Family Friendly' 'Fantasy'\n",
      " 'Fast-Paced' 'Female Protagonist' 'Fighting' 'First-Person' 'Fishing'\n",
      " 'Flight' 'Football' 'Free to Play' 'Funny' 'Futuristic' 'Gambling'\n",
      " 'Game Development' 'GameMaker' 'Games Workshop' 'God Game' 'Golf' 'Gore'\n",
      " 'Gothic' 'Grand Strategy' 'Great Soundtrack' 'Grid-Based Movement'\n",
      " 'Gun Customization' 'Hack and Slash' 'Hacking' 'Hand-drawn' 'Heist'\n",
      " 'Hex Grid' 'Hidden Object' 'Historical' 'Hockey' 'Horror' 'Horses'\n",
      " 'Hunting' 'Illuminati' 'Indie' 'Intentionally Awkward Controls'\n",
      " 'Interactive Fiction' 'Inventory Management' 'Investigation' 'Isometric'\n",
      " 'JRPG' 'Kickstarter' 'LEGO' 'Lara Croft' 'Lemmings' 'Level Editor'\n",
      " 'Linear' 'Local Co-Op' 'Local Multiplayer' 'Logic' 'Loot' 'Lovecraftian'\n",
      " 'MMORPG' 'MOBA' 'Magic' 'Management' 'Mars' 'Martial Arts'\n",
      " 'Massively Multiplayer' 'Masterpiece' 'Match 3' 'Mature' 'Mechs'\n",
      " 'Medieval' 'Memes' 'Metroidvania' 'Military' 'Mini Golf' 'Minimalist'\n",
      " 'Mining' 'Mod' 'Moddable' 'Motocross' 'Motorbike' 'Mouse only' 'Movie'\n",
      " 'Multiplayer' 'Multiple Endings' 'Music'\n",
      " 'Music-Based Procedural Generation' 'Mystery' 'Mystery Dungeon'\n",
      " 'Mythology' 'NSFW' 'Narration' 'Naval' 'Ninja' 'Noir' 'Nonlinear'\n",
      " 'Nudity' 'Offroad' 'Old School' 'On-Rails Shooter' 'Online Co-Op'\n",
      " 'Open World' 'Otome' 'Parkour' 'Parody ' 'Party-Based RPG' 'Perma Death'\n",
      " 'Philisophical' 'Photo Editing' 'Physics' 'Pinball' 'Pirates'\n",
      " 'Pixel Graphics' 'Platformer' 'Point & Click' 'Political' 'Politics'\n",
      " 'Pool' 'Post-apocalyptic' 'Procedural Generation' 'Programming'\n",
      " 'Psychedelic' 'Psychological' 'Psychological Horror' 'Puzzle'\n",
      " 'Puzzle-Platformer' 'PvP' 'Quick-Time Events' 'RPG' 'RPGMaker' 'RTS'\n",
      " 'Racing' 'Real Time Tactics' 'Real-Time' 'Real-Time with Pause'\n",
      " 'Realistic' 'Relaxing' 'Remake' 'Replay Value' 'Resource Management'\n",
      " 'Retro' 'Rhythm' 'Robots' 'Rogue-like' 'Rogue-lite' 'Romance' 'Rome'\n",
      " 'Runner' 'Sailing' 'Sandbox' 'Satire' 'Sci-fi' 'Science' 'Score Attack'\n",
      " 'Sexual Content' \"Shoot 'Em Up\" 'Shooter' 'Short' 'Side Scroller'\n",
      " 'Simulation' 'Singleplayer' 'Skateboarding' 'Skating' 'Sniper' 'Snow'\n",
      " 'Snowboarding' 'Soccer' 'Software' 'Software Training' 'Sokoban'\n",
      " 'Souls-like' 'Space' 'Space Sim' 'Spectacle fighter' 'Spelling'\n",
      " 'Split Screen' 'Sports' 'Star Wars' 'Stealth' 'Steampunk' 'Story Rich'\n",
      " 'Strategy' 'Strategy RPG' 'Stylized' 'Submarine' 'Superhero'\n",
      " 'Supernatural' 'Surreal' 'Survival' 'Survival Horror' 'Swordplay'\n",
      " 'Tactical' 'Tactical RPG' 'Tanks' 'Team-Based' 'Tennis' 'Text-Based'\n",
      " 'Third Person' 'Third-Person Shooter' 'Thriller' 'Time Attack'\n",
      " 'Time Management' 'Time Manipulation' 'Time Travel' 'Top-Down'\n",
      " 'Top-Down Shooter' 'Touch-Friendly' 'Tower Defense' 'Trading'\n",
      " 'Trading Card Game' 'Trains' 'Turn-Based' 'Turn-Based Combat'\n",
      " 'Turn-Based Strategy' 'Turn-Based Tactics' 'Twin Stick Shooter' 'Typing'\n",
      " 'Underwater' 'Utilities' 'VR' 'VR Only' 'Vampire' 'Video Production'\n",
      " 'Villain Protagonist' 'Violent' 'Visual Novel' 'Voice Control' 'Voxel'\n",
      " 'Walking Simulator' 'War' 'Wargame' 'Warhammer 40K' 'Web Publishing'\n",
      " 'Werewolves' 'Western' 'Word Game' 'World War I' 'World War II'\n",
      " 'Wrestling' 'Zombies' 'e-sports'] 397\n"
     ]
    }
   ],
   "source": [
    "# Also prepare steam and google play as 2 separate groups of categories\n",
    "all_steam = np.concatenate((array_steam, array_genre, array_steampy), axis=0)\n",
    "print(all_steam, len(all_steam))\n",
    "array2txt(all_steam, 'all_steam_categories_cleaned.txt')\n",
    "array2txt(array_googleplay, 'googleplay_categories.txt')"
   ]
  },
  {
   "cell_type": "markdown",
   "metadata": {},
   "source": [
    "# Datasets Compilation"
   ]
  },
  {
   "cell_type": "markdown",
   "metadata": {},
   "source": [
    "Create datasets to be used in data analysis"
   ]
  },
  {
   "cell_type": "markdown",
   "metadata": {},
   "source": [
    "### all the datasets available so far:\n",
    "`df_steam` <br>\n",
    "`df_googleplay` <br>\n",
    "`array_steam` <br>\n",
    "`array_genre` <br>\n",
    "`array_steampy` <br>\n",
    "`array_googleplay` <br>\n",
    "`all_steam` <br>\n",
    "`all_categories` <br>\n",
    "`steam_avg` <br>\n",
    "`googleplay_avg` <br>"
   ]
  },
  {
   "cell_type": "code",
   "execution_count": 38,
   "metadata": {},
   "outputs": [
    {
     "data": {
      "text/plain": [
       "4.129128248469181"
      ]
     },
     "execution_count": 38,
     "metadata": {},
     "output_type": "execute_result"
    }
   ],
   "source": [
    "# mean rating of steam\n",
    "df_steam['AvgRating']\n",
    "df_steam['NumRating'].sum()\n",
    "steam_avg = np.multiply(df_steam['AvgRating'], df_steam['NumRating']).sum()/df_steam['NumRating'].sum() * 5\n",
    "steam_avg"
   ]
  },
  {
   "cell_type": "code",
   "execution_count": 39,
   "metadata": {},
   "outputs": [
    {
     "data": {
      "text/plain": [
       "4.4378157379329695"
      ]
     },
     "execution_count": 39,
     "metadata": {},
     "output_type": "execute_result"
    }
   ],
   "source": [
    "# mean rating of googleplay\n",
    "googleplay_avg = np.multiply(df_googleplay['Rating'], df_googleplay['NumRating']).sum()/df_googleplay['NumRating'].sum()\n",
    "googleplay_avg"
   ]
  },
  {
   "cell_type": "code",
   "execution_count": 40,
   "metadata": {},
   "outputs": [],
   "source": [
    "# Find similarities between the two\n",
    "def similar_categories(a, b):\n",
    "    a_set = set(a)\n",
    "    b_set = set(b)\n",
    "\n",
    "    if(len(a_set.intersection(b_set)) > 0):\n",
    "        return a_set.intersection(b_set);\n",
    "    else:\n",
    "        return \"no similarities\""
   ]
  },
  {
   "cell_type": "code",
   "execution_count": 41,
   "metadata": {},
   "outputs": [
    {
     "name": "stdout",
     "output_type": "stream",
     "text": [
      "{'adventure', 'casual', 'simulation', 'sports', 'action', 'racing', 'strategy'}\n"
     ]
    }
   ],
   "source": [
    "print(similar_categories([x.lower() for x in array_genre], [y.lower() for y in array_googleplay]))"
   ]
  },
  {
   "cell_type": "code",
   "execution_count": null,
   "metadata": {},
   "outputs": [],
   "source": [
    "# Above categories are what we care about when we run code, so get our similar categories extracted\n",
    "# ALL EXTRACTION IS WEIGHTED, BASED ON NUM OF REVIEWS, NOT NUM OF GAMES\n",
    "# ADVENTURE FOR BOTH\n",
    "steam_adv = df_steam[df_steam['Genre'].str.contains(\"adventure\", case=False)]\n",
    "steam_adv.head(5)\n",
    "#steam_adv_avg = np.multiply(steam_adv['AvgRating'], steam_adv['NumRating']).sum()/steam_adv['NumRating'].sum() * 5\n",
    "#steam_adv_avg\n",
    "#google_adv = df_googleplay[df_googleplay['Category'].str.contains(\"adventure\", case=False)]\n",
    "#google_adv\n",
    "#google_adv_avg = np.multiply(google_adv['Rating'], google_adv['NumRating']).sum()/google_adv['NumRating'].sum()\n",
    "#google_adv_avg"
   ]
  },
  {
   "cell_type": "code",
   "execution_count": 55,
   "metadata": {},
   "outputs": [
    {
     "data": {
      "text/plain": [
       "4.422157355730271"
      ]
     },
     "execution_count": 55,
     "metadata": {},
     "output_type": "execute_result"
    }
   ],
   "source": [
    "# CASUAL FOR BOTH\n",
    "steam_cas = df_steam[df_steam['Genre'].str.contains(\"casual\", case=False)]\n",
    "steam_cas\n",
    "steam_cas_avg = np.multiply(steam_cas['AvgRating'], steam_cas['NumRating']).sum()/steam_cas['NumRating'].sum() * 5\n",
    "steam_cas_avg\n",
    "google_cas = df_googleplay[df_googleplay['Category'].str.contains(\"casual\", case=False)]\n",
    "google_cas\n",
    "google_cas_avg = np.multiply(google_cas['Rating'], google_cas['NumRating']).sum()/google_cas['NumRating'].sum()\n",
    "google_cas_avg"
   ]
  },
  {
   "cell_type": "code",
   "execution_count": 56,
   "metadata": {},
   "outputs": [
    {
     "data": {
      "text/plain": [
       "4.441160775274634"
      ]
     },
     "execution_count": 56,
     "metadata": {},
     "output_type": "execute_result"
    }
   ],
   "source": [
    "# SIMULATION FOR BOTH\n",
    "steam_sim = df_steam[df_steam['Genre'].str.contains(\"simulation\", case=False)]\n",
    "steam_sim\n",
    "steam_sim_avg = np.multiply(steam_sim['AvgRating'], steam_sim['NumRating']).sum()/steam_sim['NumRating'].sum() * 5\n",
    "steam_sim_avg\n",
    "google_sim = df_googleplay[df_googleplay['Category'].str.contains(\"simulation\", case=False)]\n",
    "google_sim\n",
    "google_sim_avg = np.multiply(google_sim['Rating'], google_sim['NumRating']).sum()/google_sim['NumRating'].sum()\n",
    "google_sim_avg"
   ]
  },
  {
   "cell_type": "code",
   "execution_count": 57,
   "metadata": {},
   "outputs": [
    {
     "data": {
      "text/plain": [
       "4.429699906912171"
      ]
     },
     "execution_count": 57,
     "metadata": {},
     "output_type": "execute_result"
    }
   ],
   "source": [
    "# SPORTS FOR BOTH\n",
    "steam_spt = df_steam[df_steam['Genre'].str.contains(\"sports\", case=False)]\n",
    "steam_spt\n",
    "steam_spt_avg = np.multiply(steam_spt['AvgRating'], steam_spt['NumRating']).sum()/steam_spt['NumRating'].sum() * 5\n",
    "steam_spt_avg\n",
    "google_spt = df_googleplay[df_googleplay['Category'].str.contains(\"sports\", case=False)]\n",
    "google_spt\n",
    "google_spt_avg = np.multiply(google_spt['Rating'], google_spt['NumRating']).sum()/google_spt['NumRating'].sum()\n",
    "google_spt_avg"
   ]
  },
  {
   "cell_type": "code",
   "execution_count": 58,
   "metadata": {},
   "outputs": [
    {
     "data": {
      "text/plain": [
       "4.4414171484927625"
      ]
     },
     "execution_count": 58,
     "metadata": {},
     "output_type": "execute_result"
    }
   ],
   "source": [
    "# ACTION FOR BOTH\n",
    "steam_act = df_steam[df_steam['Genre'].str.contains(\"action\", case=False)]\n",
    "steam_act\n",
    "steam_act_avg = np.multiply(steam_act['AvgRating'], steam_act['NumRating']).sum()/steam_act['NumRating'].sum() * 5\n",
    "steam_act_avg\n",
    "google_act = df_googleplay[df_googleplay['Category'].str.contains(\"action\", case=False)]\n",
    "google_act\n",
    "google_act_avg = np.multiply(google_act['Rating'], google_act['NumRating']).sum()/google_act['NumRating'].sum()\n",
    "google_act_avg"
   ]
  },
  {
   "cell_type": "code",
   "execution_count": 59,
   "metadata": {},
   "outputs": [
    {
     "data": {
      "text/plain": [
       "4.423843398407345"
      ]
     },
     "execution_count": 59,
     "metadata": {},
     "output_type": "execute_result"
    }
   ],
   "source": [
    "# RACING FOR BOTH\n",
    "steam_rac = df_steam[df_steam['Genre'].str.contains(\"racing\", case=False)]\n",
    "steam_rac\n",
    "steam_rac_avg = np.multiply(steam_rac['AvgRating'], steam_rac['NumRating']).sum()/steam_rac['NumRating'].sum() * 5\n",
    "steam_rac_avg\n",
    "google_rac = df_googleplay[df_googleplay['Category'].str.contains(\"racing\", case=False)]\n",
    "google_rac\n",
    "google_rac_avg = np.multiply(google_rac['Rating'], google_rac['NumRating']).sum()/google_rac['NumRating'].sum()\n",
    "google_rac_avg"
   ]
  },
  {
   "cell_type": "code",
   "execution_count": 61,
   "metadata": {},
   "outputs": [
    {
     "data": {
      "text/plain": [
       "4.4927580266566105"
      ]
     },
     "execution_count": 61,
     "metadata": {},
     "output_type": "execute_result"
    }
   ],
   "source": [
    "# STRATEGY FOR BOTH\n",
    "steam_stg = df_steam[df_steam['Genre'].str.contains(\"strategy\", case=False)]\n",
    "steam_stg\n",
    "steam_stg_avg = np.multiply(steam_stg['AvgRating'], steam_stg['NumRating']).sum()/steam_stg['NumRating'].sum() * 5\n",
    "steam_stg_avg\n",
    "google_stg = df_googleplay[df_googleplay['Category'].str.contains(\"strategy\", case=False)]\n",
    "google_stg\n",
    "google_stg_avg = np.multiply(google_stg['Rating'], google_stg['NumRating']).sum()/google_stg['NumRating'].sum()\n",
    "google_stg_avg"
   ]
  },
  {
   "cell_type": "markdown",
   "metadata": {},
   "source": [
    "###For similar data between the two, usable information is<br>\n",
    "Adventure Games:<br>\n",
    "    &nbsp;&nbsp;&nbsp;&nbsp;Steam:<br>\n",
    "        &nbsp;&nbsp;&nbsp;&nbsp;&nbsp;&nbsp;&nbsp;&nbsp;DF: steam_adv<br>\n",
    "        &nbsp;&nbsp;&nbsp;&nbsp;&nbsp;&nbsp;&nbsp;&nbsp;Avg Rating: steam_adv_avg<br>\n",
    "    &nbsp;&nbsp;&nbsp;&nbsp;Google Play:<br>\n",
    "        &nbsp;&nbsp;&nbsp;&nbsp;&nbsp;&nbsp;&nbsp;&nbsp;DF: google_adv<br>\n",
    "        &nbsp;&nbsp;&nbsp;&nbsp;&nbsp;&nbsp;&nbsp;&nbsp;Avg Rating: google_adv_avg<br>\n",
    "Casual Games:<br>\n",
    "    &nbsp;&nbsp;&nbsp;&nbsp;Steam:<br>\n",
    "        &nbsp;&nbsp;&nbsp;&nbsp;&nbsp;&nbsp;&nbsp;&nbsp;DF: steam_cas<br>\n",
    "        &nbsp;&nbsp;&nbsp;&nbsp;&nbsp;&nbsp;&nbsp;&nbsp;Avg Rating: steam_cas_avg<br>\n",
    "    &nbsp;&nbsp;&nbsp;&nbsp;Google Play:<br>\n",
    "        &nbsp;&nbsp;&nbsp;&nbsp;&nbsp;&nbsp;&nbsp;&nbsp;DF: google_cas<br>\n",
    "        &nbsp;&nbsp;&nbsp;&nbsp;&nbsp;&nbsp;&nbsp;&nbsp;Avg Rating: google_cas_avg<br>\n",
    "Simulation Games:<br>\n",
    "    &nbsp;&nbsp;&nbsp;&nbsp;Steam:<br>\n",
    "        &nbsp;&nbsp;&nbsp;&nbsp;&nbsp;&nbsp;&nbsp;&nbsp;DF: steam_sim<br>\n",
    "        &nbsp;&nbsp;&nbsp;&nbsp;&nbsp;&nbsp;&nbsp;&nbsp;Avg Rating: steam_sim_avg<br>\n",
    "    &nbsp;&nbsp;&nbsp;&nbsp;Google Play:<br>\n",
    "        &nbsp;&nbsp;&nbsp;&nbsp;&nbsp;&nbsp;&nbsp;&nbsp;DF: google_sim<br>\n",
    "        &nbsp;&nbsp;&nbsp;&nbsp;&nbsp;&nbsp;&nbsp;&nbsp;Avg Rating: google_sim_avg<br>\n",
    "Sports Games:<br>\n",
    "    &nbsp;&nbsp;&nbsp;&nbsp;Steam:<br>\n",
    "        &nbsp;&nbsp;&nbsp;&nbsp;&nbsp;&nbsp;&nbsp;&nbsp;DF: steam_spt<br>\n",
    "        &nbsp;&nbsp;&nbsp;&nbsp;&nbsp;&nbsp;&nbsp;&nbsp;Avg Rating: steam_spt_avg<br>\n",
    "    &nbsp;&nbsp;&nbsp;&nbsp;Google Play:<br>\n",
    "        &nbsp;&nbsp;&nbsp;&nbsp;&nbsp;&nbsp;&nbsp;&nbsp;DF: google_spt<br>\n",
    "        &nbsp;&nbsp;&nbsp;&nbsp;&nbsp;&nbsp;&nbsp;&nbsp;Avg Rating: google_spt_avg<br>\n",
    "Action Games:<br>\n",
    "    &nbsp;&nbsp;&nbsp;&nbsp;Steam:<br>\n",
    "        &nbsp;&nbsp;&nbsp;&nbsp;&nbsp;&nbsp;&nbsp;&nbsp;DF: steam_act<br>\n",
    "        &nbsp;&nbsp;&nbsp;&nbsp;&nbsp;&nbsp;&nbsp;&nbsp;Avg Rating: steam_act_avg<br>\n",
    "    &nbsp;&nbsp;&nbsp;&nbsp;Google Play:<br>\n",
    "        &nbsp;&nbsp;&nbsp;&nbsp;&nbsp;&nbsp;&nbsp;&nbsp;DF: google_act<br>\n",
    "        &nbsp;&nbsp;&nbsp;&nbsp;&nbsp;&nbsp;&nbsp;&nbsp;Avg Rating: google_act_avg<br>\n",
    "Racing Games:<br>\n",
    "    &nbsp;&nbsp;&nbsp;&nbsp;Steam:<br>\n",
    "        &nbsp;&nbsp;&nbsp;&nbsp;&nbsp;&nbsp;&nbsp;&nbsp;DF: steam_rac<br>\n",
    "        &nbsp;&nbsp;&nbsp;&nbsp;&nbsp;&nbsp;&nbsp;&nbsp;Avg Rating: steam_rac_avg<br>\n",
    "    &nbsp;&nbsp;&nbsp;&nbsp;Google Play:<br>\n",
    "        &nbsp;&nbsp;&nbsp;&nbsp;&nbsp;&nbsp;&nbsp;&nbsp;DF: google_rac<br>\n",
    "        &nbsp;&nbsp;&nbsp;&nbsp;&nbsp;&nbsp;&nbsp;&nbsp;Avg Rating: google_rac_avg<br>\n",
    "Strategy Games:<br>\n",
    "    &nbsp;&nbsp;&nbsp;&nbsp;Steam:<br>\n",
    "        &nbsp;&nbsp;&nbsp;&nbsp;&nbsp;&nbsp;&nbsp;&nbsp;DF: steam_stg<br>\n",
    "        &nbsp;&nbsp;&nbsp;&nbsp;&nbsp;&nbsp;&nbsp;&nbsp;Avg Rating: steam_stg_avg<br>\n",
    "    &nbsp;&nbsp;&nbsp;&nbsp;Google Play:<br>\n",
    "        &nbsp;&nbsp;&nbsp;&nbsp;&nbsp;&nbsp;&nbsp;&nbsp;DF: google_stg<br>\n",
    "        &nbsp;&nbsp;&nbsp;&nbsp;&nbsp;&nbsp;&nbsp;&nbsp;Avg Rating: google_stg_avg<br>"
   ]
  },
  {
   "cell_type": "markdown",
   "metadata": {},
   "source": [
    "# Data Analysis & Results"
   ]
  },
  {
   "cell_type": "markdown",
   "metadata": {},
   "source": [
    "Include cells that describe the steps in your data analysis."
   ]
  },
  {
   "cell_type": "code",
   "execution_count": 39,
   "metadata": {},
   "outputs": [
    {
     "data": {
      "text/plain": [
       "(array([ 668.,   27.,   37.,  108.,  111.,  223.,  326.,  267.,  556.,\n",
       "         417.,  664.,  626., 1337.,  806.,  907., 1354., 1647., 1591.,\n",
       "        1861., 1590., 2318., 2105., 2089., 1874., 3566.]),\n",
       " array([0. , 0.2, 0.4, 0.6, 0.8, 1. , 1.2, 1.4, 1.6, 1.8, 2. , 2.2, 2.4,\n",
       "        2.6, 2.8, 3. , 3.2, 3.4, 3.6, 3.8, 4. , 4.2, 4.4, 4.6, 4.8, 5. ]),\n",
       " <a list of 25 Patch objects>)"
      ]
     },
     "execution_count": 39,
     "metadata": {},
     "output_type": "execute_result"
    },
    {
     "data": {
      "image/png": "[encoded data removed]",
      "text/plain": [
       "<Figure size 432x288 with 1 Axes>"
      ]
     },
     "metadata": {},
     "output_type": "display_data"
    }
   ],
   "source": [
    "## YOUR CODE HERE\n",
    "## FEEL FREE TO ADD MULTIPLE CELLS PER SECTION\n",
    "plt.hist(df_steam['AvgRating']*5, bins = 25) # Unweighted steam ratings distribution histogram"
   ]
  },
  {
   "cell_type": "code",
   "execution_count": 40,
   "metadata": {},
   "outputs": [
    {
     "data": {
      "text/plain": [
       "(array([1.625000e+03, 5.370000e+02, 8.250000e+02, 8.050000e+03,\n",
       "        1.280200e+04, 1.455200e+04, 4.731800e+04, 4.878700e+04,\n",
       "        7.320800e+04, 7.044400e+04, 1.524630e+05, 1.645770e+05,\n",
       "        1.279400e+06, 5.369600e+05, 4.380050e+05, 7.209080e+05,\n",
       "        9.598900e+05, 1.967427e+06, 1.572702e+06, 1.974187e+06,\n",
       "        2.684326e+06, 6.714170e+06, 4.358539e+06, 5.788099e+06,\n",
       "        3.213881e+06]),\n",
       " array([0. , 0.2, 0.4, 0.6, 0.8, 1. , 1.2, 1.4, 1.6, 1.8, 2. , 2.2, 2.4,\n",
       "        2.6, 2.8, 3. , 3.2, 3.4, 3.6, 3.8, 4. , 4.2, 4.4, 4.6, 4.8, 5. ]),\n",
       " <a list of 25 Patch objects>)"
      ]
     },
     "execution_count": 40,
     "metadata": {},
     "output_type": "execute_result"
    },
    {
     "data": {
      "image/png": "[encoded data removed]",
      "text/plain": [
       "<Figure size 432x288 with 1 Axes>"
      ]
     },
     "metadata": {},
     "output_type": "display_data"
    }
   ],
   "source": [
    "plt.hist(df_steam['AvgRating']*5, weights = df_steam['NumRating'], bins = 25) # Weighted steam ratings distribution histogram"
   ]
  },
  {
   "cell_type": "code",
   "execution_count": 41,
   "metadata": {},
   "outputs": [
    {
     "data": {
      "text/plain": [
       "(array([4.600e+01, 0.000e+00, 3.000e+00, 5.000e+00, 8.000e+00, 4.000e+00,\n",
       "        3.600e+01, 1.500e+01, 4.000e+01, 3.000e+01, 4.400e+01, 8.400e+01,\n",
       "        2.320e+02, 1.810e+02, 2.600e+02, 4.560e+02, 6.910e+02, 1.120e+03,\n",
       "        1.936e+03, 2.694e+03, 3.647e+03, 4.332e+03, 3.251e+03, 1.632e+03,\n",
       "        1.761e+03]),\n",
       " array([1.  , 1.16, 1.32, 1.48, 1.64, 1.8 , 1.96, 2.12, 2.28, 2.44, 2.6 ,\n",
       "        2.76, 2.92, 3.08, 3.24, 3.4 , 3.56, 3.72, 3.88, 4.04, 4.2 , 4.36,\n",
       "        4.52, 4.68, 4.84, 5.  ]),\n",
       " <a list of 25 Patch objects>)"
      ]
     },
     "execution_count": 41,
     "metadata": {},
     "output_type": "execute_result"
    },
    {
     "data": {
      "image/png": "[encoded data removed]",
      "text/plain": [
       "<Figure size 432x288 with 1 Axes>"
      ]
     },
     "metadata": {},
     "output_type": "display_data"
    }
   ],
   "source": [
    "plt.hist(df_googleplay['Rating'], bins = 25) # Unweighted googleplay ratings distribution histogram"
   ]
  },
  {
   "cell_type": "code",
   "execution_count": 42,
   "metadata": {},
   "outputs": [
    {
     "data": {
      "text/plain": [
       "(array([6.00000000e+01, 0.00000000e+00, 3.90000000e+01, 1.71000000e+02,\n",
       "        7.48000000e+02, 1.15700000e+03, 1.31900000e+03, 1.21400000e+03,\n",
       "        7.95000000e+02, 1.37280000e+04, 3.35490000e+04, 7.74420000e+04,\n",
       "        4.14120000e+04, 8.68120000e+04, 4.29777000e+05, 9.17688000e+05,\n",
       "        2.88157700e+06, 1.56102290e+07, 3.41718130e+07, 1.11294063e+08,\n",
       "        3.14314908e+08, 5.80888278e+08, 4.61236786e+08, 9.57058150e+07,\n",
       "        4.70740800e+06]),\n",
       " array([1.  , 1.16, 1.32, 1.48, 1.64, 1.8 , 1.96, 2.12, 2.28, 2.44, 2.6 ,\n",
       "        2.76, 2.92, 3.08, 3.24, 3.4 , 3.56, 3.72, 3.88, 4.04, 4.2 , 4.36,\n",
       "        4.52, 4.68, 4.84, 5.  ]),\n",
       " <a list of 25 Patch objects>)"
      ]
     },
     "execution_count": 42,
     "metadata": {},
     "output_type": "execute_result"
    },
    {
     "data": {
      "image/png": "[encoded data removed]",
      "text/plain": [
       "<Figure size 432x288 with 1 Axes>"
      ]
     },
     "metadata": {},
     "output_type": "display_data"
    }
   ],
   "source": [
    "plt.hist(df_googleplay['Rating'], weights = df_googleplay['NumRating'], bins = 25) # Weighted googleplay ratings distribution histogram"
   ]
  },
  {
   "cell_type": "code",
   "execution_count": 43,
   "metadata": {},
   "outputs": [],
   "source": [
    "# For plotting the regression line\n",
    "# Let's fit an exponential function.  \n",
    "# This looks like a line on a lof-log plot.\n",
    "def myExpFunc(x, a, b):\n",
    "    return a * np.power(x, b)"
   ]
  },
  {
   "cell_type": "code",
   "execution_count": 44,
   "metadata": {},
   "outputs": [],
   "source": [
    "# For plotting a more complicated regression line\n",
    "def myComplexFunc(x, a, b, c):\n",
    "    return a * np.power(x, b) + c"
   ]
  },
  {
   "cell_type": "code",
   "execution_count": 46,
   "metadata": {},
   "outputs": [
    {
     "data": {
      "text/plain": [
       "[<matplotlib.lines.Line2D at 0x141b1d2bfc8>]"
      ]
     },
     "execution_count": 46,
     "metadata": {},
     "output_type": "execute_result"
    },
    {
     "data": {
      "image/png": "[encoded data removed]",
      "text/plain": [
       "<Figure size 432x288 with 1 Axes>"
      ]
     },
     "metadata": {},
     "output_type": "display_data"
    }
   ],
   "source": [
    "# googleplay Rating * Num of ratings Scatterplot (in log scale)\n",
    "plt.scatter(df_googleplay['NumRating'], df_googleplay['Rating'], alpha=0.06,s=3)\n",
    "plt.xscale('log')\n",
    "a1, b1 = np.polyfit(df_googleplay['NumRating'], df_googleplay['Rating'], 1)\n",
    "plt.xlabel(\"Number of Ratings\")\n",
    "plt.ylabel(\"Rating\")\n",
    "\n",
    "newX = np.logspace(0, 8, base=10)\n",
    "popt, pcov = curve_fit(myComplexFunc, df_googleplay['NumRating'], df_googleplay['Rating'])\n",
    "plt.plot(newX, myComplexFunc(newX, *popt), 'g-', \n",
    "         label=\"({0:.3f}*x**{1:.3f}) + {2:.3f}\".format(*popt))\n",
    "popt, pcov = curve_fit(myExpFunc, df_googleplay['NumRating'], df_googleplay['Rating'])\n",
    "plt.plot(newX, myExpFunc(newX, *popt), 'r-', \n",
    "         label=\"({0:.3f}*x**{1:.3f})\".format(*popt))\n",
    "\n",
    "\n",
    "#x = np.linspace(10,10**7,100)\n",
    "#y = a1 * x + b1\n",
    "#plt.plot(x, y, 'r');  # dotted red"
   ]
  },
  {
   "cell_type": "code",
   "execution_count": 48,
   "metadata": {},
   "outputs": [
    {
     "data": {
      "text/plain": [
       "[<matplotlib.lines.Line2D at 0x141b255fec8>]"
      ]
     },
     "execution_count": 48,
     "metadata": {},
     "output_type": "execute_result"
    },
    {
     "data": {
      "image/png": "[encoded data removed]",
      "text/plain": [
       "<Figure size 432x288 with 1 Axes>"
      ]
     },
     "metadata": {},
     "output_type": "display_data"
    }
   ],
   "source": [
    "# steam Rating * Num of ratings Scatterplot (in log scale)\n",
    "plt.scatter(df_steam['NumRating'], df_steam['AvgRating']*5, alpha=0.08,s=3)\n",
    "plt.xscale('log')\n",
    "plt.xlabel(\"Number of Ratings\")\n",
    "plt.ylabel(\"Rating\")\n",
    "\n",
    "newX = np.logspace(0, 8, base=10)\n",
    "popt, pcov = curve_fit(myComplexFunc, df_googleplay['NumRating'], df_googleplay['Rating'])\n",
    "plt.plot(newX, myComplexFunc(newX, *popt), 'g-', \n",
    "         label=\"({0:.3f}*x**{1:.3f}) + {2:.3f}\".format(*popt))\n",
    "popt, pcov = curve_fit(myExpFunc, df_googleplay['NumRating'], df_googleplay['Rating'])\n",
    "plt.plot(newX, myExpFunc(newX, *popt), 'r-', \n",
    "         label=\"({0:.3f}*x**{1:.3f})\".format(*popt))"
   ]
  },
  {
   "cell_type": "code",
   "execution_count": 63,
   "metadata": {},
   "outputs": [],
   "source": [
    "# Extract the similar categories between the two\n",
    "steam_similar = [steam_adv_avg, steam_cas_avg, steam_sim_avg, steam_spt_avg, steam_act_avg, steam_rac_avg, steam_stg_avg]\n",
    "google_similar = [google_adv_avg, google_cas_avg, google_sim_avg, google_spt_avg, google_act_avg, google_rac_avg, google_stg_avg]"
   ]
  },
  {
   "cell_type": "code",
   "execution_count": 78,
   "metadata": {},
   "outputs": [
    {
     "data": {
      "image/png": "[encoded data removed]",
      "text/plain": [
       "<Figure size 1440x720 with 1 Axes>"
      ]
     },
     "metadata": {},
     "output_type": "display_data"
    }
   ],
   "source": [
    "# Plot similar categories\n",
    "n = 7  # 7 similar categories\n",
    "fig, ax = plt.subplots(figsize=(20, 10))\n",
    "index = np.arange(n)\n",
    "bar_width = .3\n",
    "opacity = .6\n",
    "ax.bar(index, steam_similar, bar_width, alpha=opacity, color='black', label='Steam')\n",
    "ax.bar(index + bar_width, google_similar, bar_width, alpha=opacity, color='#3fd2d1', label = 'Google Play')\n",
    "ax.set_xlabel('Game Genre')\n",
    "ax.set_ylabel('Avg Rating(Weighted)')\n",
    "ax.set_title('Steam vs Google Play Game Ratings(Weighted on Number of Reviews)')\n",
    "ax.set_xticks(index + bar_width / 2)\n",
    "ax.set_xticklabels(('Adventure', 'Casual', 'Simulation', 'Sport', 'Action', 'Racing', 'Strategy'))\n",
    "ax.legend()\n",
    "plt.show()"
   ]
  },
  {
   "cell_type": "code",
   "execution_count": null,
   "metadata": {},
   "outputs": [],
   "source": [
    "df_categories over time=pd.DataFrame({'x': range(df_), \n",
    "                                      'Action': np.random.randn(10), \n",
    "                                      'Adventure': np.random.randn(10)+range(1,11), \n",
    "                                      'Casual': np.random.randn(10)+range(11,21),\n",
    "                                     'Indie': np.random.randn(10)+range(11,21),\n",
    "                                     'RPG': np.random.randn(10)+range(11,21),\n",
    "                                     'Racing': np.random.randn(10)+range(11,21),\n",
    "                                     'Sports': np.random.randn(10)+range(11,21),\n",
    "                                     'Strategy': np.random.randn(10)+range(11,21)})\n",
    "\n",
    "# https://python-graph-gallery.com/122-multiple-lines-chart/"
   ]
  },
  {
   "cell_type": "markdown",
   "metadata": {},
   "source": [
    "# Ethics & Privacy"
   ]
  },
  {
   "cell_type": "markdown",
   "metadata": {},
   "source": [
    "*Fill in your ethics & privacy discussion here*"
   ]
  },
  {
   "cell_type": "markdown",
   "metadata": {},
   "source": [
    "# Conclusion & Discussion"
   ]
  },
  {
   "cell_type": "markdown",
   "metadata": {},
   "source": [
    "*Fill in your discussion information here*"
   ]
  }
 ],
 "metadata": {
  "kernelspec": {
   "display_name": "Python 3",
   "language": "python",
   "name": "python3"
  },
  "language_info": {
   "codemirror_mode": {
    "name": "ipython",
    "version": 3
   },
   "file_extension": ".py",
   "mimetype": "text/x-python",
   "name": "python",
   "nbconvert_exporter": "python",
   "pygments_lexer": "ipython3",
   "version": "3.6.7"
  }
 },
 "nbformat": 4,
 "nbformat_minor": 2
}
