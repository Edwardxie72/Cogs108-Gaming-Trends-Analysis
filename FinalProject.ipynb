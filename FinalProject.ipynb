{
 "cells": [
  {
   "cell_type": "markdown",
   "metadata": {},
   "source": [
    "# COGS 108 - Final Project "
   ]
  },
  {
   "cell_type": "markdown",
   "metadata": {},
   "source": [
    "# Overview"
   ]
  },
  {
   "cell_type": "markdown",
   "metadata": {},
   "source": [
    "Games nowadays are often categorized fairly broadly, with many falling into the categories of shooters, rpgs, rogue-likes, and so on. Our main goal with this project is to see what type of categories tend to get the best user responses to them and how this response has shifted over time. We wanted to figure out what is the current trend for popular game categories. We will split this up by seeing the trends for each specific year and how the reception for the game has been.\n",
    "\n",
    "We will utilize two datasets, one for Steam games and one for mobile games in order to see if there's a category more suited for mobile devices compared to computers."
   ]
  },
  {
   "cell_type": "markdown",
   "metadata": {},
   "source": [
    "# Names\n",
    "\n",
    "- Edward Xie"
   ]
  },
  {
   "cell_type": "markdown",
   "metadata": {},
   "source": [
    "# Group Members IDs\n",
    "\n",
    "- Edwardxie72---A15534895"
   ]
  },
  {
   "cell_type": "markdown",
   "metadata": {},
   "source": [
    "# Research Question"
   ]
  },
  {
   "cell_type": "markdown",
   "metadata": {},
   "source": [
    "What type of game categories get the best user ratings and how has this trend changed over the years. \n",
    "\n",
    "Our second goal is to see whether these trends differ between mobile games and PC games."
   ]
  },
  {
   "cell_type": "markdown",
   "metadata": {},
   "source": [
    "## Background and Prior Work"
   ]
  },
  {
   "cell_type": "markdown",
   "metadata": {},
   "source": [
    "## TODO\n",
    "*Fill in your background and prior work here* \n",
    "\n",
    "References (include links):\n",
    "- 1)\n",
    "- 2)"
   ]
  },
  {
   "cell_type": "markdown",
   "metadata": {},
   "source": [
    "# Hypothesis\n"
   ]
  },
  {
   "cell_type": "markdown",
   "metadata": {},
   "source": [
    "## TODO\n",
    "*Fill in your hypotheses here*"
   ]
  },
  {
   "cell_type": "markdown",
   "metadata": {},
   "source": [
    "# Dataset(s)"
   ]
  },
  {
   "cell_type": "markdown",
   "metadata": {},
   "source": [
    "*Dataset Information*\n",
    "\n",
    "- Dataset Name: Steam Store Games\n",
    "- Link to the dataset: https://www.kaggle.com/nikdavis/steam-store-games\n",
    "- Number of observations: 27033\n",
    "\n",
    "This dataset contains 27033 games from steam and it includes information on the games. The data we will be utilizing for each game is the categories of the game, the genre of the game, the steamspy tags of the game, the number of positive ratings for the game, and the number of negative ratings for the game.\n",
    "\n",
    "- Dataset Name: Google Store Play Apps\n",
    "- Link to the dataset: https://www.kaggle.com/gauthamp10/google-playstore-apps#Google-Playstore-Full.csv\n",
    "- Number of observations: 244407\n",
    "\n",
    "This dataset contains 244407 apps from the play store. With this data set we will extract all the games and from these games, the data we will utilize from them is the category of the game, the rating for the app, and the review count for the app.\n",
    "\n",
    "*How we will combine the datasets:*\n",
    "We will be treating these as seperate databases, but will use the results to compare the differences between games on the computer and games on a mobile device to see if there is some difference in the trends between these.\n"
   ]
  },
  {
   "cell_type": "markdown",
   "metadata": {},
   "source": [
    "# Setup"
   ]
  },
  {
   "cell_type": "code",
   "execution_count": 1,
   "metadata": {},
   "outputs": [],
   "source": [
    "#Imports (Following A2 as a guideline for processing data)\n",
    "%matplotlib inline\n",
    "\n",
    "import numpy as np\n",
    "import pandas as pd\n",
    "import matplotlib.pyplot as plt\n",
    "\n",
    "import seaborn as sns"
   ]
  },
  {
   "cell_type": "code",
   "execution_count": 2,
   "metadata": {},
   "outputs": [],
   "source": [
    "# Configure libraries(taken from A2)\n",
    "# The seaborn library makes plots look nicer\n",
    "sns.set()\n",
    "sns.set_context('talk')\n",
    "\n",
    "# Don't display too many rows/cols of DataFrames\n",
    "pd.options.display.max_rows = 7\n",
    "pd.options.display.max_columns = 8\n",
    "\n",
    "# Round decimals when displaying DataFrames\n",
    "pd.set_option('precision', 2)"
   ]
  },
  {
   "cell_type": "markdown",
   "metadata": {},
   "source": [
    "# Data Cleaning"
   ]
  },
  {
   "cell_type": "markdown",
   "metadata": {},
   "source": [
    "## TODO\n",
    "Describe your data cleaning steps here."
   ]
  },
  {
   "cell_type": "code",
   "execution_count": 3,
   "metadata": {},
   "outputs": [],
   "source": [
    "# Read in data\n",
    "df_steam = pd.read_csv('steam.csv', low_memory=False)\n",
    "df_googleplay = pd.read_csv('Google-Playstore-Full.csv', low_memory=False)"
   ]
  },
  {
   "cell_type": "code",
   "execution_count": 4,
   "metadata": {},
   "outputs": [
    {
     "data": {
      "text/html": [
       "<div>\n",
       "<style scoped>\n",
       "    .dataframe tbody tr th:only-of-type {\n",
       "        vertical-align: middle;\n",
       "    }\n",
       "\n",
       "    .dataframe tbody tr th {\n",
       "        vertical-align: top;\n",
       "    }\n",
       "\n",
       "    .dataframe thead th {\n",
       "        text-align: right;\n",
       "    }\n",
       "</style>\n",
       "<table border=\"1\" class=\"dataframe\">\n",
       "  <thead>\n",
       "    <tr style=\"text-align: right;\">\n",
       "      <th></th>\n",
       "      <th>appid</th>\n",
       "      <th>name</th>\n",
       "      <th>release_date</th>\n",
       "      <th>english</th>\n",
       "      <th>...</th>\n",
       "      <th>average_playtime</th>\n",
       "      <th>median_playtime</th>\n",
       "      <th>owners</th>\n",
       "      <th>price</th>\n",
       "    </tr>\n",
       "  </thead>\n",
       "  <tbody>\n",
       "    <tr>\n",
       "      <td>0</td>\n",
       "      <td>10</td>\n",
       "      <td>Counter-Strike</td>\n",
       "      <td>2000-11-01</td>\n",
       "      <td>1</td>\n",
       "      <td>...</td>\n",
       "      <td>17612</td>\n",
       "      <td>317</td>\n",
       "      <td>10000000-20000000</td>\n",
       "      <td>7.19</td>\n",
       "    </tr>\n",
       "    <tr>\n",
       "      <td>1</td>\n",
       "      <td>20</td>\n",
       "      <td>Team Fortress Classic</td>\n",
       "      <td>1999-04-01</td>\n",
       "      <td>1</td>\n",
       "      <td>...</td>\n",
       "      <td>277</td>\n",
       "      <td>62</td>\n",
       "      <td>5000000-10000000</td>\n",
       "      <td>3.99</td>\n",
       "    </tr>\n",
       "    <tr>\n",
       "      <td>2</td>\n",
       "      <td>30</td>\n",
       "      <td>Day of Defeat</td>\n",
       "      <td>2003-05-01</td>\n",
       "      <td>1</td>\n",
       "      <td>...</td>\n",
       "      <td>187</td>\n",
       "      <td>34</td>\n",
       "      <td>5000000-10000000</td>\n",
       "      <td>3.99</td>\n",
       "    </tr>\n",
       "    <tr>\n",
       "      <td>3</td>\n",
       "      <td>40</td>\n",
       "      <td>Deathmatch Classic</td>\n",
       "      <td>2001-06-01</td>\n",
       "      <td>1</td>\n",
       "      <td>...</td>\n",
       "      <td>258</td>\n",
       "      <td>184</td>\n",
       "      <td>5000000-10000000</td>\n",
       "      <td>3.99</td>\n",
       "    </tr>\n",
       "    <tr>\n",
       "      <td>4</td>\n",
       "      <td>50</td>\n",
       "      <td>Half-Life: Opposing Force</td>\n",
       "      <td>1999-11-01</td>\n",
       "      <td>1</td>\n",
       "      <td>...</td>\n",
       "      <td>624</td>\n",
       "      <td>415</td>\n",
       "      <td>5000000-10000000</td>\n",
       "      <td>3.99</td>\n",
       "    </tr>\n",
       "  </tbody>\n",
       "</table>\n",
       "<p>5 rows × 18 columns</p>\n",
       "</div>"
      ],
      "text/plain": [
       "   appid                       name release_date  english  ...  \\\n",
       "0     10             Counter-Strike   2000-11-01        1  ...   \n",
       "1     20      Team Fortress Classic   1999-04-01        1  ...   \n",
       "2     30              Day of Defeat   2003-05-01        1  ...   \n",
       "3     40         Deathmatch Classic   2001-06-01        1  ...   \n",
       "4     50  Half-Life: Opposing Force   1999-11-01        1  ...   \n",
       "\n",
       "  average_playtime median_playtime             owners  price  \n",
       "0            17612             317  10000000-20000000   7.19  \n",
       "1              277              62   5000000-10000000   3.99  \n",
       "2              187              34   5000000-10000000   3.99  \n",
       "3              258             184   5000000-10000000   3.99  \n",
       "4              624             415   5000000-10000000   3.99  \n",
       "\n",
       "[5 rows x 18 columns]"
      ]
     },
     "execution_count": 4,
     "metadata": {},
     "output_type": "execute_result"
    }
   ],
   "source": [
    "# Preview and clean up steam data set first\n",
    "df_steam.head(5)"
   ]
  },
  {
   "cell_type": "code",
   "execution_count": 5,
   "metadata": {},
   "outputs": [],
   "source": [
    "# Start by dropping unwanted data, keep the name so we have some way to identify apps, but not neccesary\n",
    "del df_steam['appid']\n",
    "del df_steam['english']\n",
    "del df_steam['developer']\n",
    "del df_steam['publisher']\n",
    "del df_steam['platforms']\n",
    "del df_steam['required_age']\n",
    "del df_steam['achievements']\n",
    "del df_steam['average_playtime']\n",
    "del df_steam['median_playtime']\n",
    "del df_steam['price']\n",
    "del df_steam['owners']  # We drop owners because it gives a range which might make data inconsistent, instead we will weigh off each rating"
   ]
  },
  {
   "cell_type": "code",
   "execution_count": 6,
   "metadata": {},
   "outputs": [],
   "source": [
    "# Rename categories before we start cleaning data\n",
    "df_steam.columns = ['Name', 'Year', 'Steam Categories', 'Genre', 'Steamspy Categories', 'Positive Ratings', 'Negative Ratings']"
   ]
  },
  {
   "cell_type": "code",
   "execution_count": 7,
   "metadata": {},
   "outputs": [],
   "source": [
    "# Extract only the year from the release date because we analyze by year\n",
    "def extract_year(string):\n",
    "    return int(string[:4])  # Only need first 4 characters for year"
   ]
  },
  {
   "cell_type": "code",
   "execution_count": 8,
   "metadata": {},
   "outputs": [],
   "source": [
    "df_steam['Year'] = df_steam['Year'].apply(extract_year)  # Change all years in our df"
   ]
  },
  {
   "cell_type": "code",
   "execution_count": 9,
   "metadata": {},
   "outputs": [
    {
     "data": {
      "text/html": [
       "<div>\n",
       "<style scoped>\n",
       "    .dataframe tbody tr th:only-of-type {\n",
       "        vertical-align: middle;\n",
       "    }\n",
       "\n",
       "    .dataframe tbody tr th {\n",
       "        vertical-align: top;\n",
       "    }\n",
       "\n",
       "    .dataframe thead th {\n",
       "        text-align: right;\n",
       "    }\n",
       "</style>\n",
       "<table border=\"1\" class=\"dataframe\">\n",
       "  <thead>\n",
       "    <tr style=\"text-align: right;\">\n",
       "      <th></th>\n",
       "      <th>App Name</th>\n",
       "      <th>Category</th>\n",
       "      <th>Rating</th>\n",
       "      <th>Reviews</th>\n",
       "      <th>...</th>\n",
       "      <th>Unnamed: 11</th>\n",
       "      <th>Unnamed: 12</th>\n",
       "      <th>Unnamed: 13</th>\n",
       "      <th>Unnamed: 14</th>\n",
       "    </tr>\n",
       "  </thead>\n",
       "  <tbody>\n",
       "    <tr>\n",
       "      <td>0</td>\n",
       "      <td>DoorDash - Food Delivery</td>\n",
       "      <td>FOOD_AND_DRINK</td>\n",
       "      <td>4.548561573</td>\n",
       "      <td>305034</td>\n",
       "      <td>...</td>\n",
       "      <td>NaN</td>\n",
       "      <td>NaN</td>\n",
       "      <td>NaN</td>\n",
       "      <td>NaN</td>\n",
       "    </tr>\n",
       "    <tr>\n",
       "      <td>1</td>\n",
       "      <td>TripAdvisor Hotels Flights Restaurants Attract...</td>\n",
       "      <td>TRAVEL_AND_LOCAL</td>\n",
       "      <td>4.400671482</td>\n",
       "      <td>1207922</td>\n",
       "      <td>...</td>\n",
       "      <td>NaN</td>\n",
       "      <td>NaN</td>\n",
       "      <td>NaN</td>\n",
       "      <td>NaN</td>\n",
       "    </tr>\n",
       "    <tr>\n",
       "      <td>2</td>\n",
       "      <td>Peapod</td>\n",
       "      <td>SHOPPING</td>\n",
       "      <td>3.656329393</td>\n",
       "      <td>1967</td>\n",
       "      <td>...</td>\n",
       "      <td>NaN</td>\n",
       "      <td>NaN</td>\n",
       "      <td>NaN</td>\n",
       "      <td>NaN</td>\n",
       "    </tr>\n",
       "    <tr>\n",
       "      <td>3</td>\n",
       "      <td>foodpanda - Local Food Delivery</td>\n",
       "      <td>FOOD_AND_DRINK</td>\n",
       "      <td>4.107232571</td>\n",
       "      <td>389154</td>\n",
       "      <td>...</td>\n",
       "      <td>NaN</td>\n",
       "      <td>NaN</td>\n",
       "      <td>NaN</td>\n",
       "      <td>NaN</td>\n",
       "    </tr>\n",
       "    <tr>\n",
       "      <td>4</td>\n",
       "      <td>My CookBook Pro (Ad Free)</td>\n",
       "      <td>FOOD_AND_DRINK</td>\n",
       "      <td>4.647752285</td>\n",
       "      <td>2291</td>\n",
       "      <td>...</td>\n",
       "      <td>NaN</td>\n",
       "      <td>NaN</td>\n",
       "      <td>NaN</td>\n",
       "      <td>NaN</td>\n",
       "    </tr>\n",
       "  </tbody>\n",
       "</table>\n",
       "<p>5 rows × 15 columns</p>\n",
       "</div>"
      ],
      "text/plain": [
       "                                            App Name          Category  \\\n",
       "0                           DoorDash - Food Delivery    FOOD_AND_DRINK   \n",
       "1  TripAdvisor Hotels Flights Restaurants Attract...  TRAVEL_AND_LOCAL   \n",
       "2                                             Peapod          SHOPPING   \n",
       "3                    foodpanda - Local Food Delivery    FOOD_AND_DRINK   \n",
       "4                          My CookBook Pro (Ad Free)    FOOD_AND_DRINK   \n",
       "\n",
       "        Rating  Reviews  ... Unnamed: 11 Unnamed: 12 Unnamed: 13 Unnamed: 14  \n",
       "0  4.548561573   305034  ...         NaN         NaN         NaN         NaN  \n",
       "1  4.400671482  1207922  ...         NaN         NaN         NaN         NaN  \n",
       "2  3.656329393     1967  ...         NaN         NaN         NaN         NaN  \n",
       "3  4.107232571   389154  ...         NaN         NaN         NaN         NaN  \n",
       "4  4.647752285     2291  ...         NaN         NaN         NaN         NaN  \n",
       "\n",
       "[5 rows x 15 columns]"
      ]
     },
     "execution_count": 9,
     "metadata": {},
     "output_type": "execute_result"
    }
   ],
   "source": [
    "# Preview and clean up Google Play Data\n",
    "df_googleplay.head(5)"
   ]
  },
  {
   "cell_type": "code",
   "execution_count": 10,
   "metadata": {},
   "outputs": [],
   "source": [
    "# Start by dropping unwanted data, keep the name so we have some way to identify apps, but not neccesary\n",
    "del df_googleplay['Installs']  # We don't care about installs for same reason as steam, use number of ratings instead\n",
    "del df_googleplay['Size']\n",
    "del df_googleplay['Price']\n",
    "del df_googleplay['Content Rating']\n",
    "del df_googleplay['Last Updated']\n",
    "del df_googleplay['Minimum Version']\n",
    "del df_googleplay['Latest Version']\n",
    "del df_googleplay['Unnamed: 11']\n",
    "del df_googleplay['Unnamed: 12']\n",
    "del df_googleplay['Unnamed: 13']\n",
    "del df_googleplay['Unnamed: 14']"
   ]
  },
  {
   "cell_type": "code",
   "execution_count": 11,
   "metadata": {},
   "outputs": [],
   "source": [
    "df_googleplay = df_googleplay.dropna(subset=['Category', 'Rating', 'Reviews'])"
   ]
  },
  {
   "cell_type": "code",
   "execution_count": 12,
   "metadata": {},
   "outputs": [],
   "source": [
    "# First start by dropping all non game category games, games will start with the string \"GAME_\" in category\n",
    "df_googleplay = df_googleplay[df_googleplay['Category'].str.contains('GAME')]\n",
    "df_googleplay = df_googleplay.reset_index(drop=True)"
   ]
  },
  {
   "cell_type": "code",
   "execution_count": 13,
   "metadata": {},
   "outputs": [],
   "source": [
    "# Add extra columns to steam one for the average rating(out of 10) and total number of ratings(Pos rating/(Pos + neg rating))\n",
    "df_steam['AvgRating'] = df_steam['Positive Ratings'].div(df_steam['Positive Ratings'].add(df_steam['Negative Ratings']))\n",
    "df_steam['NumRating'] = df_steam['Positive Ratings'].add(df_steam['Negative Ratings'])"
   ]
  },
  {
   "cell_type": "code",
   "execution_count": 14,
   "metadata": {},
   "outputs": [],
   "source": [
    "# Add extra columns to googleplay, one for avg rating(out of 10) and rename total to match steam\n",
    "df_googleplay['Rating'] = df_googleplay['Rating'].astype(float)\n",
    "df_googleplay['AvgRating'] = df_googleplay['Rating'].mul(2)\n",
    "df_googleplay.rename(columns = {'Reviews':'NumRating'}, inplace = True) "
   ]
  },
  {
   "cell_type": "code",
   "execution_count": 15,
   "metadata": {},
   "outputs": [],
   "source": [
    "# Clean up the categories for the games\n",
    "df_googleplay['Category'] = df_googleplay['Category'].str.slice(start=5)"
   ]
  },
  {
   "cell_type": "code",
   "execution_count": 16,
   "metadata": {},
   "outputs": [
    {
     "data": {
      "text/html": [
       "<div>\n",
       "<style scoped>\n",
       "    .dataframe tbody tr th:only-of-type {\n",
       "        vertical-align: middle;\n",
       "    }\n",
       "\n",
       "    .dataframe tbody tr th {\n",
       "        vertical-align: top;\n",
       "    }\n",
       "\n",
       "    .dataframe thead th {\n",
       "        text-align: right;\n",
       "    }\n",
       "</style>\n",
       "<table border=\"1\" class=\"dataframe\">\n",
       "  <thead>\n",
       "    <tr style=\"text-align: right;\">\n",
       "      <th></th>\n",
       "      <th>Name</th>\n",
       "      <th>Year</th>\n",
       "      <th>Steam Categories</th>\n",
       "      <th>Genre</th>\n",
       "      <th>...</th>\n",
       "      <th>Positive Ratings</th>\n",
       "      <th>Negative Ratings</th>\n",
       "      <th>AvgRating</th>\n",
       "      <th>NumRating</th>\n",
       "    </tr>\n",
       "  </thead>\n",
       "  <tbody>\n",
       "    <tr>\n",
       "      <td>0</td>\n",
       "      <td>Counter-Strike</td>\n",
       "      <td>2000</td>\n",
       "      <td>Multi-player;Online Multi-Player;Local Multi-P...</td>\n",
       "      <td>Action</td>\n",
       "      <td>...</td>\n",
       "      <td>124534</td>\n",
       "      <td>3339</td>\n",
       "      <td>0.97</td>\n",
       "      <td>127873</td>\n",
       "    </tr>\n",
       "    <tr>\n",
       "      <td>1</td>\n",
       "      <td>Team Fortress Classic</td>\n",
       "      <td>1999</td>\n",
       "      <td>Multi-player;Online Multi-Player;Local Multi-P...</td>\n",
       "      <td>Action</td>\n",
       "      <td>...</td>\n",
       "      <td>3318</td>\n",
       "      <td>633</td>\n",
       "      <td>0.84</td>\n",
       "      <td>3951</td>\n",
       "    </tr>\n",
       "    <tr>\n",
       "      <td>2</td>\n",
       "      <td>Day of Defeat</td>\n",
       "      <td>2003</td>\n",
       "      <td>Multi-player;Valve Anti-Cheat enabled</td>\n",
       "      <td>Action</td>\n",
       "      <td>...</td>\n",
       "      <td>3416</td>\n",
       "      <td>398</td>\n",
       "      <td>0.90</td>\n",
       "      <td>3814</td>\n",
       "    </tr>\n",
       "    <tr>\n",
       "      <td>3</td>\n",
       "      <td>Deathmatch Classic</td>\n",
       "      <td>2001</td>\n",
       "      <td>Multi-player;Online Multi-Player;Local Multi-P...</td>\n",
       "      <td>Action</td>\n",
       "      <td>...</td>\n",
       "      <td>1273</td>\n",
       "      <td>267</td>\n",
       "      <td>0.83</td>\n",
       "      <td>1540</td>\n",
       "    </tr>\n",
       "    <tr>\n",
       "      <td>4</td>\n",
       "      <td>Half-Life: Opposing Force</td>\n",
       "      <td>1999</td>\n",
       "      <td>Single-player;Multi-player;Valve Anti-Cheat en...</td>\n",
       "      <td>Action</td>\n",
       "      <td>...</td>\n",
       "      <td>5250</td>\n",
       "      <td>288</td>\n",
       "      <td>0.95</td>\n",
       "      <td>5538</td>\n",
       "    </tr>\n",
       "  </tbody>\n",
       "</table>\n",
       "<p>5 rows × 9 columns</p>\n",
       "</div>"
      ],
      "text/plain": [
       "                        Name  Year  \\\n",
       "0             Counter-Strike  2000   \n",
       "1      Team Fortress Classic  1999   \n",
       "2              Day of Defeat  2003   \n",
       "3         Deathmatch Classic  2001   \n",
       "4  Half-Life: Opposing Force  1999   \n",
       "\n",
       "                                    Steam Categories   Genre  ...  \\\n",
       "0  Multi-player;Online Multi-Player;Local Multi-P...  Action  ...   \n",
       "1  Multi-player;Online Multi-Player;Local Multi-P...  Action  ...   \n",
       "2              Multi-player;Valve Anti-Cheat enabled  Action  ...   \n",
       "3  Multi-player;Online Multi-Player;Local Multi-P...  Action  ...   \n",
       "4  Single-player;Multi-player;Valve Anti-Cheat en...  Action  ...   \n",
       "\n",
       "  Positive Ratings  Negative Ratings  AvgRating  NumRating  \n",
       "0           124534              3339       0.97     127873  \n",
       "1             3318               633       0.84       3951  \n",
       "2             3416               398       0.90       3814  \n",
       "3             1273               267       0.83       1540  \n",
       "4             5250               288       0.95       5538  \n",
       "\n",
       "[5 rows x 9 columns]"
      ]
     },
     "execution_count": 16,
     "metadata": {},
     "output_type": "execute_result"
    }
   ],
   "source": [
    "# Preview mostly cleaned up data\n",
    "df_steam.head(5)"
   ]
  },
  {
   "cell_type": "code",
   "execution_count": 17,
   "metadata": {},
   "outputs": [
    {
     "data": {
      "text/html": [
       "<div>\n",
       "<style scoped>\n",
       "    .dataframe tbody tr th:only-of-type {\n",
       "        vertical-align: middle;\n",
       "    }\n",
       "\n",
       "    .dataframe tbody tr th {\n",
       "        vertical-align: top;\n",
       "    }\n",
       "\n",
       "    .dataframe thead th {\n",
       "        text-align: right;\n",
       "    }\n",
       "</style>\n",
       "<table border=\"1\" class=\"dataframe\">\n",
       "  <thead>\n",
       "    <tr style=\"text-align: right;\">\n",
       "      <th></th>\n",
       "      <th>App Name</th>\n",
       "      <th>Category</th>\n",
       "      <th>Rating</th>\n",
       "      <th>NumRating</th>\n",
       "      <th>AvgRating</th>\n",
       "    </tr>\n",
       "  </thead>\n",
       "  <tbody>\n",
       "    <tr>\n",
       "      <td>0</td>\n",
       "      <td>King of Crabs</td>\n",
       "      <td>ACTION</td>\n",
       "      <td>3.28</td>\n",
       "      <td>785</td>\n",
       "      <td>6.56</td>\n",
       "    </tr>\n",
       "    <tr>\n",
       "      <td>1</td>\n",
       "      <td>Match 3 App Rewards: Daily Game Rewards</td>\n",
       "      <td>CASUAL</td>\n",
       "      <td>4.52</td>\n",
       "      <td>248</td>\n",
       "      <td>9.04</td>\n",
       "    </tr>\n",
       "    <tr>\n",
       "      <td>2</td>\n",
       "      <td>Brown Dust</td>\n",
       "      <td>ROLE_PLAYING</td>\n",
       "      <td>4.48</td>\n",
       "      <td>70260</td>\n",
       "      <td>8.95</td>\n",
       "    </tr>\n",
       "    <tr>\n",
       "      <td>3</td>\n",
       "      <td>Poly - Coloring Puzzle Art Book</td>\n",
       "      <td>PUZZLE</td>\n",
       "      <td>4.58</td>\n",
       "      <td>878</td>\n",
       "      <td>9.16</td>\n",
       "    </tr>\n",
       "    <tr>\n",
       "      <td>4</td>\n",
       "      <td>Legend of Empress</td>\n",
       "      <td>ROLE_PLAYING</td>\n",
       "      <td>3.82</td>\n",
       "      <td>750</td>\n",
       "      <td>7.64</td>\n",
       "    </tr>\n",
       "  </tbody>\n",
       "</table>\n",
       "</div>"
      ],
      "text/plain": [
       "                                  App Name      Category  Rating NumRating  \\\n",
       "0                            King of Crabs        ACTION    3.28       785   \n",
       "1  Match 3 App Rewards: Daily Game Rewards        CASUAL    4.52       248   \n",
       "2                               Brown Dust  ROLE_PLAYING    4.48     70260   \n",
       "3          Poly - Coloring Puzzle Art Book        PUZZLE    4.58       878   \n",
       "4                        Legend of Empress  ROLE_PLAYING    3.82       750   \n",
       "\n",
       "   AvgRating  \n",
       "0       6.56  \n",
       "1       9.04  \n",
       "2       8.95  \n",
       "3       9.16  \n",
       "4       7.64  "
      ]
     },
     "execution_count": 17,
     "metadata": {},
     "output_type": "execute_result"
    }
   ],
   "source": [
    "df_googleplay.head(5)"
   ]
  },
  {
   "cell_type": "code",
   "execution_count": 27,
   "metadata": {},
   "outputs": [
    {
     "name": "stdout",
     "output_type": "stream",
     "text": [
      "['Multi-player;Online Multi-Player;Local Multi-Player;Valve Anti-Cheat enabled'\n",
      " 'Multi-player;Valve Anti-Cheat enabled'\n",
      " 'Single-player;Multi-player;Valve Anti-Cheat enabled' ...\n",
      " 'Online Multi-Player;Steam Achievements;Full controller support;In-App Purchases;Steam Cloud'\n",
      " 'Multi-player;Local Multi-Player;Co-op;Local Co-op;Shared/Split Screen'\n",
      " 'Multi-player;Online Multi-Player;Cross-Platform Multiplayer;Stats'] 3333\n"
     ]
    }
   ],
   "source": [
    "# Clean up categories\n",
    "# Convert Steam Categories + Genre + Steamspy Categories into one category and put it in an array\n",
    "print(df_steam[\"Steam Categories\"].unique(), len(df_steam[\"Steam Categories\"].unique()))"
   ]
  },
  {
   "cell_type": "code",
   "execution_count": 26,
   "metadata": {},
   "outputs": [
    {
     "name": "stdout",
     "output_type": "stream",
     "text": [
      "['Action' 'Action;Free to Play' 'Action;Free to Play;Strategy' ...\n",
      " 'Action;Adventure;Indie;Massively Multiplayer;RPG;Strategy;Early Access'\n",
      " 'Action;Adventure;Casual;Free to Play;Indie;RPG;Simulation;Sports;Strategy'\n",
      " 'Casual;Free to Play;Massively Multiplayer;RPG;Early Access'] 1552\n"
     ]
    }
   ],
   "source": [
    "print(df_steam[\"Genre\"].unique(), len(df_steam[\"Genre\"].unique()))"
   ]
  },
  {
   "cell_type": "code",
   "execution_count": 25,
   "metadata": {},
   "outputs": [
    {
     "name": "stdout",
     "output_type": "stream",
     "text": [
      "['Action;FPS;Multiplayer' 'FPS;World War II;Multiplayer'\n",
      " 'FPS;Action;Sci-fi' ... 'Casual;Adventure;Arcade'\n",
      " 'Free to Play;Visual Novel' 'Early Access;Adventure;Sexual Content'] 6423\n"
     ]
    }
   ],
   "source": [
    "print(df_steam[\"Steamspy Categories\"].unique(), len(df_steam[\"Steamspy Categories\"].unique()))"
   ]
  },
  {
   "cell_type": "code",
   "execution_count": 21,
   "metadata": {},
   "outputs": [
    {
     "data": {
      "text/plain": [
       "array(['ACTION', 'CASUAL', 'ROLE_PLAYING', 'PUZZLE', 'RACING',\n",
       "       'ADVENTURE', 'ARCADE', 'STRATEGY', 'SPORTS', 'SIMULATION', 'MUSIC',\n",
       "       'EDUCATIONAL', 'WORD', 'TRIVIA', 'BOARD', 'CASINO', 'CARD'],\n",
       "      dtype=object)"
      ]
     },
     "execution_count": 21,
     "metadata": {},
     "output_type": "execute_result"
    }
   ],
   "source": [
    "# Convert Google Play Categories into same style as Steam\n",
    "df_googleplay[\"Category\"].unique()"
   ]
  },
  {
   "cell_type": "code",
   "execution_count": 30,
   "metadata": {},
   "outputs": [],
   "source": [
    "# A function that saves arrays into text files\n",
    "def array2txt(array, file_name = 'output.txt'):\n",
    "    with open(file_name, \"w\") as txt_file:\n",
    "        for i in array:\n",
    "            txt_file.write(i + \"\\n\")"
   ]
  },
  {
   "cell_type": "code",
   "execution_count": 31,
   "metadata": {},
   "outputs": [],
   "source": [
    "# Save the uncleaned categories into text files\n",
    "array2txt(df_steam[\"Steam Categories\"].unique(), 'steam_categories_uncleaned.txt')\n"
   ]
  },
  {
   "cell_type": "code",
   "execution_count": 38,
   "metadata": {},
   "outputs": [],
   "source": [
    "# Split the categories connected by semicolons\n",
    "def split_semi(array):\n",
    "    output = []\n",
    "    for i in array:\n",
    "        output.extend(i.split(';'))\n",
    "    return output"
   ]
  },
  {
   "cell_type": "code",
   "execution_count": 40,
   "metadata": {},
   "outputs": [
    {
     "data": {
      "text/plain": [
       "21447"
      ]
     },
     "execution_count": 40,
     "metadata": {},
     "output_type": "execute_result"
    }
   ],
   "source": [
    "split_semi(df_steam[\"Steam Categories\"].unique())\n",
    "len(split_semi(df_steam[\"Steam Categories\"].unique()))"
   ]
  },
  {
   "cell_type": "code",
   "execution_count": 36,
   "metadata": {},
   "outputs": [],
   "source": [
    "# Filter identical items in a list\n",
    "def unique(list1): \n",
    "    x = np.array(list1) \n",
    "    #print(np.unique(x))\n",
    "    return np.unique(x)"
   ]
  },
  {
   "cell_type": "code",
   "execution_count": 37,
   "metadata": {},
   "outputs": [
    {
     "data": {
      "text/plain": [
       "array(['1', '2', '3'], dtype='<U1')"
      ]
     },
     "execution_count": 37,
     "metadata": {},
     "output_type": "execute_result"
    }
   ],
   "source": [
    "unique([\"1\",\"1\",'2','3'])"
   ]
  },
  {
   "cell_type": "code",
   "execution_count": 42,
   "metadata": {},
   "outputs": [
    {
     "data": {
      "text/plain": [
       "array(['Captions available', 'Co-op', 'Commentary available',\n",
       "       'Cross-Platform Multiplayer', 'Full controller support',\n",
       "       'In-App Purchases', 'Includes Source SDK', 'Includes level editor',\n",
       "       'Local Co-op', 'Local Multi-Player', 'MMO', 'Mods',\n",
       "       'Mods (require HL2)', 'Multi-player', 'Online Co-op',\n",
       "       'Online Multi-Player', 'Partial Controller Support',\n",
       "       'Shared/Split Screen', 'Single-player', 'Stats',\n",
       "       'Steam Achievements', 'Steam Cloud', 'Steam Leaderboards',\n",
       "       'Steam Trading Cards', 'Steam Turn Notifications',\n",
       "       'Steam Workshop', 'SteamVR Collectibles', 'VR Support',\n",
       "       'Valve Anti-Cheat enabled'], dtype='<U26')"
      ]
     },
     "execution_count": 42,
     "metadata": {},
     "output_type": "execute_result"
    }
   ],
   "source": [
    "# Cleaned steam categories\n",
    "array_steam = unique(split_semi(df_steam[\"Steam Categories\"].unique()))\n",
    "array_steam"
   ]
  },
  {
   "cell_type": "code",
   "execution_count": 44,
   "metadata": {},
   "outputs": [
    {
     "data": {
      "text/plain": [
       "array(['Accounting', 'Action', 'Adventure', 'Animation & Modeling',\n",
       "       'Audio Production', 'Casual', 'Design & Illustration',\n",
       "       'Documentary', 'Early Access', 'Education', 'Free to Play',\n",
       "       'Game Development', 'Gore', 'Indie', 'Massively Multiplayer',\n",
       "       'Nudity', 'Photo Editing', 'RPG', 'Racing', 'Sexual Content',\n",
       "       'Simulation', 'Software Training', 'Sports', 'Strategy',\n",
       "       'Tutorial', 'Utilities', 'Video Production', 'Violent',\n",
       "       'Web Publishing'], dtype='<U21')"
      ]
     },
     "execution_count": 44,
     "metadata": {},
     "output_type": "execute_result"
    }
   ],
   "source": [
    "# Cleaned steam genres\n",
    "array_genre = unique(split_semi(df_steam[\"Genre\"].unique()))\n",
    "array_genre"
   ]
  },
  {
   "cell_type": "code",
   "execution_count": 46,
   "metadata": {},
   "outputs": [
    {
     "data": {
      "text/plain": [
       "array(['1980s', \"1990's\", '2.5D', '2D', '2D Fighter', '360 Video', '3D',\n",
       "       '3D Platformer', '3D Vision', '4 Player Local', '4X', '6DOF',\n",
       "       'Abstract', 'Action', 'Action RPG', 'Action-Adventure',\n",
       "       'Adventure', 'Agriculture', 'Aliens', 'Alternate History',\n",
       "       'America', 'Animation & Modeling', 'Anime', 'Arcade',\n",
       "       'Arena Shooter', 'Assassin', 'Atmospheric', 'Audio Production',\n",
       "       'BMX', 'Base-Building', 'Baseball', 'Basketball', 'Batman',\n",
       "       'Battle Royale', \"Beat 'em up\", 'Beautiful', 'Benchmark', 'Bikes',\n",
       "       'Blood', 'Board Game', 'Bowling', 'Building', 'Bullet Hell',\n",
       "       'Bullet Time', 'CRPG', 'Capitalism', 'Card Game', 'Cartoon',\n",
       "       'Cartoony', 'Casual', 'Cats', 'Character Action Game',\n",
       "       'Character Customization', 'Chess', 'Choices Matter',\n",
       "       'Choose Your Own Adventure', 'Cinematic', 'City Builder',\n",
       "       'Class-Based', 'Classic', 'Clicker', 'Co-op', 'Cold War',\n",
       "       'Colorful', 'Comedy', 'Comic Book', 'Competitive', 'Controller',\n",
       "       'Conversation', 'Crafting', 'Crime', 'Cult Classic', 'Cute',\n",
       "       'Cyberpunk', 'Cycling', 'Dark', 'Dark Fantasy', 'Dark Humor',\n",
       "       'Dating Sim', 'Demons', 'Design & Illustration', 'Destruction',\n",
       "       'Detective', 'Difficult', 'Dinosaurs', 'Diplomacy', 'Documentary',\n",
       "       'Dog', 'Dragons', 'Drama', 'Driving', 'Dungeon Crawler',\n",
       "       'Dungeons & Dragons', 'Dystopian ', 'Early Access', 'Economy',\n",
       "       'Education', 'Epic', 'Experimental', 'Exploration', 'FMV', 'FPS',\n",
       "       'Faith', 'Family Friendly', 'Fantasy', 'Fast-Paced',\n",
       "       'Female Protagonist', 'Fighting', 'First-Person', 'Fishing',\n",
       "       'Flight', 'Football', 'Free to Play', 'Funny', 'Futuristic',\n",
       "       'Gambling', 'Game Development', 'GameMaker', 'Games Workshop',\n",
       "       'God Game', 'Golf', 'Gore', 'Gothic', 'Grand Strategy',\n",
       "       'Great Soundtrack', 'Grid-Based Movement', 'Gun Customization',\n",
       "       'Hack and Slash', 'Hacking', 'Hand-drawn', 'Heist', 'Hex Grid',\n",
       "       'Hidden Object', 'Historical', 'Hockey', 'Horror', 'Horses',\n",
       "       'Hunting', 'Illuminati', 'Indie', 'Intentionally Awkward Controls',\n",
       "       'Interactive Fiction', 'Inventory Management', 'Investigation',\n",
       "       'Isometric', 'JRPG', 'Kickstarter', 'LEGO', 'Lara Croft',\n",
       "       'Lemmings', 'Level Editor', 'Linear', 'Local Co-Op',\n",
       "       'Local Multiplayer', 'Logic', 'Loot', 'Lovecraftian', 'MMORPG',\n",
       "       'MOBA', 'Magic', 'Management', 'Mars', 'Martial Arts',\n",
       "       'Massively Multiplayer', 'Masterpiece', 'Match 3', 'Mature',\n",
       "       'Mechs', 'Medieval', 'Memes', 'Metroidvania', 'Military',\n",
       "       'Mini Golf', 'Minimalist', 'Mining', 'Mod', 'Moddable',\n",
       "       'Motocross', 'Motorbike', 'Mouse only', 'Movie', 'Multiplayer',\n",
       "       'Multiple Endings', 'Music', 'Music-Based Procedural Generation',\n",
       "       'Mystery', 'Mystery Dungeon', 'Mythology', 'NSFW', 'Narration',\n",
       "       'Naval', 'Ninja', 'Noir', 'Nonlinear', 'Nudity', 'Offroad',\n",
       "       'Old School', 'On-Rails Shooter', 'Online Co-Op', 'Open World',\n",
       "       'Otome', 'Parkour', 'Parody ', 'Party-Based RPG', 'Perma Death',\n",
       "       'Philisophical', 'Photo Editing', 'Physics', 'Pinball', 'Pirates',\n",
       "       'Pixel Graphics', 'Platformer', 'Point & Click', 'Political',\n",
       "       'Politics', 'Pool', 'Post-apocalyptic', 'Procedural Generation',\n",
       "       'Programming', 'Psychedelic', 'Psychological',\n",
       "       'Psychological Horror', 'Puzzle', 'Puzzle-Platformer', 'PvP',\n",
       "       'Quick-Time Events', 'RPG', 'RPGMaker', 'RTS', 'Racing',\n",
       "       'Real Time Tactics', 'Real-Time', 'Real-Time with Pause',\n",
       "       'Realistic', 'Relaxing', 'Remake', 'Replay Value',\n",
       "       'Resource Management', 'Retro', 'Rhythm', 'Robots', 'Rogue-like',\n",
       "       'Rogue-lite', 'Romance', 'Rome', 'Runner', 'Sailing', 'Sandbox',\n",
       "       'Satire', 'Sci-fi', 'Science', 'Score Attack', 'Sexual Content',\n",
       "       \"Shoot 'Em Up\", 'Shooter', 'Short', 'Side Scroller', 'Simulation',\n",
       "       'Singleplayer', 'Skateboarding', 'Skating', 'Sniper', 'Snow',\n",
       "       'Snowboarding', 'Soccer', 'Software', 'Software Training',\n",
       "       'Sokoban', 'Souls-like', 'Space', 'Space Sim', 'Spectacle fighter',\n",
       "       'Spelling', 'Split Screen', 'Sports', 'Star Wars', 'Stealth',\n",
       "       'Steampunk', 'Story Rich', 'Strategy', 'Strategy RPG', 'Stylized',\n",
       "       'Submarine', 'Superhero', 'Supernatural', 'Surreal', 'Survival',\n",
       "       'Survival Horror', 'Swordplay', 'Tactical', 'Tactical RPG',\n",
       "       'Tanks', 'Team-Based', 'Tennis', 'Text-Based', 'Third Person',\n",
       "       'Third-Person Shooter', 'Thriller', 'Time Attack',\n",
       "       'Time Management', 'Time Manipulation', 'Time Travel', 'Top-Down',\n",
       "       'Top-Down Shooter', 'Touch-Friendly', 'Tower Defense', 'Trading',\n",
       "       'Trading Card Game', 'Trains', 'Turn-Based', 'Turn-Based Combat',\n",
       "       'Turn-Based Strategy', 'Turn-Based Tactics', 'Twin Stick Shooter',\n",
       "       'Typing', 'Underwater', 'Utilities', 'VR', 'VR Only', 'Vampire',\n",
       "       'Video Production', 'Villain Protagonist', 'Violent',\n",
       "       'Visual Novel', 'Voice Control', 'Voxel', 'Walking Simulator',\n",
       "       'War', 'Wargame', 'Warhammer 40K', 'Web Publishing', 'Werewolves',\n",
       "       'Western', 'Word Game', 'World War I', 'World War II', 'Wrestling',\n",
       "       'Zombies', 'e-sports'], dtype='<U33')"
      ]
     },
     "execution_count": 46,
     "metadata": {},
     "output_type": "execute_result"
    }
   ],
   "source": [
    "# Cleaned steamspy categories\n",
    "array_steampy = unique(split_semi(df_steam[\"Steamspy Categories\"].unique()))\n",
    "array_steampy"
   ]
  },
  {
   "cell_type": "code",
   "execution_count": 47,
   "metadata": {},
   "outputs": [],
   "source": [
    "# Save cleaned categories into text files\n",
    "array2txt(array_steam, 'steam_categories_cleaned.txt')\n",
    "array2txt(array_genre, 'steam_genres_cleaned.txt')\n",
    "array2txt(array_steampy, 'steamspy_categories_cleaned.txt')"
   ]
  },
  {
   "cell_type": "code",
   "execution_count": 48,
   "metadata": {},
   "outputs": [
    {
     "name": "stdout",
     "output_type": "stream",
     "text": [
      "['Captions available' 'Co-op' 'Commentary available'\n",
      " 'Cross-Platform Multiplayer' 'Full controller support' 'In-App Purchases'\n",
      " 'Includes Source SDK' 'Includes level editor' 'Local Co-op'\n",
      " 'Local Multi-Player' 'MMO' 'Mods' 'Mods (require HL2)' 'Multi-player'\n",
      " 'Online Co-op' 'Online Multi-Player' 'Partial Controller Support'\n",
      " 'Shared/Split Screen' 'Single-player' 'Stats' 'Steam Achievements'\n",
      " 'Steam Cloud' 'Steam Leaderboards' 'Steam Trading Cards'\n",
      " 'Steam Turn Notifications' 'Steam Workshop' 'SteamVR Collectibles'\n",
      " 'VR Support' 'Valve Anti-Cheat enabled' 'Accounting' 'Action' 'Adventure'\n",
      " 'Animation & Modeling' 'Audio Production' 'Casual'\n",
      " 'Design & Illustration' 'Documentary' 'Early Access' 'Education'\n",
      " 'Free to Play' 'Game Development' 'Gore' 'Indie' 'Massively Multiplayer'\n",
      " 'Nudity' 'Photo Editing' 'RPG' 'Racing' 'Sexual Content' 'Simulation'\n",
      " 'Software Training' 'Sports' 'Strategy' 'Tutorial' 'Utilities'\n",
      " 'Video Production' 'Violent' 'Web Publishing' '1980s' \"1990's\" '2.5D'\n",
      " '2D' '2D Fighter' '360 Video' '3D' '3D Platformer' '3D Vision'\n",
      " '4 Player Local' '4X' '6DOF' 'Abstract' 'Action' 'Action RPG'\n",
      " 'Action-Adventure' 'Adventure' 'Agriculture' 'Aliens' 'Alternate History'\n",
      " 'America' 'Animation & Modeling' 'Anime' 'Arcade' 'Arena Shooter'\n",
      " 'Assassin' 'Atmospheric' 'Audio Production' 'BMX' 'Base-Building'\n",
      " 'Baseball' 'Basketball' 'Batman' 'Battle Royale' \"Beat 'em up\"\n",
      " 'Beautiful' 'Benchmark' 'Bikes' 'Blood' 'Board Game' 'Bowling' 'Building'\n",
      " 'Bullet Hell' 'Bullet Time' 'CRPG' 'Capitalism' 'Card Game' 'Cartoon'\n",
      " 'Cartoony' 'Casual' 'Cats' 'Character Action Game'\n",
      " 'Character Customization' 'Chess' 'Choices Matter'\n",
      " 'Choose Your Own Adventure' 'Cinematic' 'City Builder' 'Class-Based'\n",
      " 'Classic' 'Clicker' 'Co-op' 'Cold War' 'Colorful' 'Comedy' 'Comic Book'\n",
      " 'Competitive' 'Controller' 'Conversation' 'Crafting' 'Crime'\n",
      " 'Cult Classic' 'Cute' 'Cyberpunk' 'Cycling' 'Dark' 'Dark Fantasy'\n",
      " 'Dark Humor' 'Dating Sim' 'Demons' 'Design & Illustration' 'Destruction'\n",
      " 'Detective' 'Difficult' 'Dinosaurs' 'Diplomacy' 'Documentary' 'Dog'\n",
      " 'Dragons' 'Drama' 'Driving' 'Dungeon Crawler' 'Dungeons & Dragons'\n",
      " 'Dystopian ' 'Early Access' 'Economy' 'Education' 'Epic' 'Experimental'\n",
      " 'Exploration' 'FMV' 'FPS' 'Faith' 'Family Friendly' 'Fantasy'\n",
      " 'Fast-Paced' 'Female Protagonist' 'Fighting' 'First-Person' 'Fishing'\n",
      " 'Flight' 'Football' 'Free to Play' 'Funny' 'Futuristic' 'Gambling'\n",
      " 'Game Development' 'GameMaker' 'Games Workshop' 'God Game' 'Golf' 'Gore'\n",
      " 'Gothic' 'Grand Strategy' 'Great Soundtrack' 'Grid-Based Movement'\n",
      " 'Gun Customization' 'Hack and Slash' 'Hacking' 'Hand-drawn' 'Heist'\n",
      " 'Hex Grid' 'Hidden Object' 'Historical' 'Hockey' 'Horror' 'Horses'\n",
      " 'Hunting' 'Illuminati' 'Indie' 'Intentionally Awkward Controls'\n",
      " 'Interactive Fiction' 'Inventory Management' 'Investigation' 'Isometric'\n",
      " 'JRPG' 'Kickstarter' 'LEGO' 'Lara Croft' 'Lemmings' 'Level Editor'\n",
      " 'Linear' 'Local Co-Op' 'Local Multiplayer' 'Logic' 'Loot' 'Lovecraftian'\n",
      " 'MMORPG' 'MOBA' 'Magic' 'Management' 'Mars' 'Martial Arts'\n",
      " 'Massively Multiplayer' 'Masterpiece' 'Match 3' 'Mature' 'Mechs'\n",
      " 'Medieval' 'Memes' 'Metroidvania' 'Military' 'Mini Golf' 'Minimalist'\n",
      " 'Mining' 'Mod' 'Moddable' 'Motocross' 'Motorbike' 'Mouse only' 'Movie'\n",
      " 'Multiplayer' 'Multiple Endings' 'Music'\n",
      " 'Music-Based Procedural Generation' 'Mystery' 'Mystery Dungeon'\n",
      " 'Mythology' 'NSFW' 'Narration' 'Naval' 'Ninja' 'Noir' 'Nonlinear'\n",
      " 'Nudity' 'Offroad' 'Old School' 'On-Rails Shooter' 'Online Co-Op'\n",
      " 'Open World' 'Otome' 'Parkour' 'Parody ' 'Party-Based RPG' 'Perma Death'\n",
      " 'Philisophical' 'Photo Editing' 'Physics' 'Pinball' 'Pirates'\n",
      " 'Pixel Graphics' 'Platformer' 'Point & Click' 'Political' 'Politics'\n",
      " 'Pool' 'Post-apocalyptic' 'Procedural Generation' 'Programming'\n",
      " 'Psychedelic' 'Psychological' 'Psychological Horror' 'Puzzle'\n",
      " 'Puzzle-Platformer' 'PvP' 'Quick-Time Events' 'RPG' 'RPGMaker' 'RTS'\n",
      " 'Racing' 'Real Time Tactics' 'Real-Time' 'Real-Time with Pause'\n",
      " 'Realistic' 'Relaxing' 'Remake' 'Replay Value' 'Resource Management'\n",
      " 'Retro' 'Rhythm' 'Robots' 'Rogue-like' 'Rogue-lite' 'Romance' 'Rome'\n",
      " 'Runner' 'Sailing' 'Sandbox' 'Satire' 'Sci-fi' 'Science' 'Score Attack'\n",
      " 'Sexual Content' \"Shoot 'Em Up\" 'Shooter' 'Short' 'Side Scroller'\n",
      " 'Simulation' 'Singleplayer' 'Skateboarding' 'Skating' 'Sniper' 'Snow'\n",
      " 'Snowboarding' 'Soccer' 'Software' 'Software Training' 'Sokoban'\n",
      " 'Souls-like' 'Space' 'Space Sim' 'Spectacle fighter' 'Spelling'\n",
      " 'Split Screen' 'Sports' 'Star Wars' 'Stealth' 'Steampunk' 'Story Rich'\n",
      " 'Strategy' 'Strategy RPG' 'Stylized' 'Submarine' 'Superhero'\n",
      " 'Supernatural' 'Surreal' 'Survival' 'Survival Horror' 'Swordplay'\n",
      " 'Tactical' 'Tactical RPG' 'Tanks' 'Team-Based' 'Tennis' 'Text-Based'\n",
      " 'Third Person' 'Third-Person Shooter' 'Thriller' 'Time Attack'\n",
      " 'Time Management' 'Time Manipulation' 'Time Travel' 'Top-Down'\n",
      " 'Top-Down Shooter' 'Touch-Friendly' 'Tower Defense' 'Trading'\n",
      " 'Trading Card Game' 'Trains' 'Turn-Based' 'Turn-Based Combat'\n",
      " 'Turn-Based Strategy' 'Turn-Based Tactics' 'Twin Stick Shooter' 'Typing'\n",
      " 'Underwater' 'Utilities' 'VR' 'VR Only' 'Vampire' 'Video Production'\n",
      " 'Villain Protagonist' 'Violent' 'Visual Novel' 'Voice Control' 'Voxel'\n",
      " 'Walking Simulator' 'War' 'Wargame' 'Warhammer 40K' 'Web Publishing'\n",
      " 'Werewolves' 'Western' 'Word Game' 'World War I' 'World War II'\n",
      " 'Wrestling' 'Zombies' 'e-sports' 'ACTION' 'CASUAL' 'ROLE_PLAYING'\n",
      " 'PUZZLE' 'RACING' 'ADVENTURE' 'ARCADE' 'STRATEGY' 'SPORTS' 'SIMULATION'\n",
      " 'MUSIC' 'EDUCATIONAL' 'WORD' 'TRIVIA' 'BOARD' 'CASINO' 'CARD'] 414\n"
     ]
    }
   ],
   "source": [
    "# Combine all the categories into one single array\n",
    "array_googleplay = df_googleplay[\"Category\"].unique()\n",
    "all_categories = np.concatenate((array_steam, array_genre, array_steampy, array_googleplay), axis=0)\n",
    "print(all_categories, len(all_categories))"
   ]
  },
  {
   "cell_type": "code",
   "execution_count": 52,
   "metadata": {
    "scrolled": true
   },
   "outputs": [
    {
     "name": "stdout",
     "output_type": "stream",
     "text": [
      "['Captions available' 'Co-op' 'Commentary available'\n",
      " 'Cross-Platform Multiplayer' 'Full controller support' 'In-App Purchases'\n",
      " 'Includes Source SDK' 'Includes level editor' 'Local Co-op'\n",
      " 'Local Multi-Player' 'MMO' 'Mods' 'Mods (require HL2)' 'Multi-player'\n",
      " 'Online Co-op' 'Online Multi-Player' 'Partial Controller Support'\n",
      " 'Shared/Split Screen' 'Single-player' 'Stats' 'Steam Achievements'\n",
      " 'Steam Cloud' 'Steam Leaderboards' 'Steam Trading Cards'\n",
      " 'Steam Turn Notifications' 'Steam Workshop' 'SteamVR Collectibles'\n",
      " 'VR Support' 'Valve Anti-Cheat enabled' 'Accounting' 'Action' 'Adventure'\n",
      " 'Animation & Modeling' 'Audio Production' 'Casual'\n",
      " 'Design & Illustration' 'Documentary' 'Early Access' 'Education'\n",
      " 'Free to Play' 'Game Development' 'Gore' 'Indie' 'Massively Multiplayer'\n",
      " 'Nudity' 'Photo Editing' 'RPG' 'Racing' 'Sexual Content' 'Simulation'\n",
      " 'Software Training' 'Sports' 'Strategy' 'Tutorial' 'Utilities'\n",
      " 'Video Production' 'Violent' 'Web Publishing' '1980s' \"1990's\" '2.5D'\n",
      " '2D' '2D Fighter' '360 Video' '3D' '3D Platformer' '3D Vision'\n",
      " '4 Player Local' '4X' '6DOF' 'Abstract' 'Action' 'Action RPG'\n",
      " 'Action-Adventure' 'Adventure' 'Agriculture' 'Aliens' 'Alternate History'\n",
      " 'America' 'Animation & Modeling' 'Anime' 'Arcade' 'Arena Shooter'\n",
      " 'Assassin' 'Atmospheric' 'Audio Production' 'BMX' 'Base-Building'\n",
      " 'Baseball' 'Basketball' 'Batman' 'Battle Royale' \"Beat 'em up\"\n",
      " 'Beautiful' 'Benchmark' 'Bikes' 'Blood' 'Board Game' 'Bowling' 'Building'\n",
      " 'Bullet Hell' 'Bullet Time' 'CRPG' 'Capitalism' 'Card Game' 'Cartoon'\n",
      " 'Cartoony' 'Casual' 'Cats' 'Character Action Game'\n",
      " 'Character Customization' 'Chess' 'Choices Matter'\n",
      " 'Choose Your Own Adventure' 'Cinematic' 'City Builder' 'Class-Based'\n",
      " 'Classic' 'Clicker' 'Co-op' 'Cold War' 'Colorful' 'Comedy' 'Comic Book'\n",
      " 'Competitive' 'Controller' 'Conversation' 'Crafting' 'Crime'\n",
      " 'Cult Classic' 'Cute' 'Cyberpunk' 'Cycling' 'Dark' 'Dark Fantasy'\n",
      " 'Dark Humor' 'Dating Sim' 'Demons' 'Design & Illustration' 'Destruction'\n",
      " 'Detective' 'Difficult' 'Dinosaurs' 'Diplomacy' 'Documentary' 'Dog'\n",
      " 'Dragons' 'Drama' 'Driving' 'Dungeon Crawler' 'Dungeons & Dragons'\n",
      " 'Dystopian ' 'Early Access' 'Economy' 'Education' 'Epic' 'Experimental'\n",
      " 'Exploration' 'FMV' 'FPS' 'Faith' 'Family Friendly' 'Fantasy'\n",
      " 'Fast-Paced' 'Female Protagonist' 'Fighting' 'First-Person' 'Fishing'\n",
      " 'Flight' 'Football' 'Free to Play' 'Funny' 'Futuristic' 'Gambling'\n",
      " 'Game Development' 'GameMaker' 'Games Workshop' 'God Game' 'Golf' 'Gore'\n",
      " 'Gothic' 'Grand Strategy' 'Great Soundtrack' 'Grid-Based Movement'\n",
      " 'Gun Customization' 'Hack and Slash' 'Hacking' 'Hand-drawn' 'Heist'\n",
      " 'Hex Grid' 'Hidden Object' 'Historical' 'Hockey' 'Horror' 'Horses'\n",
      " 'Hunting' 'Illuminati' 'Indie' 'Intentionally Awkward Controls'\n",
      " 'Interactive Fiction' 'Inventory Management' 'Investigation' 'Isometric'\n",
      " 'JRPG' 'Kickstarter' 'LEGO' 'Lara Croft' 'Lemmings' 'Level Editor'\n",
      " 'Linear' 'Local Co-Op' 'Local Multiplayer' 'Logic' 'Loot' 'Lovecraftian'\n",
      " 'MMORPG' 'MOBA' 'Magic' 'Management' 'Mars' 'Martial Arts'\n",
      " 'Massively Multiplayer' 'Masterpiece' 'Match 3' 'Mature' 'Mechs'\n",
      " 'Medieval' 'Memes' 'Metroidvania' 'Military' 'Mini Golf' 'Minimalist'\n",
      " 'Mining' 'Mod' 'Moddable' 'Motocross' 'Motorbike' 'Mouse only' 'Movie'\n",
      " 'Multiplayer' 'Multiple Endings' 'Music'\n",
      " 'Music-Based Procedural Generation' 'Mystery' 'Mystery Dungeon'\n",
      " 'Mythology' 'NSFW' 'Narration' 'Naval' 'Ninja' 'Noir' 'Nonlinear'\n",
      " 'Nudity' 'Offroad' 'Old School' 'On-Rails Shooter' 'Online Co-Op'\n",
      " 'Open World' 'Otome' 'Parkour' 'Parody ' 'Party-Based RPG' 'Perma Death'\n",
      " 'Philisophical' 'Photo Editing' 'Physics' 'Pinball' 'Pirates'\n",
      " 'Pixel Graphics' 'Platformer' 'Point & Click' 'Political' 'Politics'\n",
      " 'Pool' 'Post-apocalyptic' 'Procedural Generation' 'Programming'\n",
      " 'Psychedelic' 'Psychological' 'Psychological Horror' 'Puzzle'\n",
      " 'Puzzle-Platformer' 'PvP' 'Quick-Time Events' 'RPG' 'RPGMaker' 'RTS'\n",
      " 'Racing' 'Real Time Tactics' 'Real-Time' 'Real-Time with Pause'\n",
      " 'Realistic' 'Relaxing' 'Remake' 'Replay Value' 'Resource Management'\n",
      " 'Retro' 'Rhythm' 'Robots' 'Rogue-like' 'Rogue-lite' 'Romance' 'Rome'\n",
      " 'Runner' 'Sailing' 'Sandbox' 'Satire' 'Sci-fi' 'Science' 'Score Attack'\n",
      " 'Sexual Content' \"Shoot 'Em Up\" 'Shooter' 'Short' 'Side Scroller'\n",
      " 'Simulation' 'Singleplayer' 'Skateboarding' 'Skating' 'Sniper' 'Snow'\n",
      " 'Snowboarding' 'Soccer' 'Software' 'Software Training' 'Sokoban'\n",
      " 'Souls-like' 'Space' 'Space Sim' 'Spectacle fighter' 'Spelling'\n",
      " 'Split Screen' 'Sports' 'Star Wars' 'Stealth' 'Steampunk' 'Story Rich'\n",
      " 'Strategy' 'Strategy RPG' 'Stylized' 'Submarine' 'Superhero'\n",
      " 'Supernatural' 'Surreal' 'Survival' 'Survival Horror' 'Swordplay'\n",
      " 'Tactical' 'Tactical RPG' 'Tanks' 'Team-Based' 'Tennis' 'Text-Based'\n",
      " 'Third Person' 'Third-Person Shooter' 'Thriller' 'Time Attack'\n",
      " 'Time Management' 'Time Manipulation' 'Time Travel' 'Top-Down'\n",
      " 'Top-Down Shooter' 'Touch-Friendly' 'Tower Defense' 'Trading'\n",
      " 'Trading Card Game' 'Trains' 'Turn-Based' 'Turn-Based Combat'\n",
      " 'Turn-Based Strategy' 'Turn-Based Tactics' 'Twin Stick Shooter' 'Typing'\n",
      " 'Underwater' 'Utilities' 'VR' 'VR Only' 'Vampire' 'Video Production'\n",
      " 'Villain Protagonist' 'Violent' 'Visual Novel' 'Voice Control' 'Voxel'\n",
      " 'Walking Simulator' 'War' 'Wargame' 'Warhammer 40K' 'Web Publishing'\n",
      " 'Werewolves' 'Western' 'Word Game' 'World War I' 'World War II'\n",
      " 'Wrestling' 'Zombies' 'e-sports'] 397\n"
     ]
    }
   ],
   "source": [
    "# Also prepare steam and google play as 2 separate groups of categories\n",
    "all_steam = np.concatenate((array_steam, array_genre, array_steampy), axis=0)\n",
    "print(all_steam, len(all_steam))\n",
    "array2txt(all_steam, 'all_steam_categories_cleaned.txt')\n",
    "array2txt(array_googleplay, 'googleplay_categories.txt')"
   ]
  },
  {
   "cell_type": "markdown",
   "metadata": {},
   "source": [
    "# Data Analysis & Results"
   ]
  },
  {
   "cell_type": "markdown",
   "metadata": {},
   "source": [
    "Include cells that describe the steps in your data analysis."
   ]
  },
  {
   "cell_type": "code",
   "execution_count": 23,
   "metadata": {},
   "outputs": [],
   "source": [
    "## YOUR CODE HERE\n",
    "## FEEL FREE TO ADD MULTIPLE CELLS PER SECTION"
   ]
  },
  {
   "cell_type": "markdown",
   "metadata": {},
   "source": [
    "# Ethics & Privacy"
   ]
  },
  {
   "cell_type": "markdown",
   "metadata": {},
   "source": [
    "*Fill in your ethics & privacy discussion here*"
   ]
  },
  {
   "cell_type": "markdown",
   "metadata": {},
   "source": [
    "# Conclusion & Discussion"
   ]
  },
  {
   "cell_type": "markdown",
   "metadata": {},
   "source": [
    "*Fill in your discussion information here*"
   ]
  }
 ],
 "metadata": {
  "kernelspec": {
   "display_name": "Python 3",
   "language": "python",
   "name": "python3"
  },
  "language_info": {
   "codemirror_mode": {
    "name": "ipython",
    "version": 3
   },
   "file_extension": ".py",
   "mimetype": "text/x-python",
   "name": "python",
   "nbconvert_exporter": "python",
   "pygments_lexer": "ipython3",
   "version": "3.7.4"
  }
 },
 "nbformat": 4,
 "nbformat_minor": 2
}
