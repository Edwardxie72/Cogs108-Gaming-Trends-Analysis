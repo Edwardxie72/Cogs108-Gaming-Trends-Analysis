{
 "cells": [
  {
   "cell_type": "markdown",
   "metadata": {},
   "source": [
    "# COGS 108 - Final Project "
   ]
  },
  {
   "cell_type": "markdown",
   "metadata": {},
   "source": [
    "# Overview"
   ]
  },
  {
   "cell_type": "markdown",
   "metadata": {},
   "source": [
    "Since the first video game was created half a century ago, the gaming industry has gone through lots of evolutions to become what it’s like today. As technology advances, more video games with better graphics and more innovative gameplays are published every year and gained huge popularity. A good portion of the games published each year are soon considered outdated and proceed to lose their popularity and player base over time, but there is always that one game that you as a player come back to once in a while and just never seem to get tired of. Games nowadays are often categorized fairly broadly, with many falling into the categories of shooters, rpgs, rogue-likes, and so on. Our main goal with this project is to see what type of categories tend to get the best user responses to them and how this response has shifted over time. We wanted to figure out what is the current trend for popular game categories. We will split this up by seeing the trends for each specific year and how the reception for the game has been.\n",
    "\n",
    "We will utilize two datasets, one for Steam games and one for mobile games in order to see if there's a category more suited for mobile devices compared to computers. With these analysis, we can hopefully find a pattern that tells us what types of games are going to be the most popular for each platform."
   ]
  },
  {
   "cell_type": "markdown",
   "metadata": {},
   "source": [
    "# Names\n",
    "\n",
    "- Edward Xie\n",
    "- Simon Fei\n",
    "- Abdiaziz Weheliye\n",
    "- Anwen He"
   ]
  },
  {
   "cell_type": "markdown",
   "metadata": {},
   "source": [
    "# Group Members IDs\n",
    "\n",
    "- Edwardxie72 --- A15534895\n",
    "- Simonfei123 --- A15658075\n",
    "- aweheliy    --- A15690733\n",
    "- ErwinHe2012 --- A92147485"
   ]
  },
  {
   "cell_type": "markdown",
   "metadata": {},
   "source": [
    "# Research Question"
   ]
  },
  {
   "cell_type": "markdown",
   "metadata": {},
   "source": [
    "Is there a significant difference in trends between mobile and PC Games?\n",
    "\n",
    "Our second question for this was if there is a significant relation between the listed categories of a game and its user ratings? If that’s the case, what type of game categories get the best user ratings and how has this trend changed over the years?"
   ]
  },
  {
   "cell_type": "markdown",
   "metadata": {},
   "source": [
    "## Background and Prior Work"
   ]
  },
  {
   "cell_type": "markdown",
   "metadata": {},
   "source": [
    "The video game industry has been gaining huge amounts of popularity throughout the years and the gaming culture has almost become mainstream. Previously, big studios and developers tend to create and publish games on higher end PCs and gaming consoles like Microsoft’s Xbox and Sony’s Playstation. Judging by a report as recent as 2019, a larger portion of video games are distributed on portable devices that are more prevalent - smartphones, and they are generating up to 34% of the total revenue on the market, and more users prefer gaming on mobile platforms over PC gaming. \n",
    "\n",
    "Mobile games seem to have the most variation out of games on different platforms; some developers intend to bring out games with equivalent quality of those on bigger consoles that are capable of better performance in general, while others thrive on making small and delicate games with innovative gameplay that attracts casual players. PC gaming still takes up a huge portion of the pie. Steam, the biggest video game distribution platform on PC, released over 9000 new games on the store for the entirety of 2018, which equals to 25 games on average per day. However, these are a fraction of the number of gaming apps on the Google play store, which has over 240,000 games available for download at the moment. \n",
    "\n",
    "Both platforms use a strict review system, percentage-based or using a 5-star rating that changes over the time. Steam, for example, shows two separate scores for each game, one represents the general review of all time since this game has been published, and the other represents the review it gets within the last 30 days. This system reflects well on users’ reaction towards games that are constantly being updated and patched even after their initial release. Combined with media sources giving more authentic reviews from time to time, it is known for a fact that the developers take player reviews very seriously and they rely heavily on those reviews to give them ideas of what to work on next. With the industry taking notice of the importance of player reviews, more studies on how the background culture of players affect their selection of genres and categories were conducted. We as a group are inspired by these ideas and want to take a more methodical approach to find a pattern between reviews and categories of games, with an emphasis on the difference between the trends shown on different platforms.\n",
    "\n",
    "References:\n",
    "\n",
    "1. 2019 Video Game Industry Statistics, Trends & Data https://www.wepc.com/news/video-game-statistics/\n",
    "2. Number of games released on Steam worldwide 2004 to 2018 https://www.statista.com/statistics/552623/number-games-released-steam/\n",
    "3. The Structure of Video Game Preference http://gamestudies.org/1702/articles/klevjer_hovden\n",
    "4. Top 10 Most Popular Video Game Genres Dominating the Global Gaming Market 2018 https://blog.technavio.com/blog/top-10-most-popular-game-genres"
   ]
  },
  {
   "cell_type": "markdown",
   "metadata": {},
   "source": [
    "# Hypothesis\n"
   ]
  },
  {
   "cell_type": "markdown",
   "metadata": {},
   "source": [
    "Our project primarily focuses on finding the relationship between game categories and user ratings over the years and whether there is a difference regarding how games with certain tags gain a higher rating on PC compared to games on mobile platforms. \n",
    "\n",
    "We suspect that platform specific features would give certain genres some edge over the others. For example, because PC has better graphical power, graphical intensive games such as action genre might give gamers better experience; on the other hand, mobile games have their advantage of the convenience and availability, so genres such as casual could win out the rest. But mobile games have caught up in graphics over time, so we might see rising ratings for genres that tend to have more graphically intensive games. \n",
    "\n",
    "Because we are using publicly available data, we can’t have any insight into whether there is any personality differences between PC gamers and mobile gamers. We’d still hypothesize that PC gamers like the ones that are more competitive, such as action and strategies, which encompass most e-sports titles. Mobile gamers would be interested in strategies as well because a lot of casual games tend to be light puzzle-solvers."
   ]
  },
  {
   "cell_type": "markdown",
   "metadata": {},
   "source": [
    "# Dataset(s)"
   ]
  },
  {
   "cell_type": "markdown",
   "metadata": {},
   "source": [
    "*Dataset Information*\n",
    "\n",
    "- Dataset Name: Steam Store Games\n",
    "- Link to the dataset: https://www.kaggle.com/nikdavis/steam-store-games\n",
    "- Number of observations: 27033\n",
    "\n",
    "This dataset contains 27033 games from steam and it includes information on the games. The data we will be utilizing for each game is the categories of the game, the genre of the game, the steamspy tags of the game, the number of positive ratings for the game, and the number of negative ratings for the game.\n",
    "\n",
    "- Dataset Name: Google Store Play Apps\n",
    "- Link to the dataset: https://www.kaggle.com/gauthamp10/google-playstore-apps#Google-Playstore-Full.csv\n",
    "- Number of observations: 244407\n",
    "\n",
    "This dataset contains 244407 apps from the play store. With this data set we will extract all the games and from these games, the data we will utilize from them is the category of the game, the rating for the app, and the review count for the app.\n",
    "\n",
    "*How we will combine the datasets:*\n",
    "We will be treating these as seperate databases, but will use the results to compare the differences between games on the computer and games on a mobile device to see if there is some difference in the trends between these.\n"
   ]
  },
  {
   "cell_type": "markdown",
   "metadata": {},
   "source": [
    "# Setup"
   ]
  },
  {
   "cell_type": "code",
   "execution_count": 1,
   "metadata": {},
   "outputs": [],
   "source": [
    "#Imports (Following A2 as a guideline for processing data)\n",
    "%matplotlib inline\n",
    "\n",
    "import numpy as np\n",
    "import pandas as pd\n",
    "import matplotlib.pyplot as plt\n",
    "from scipy.optimize import curve_fit\n",
    "\n",
    "# for stats analysis\n",
    "import scipy.stats as stats\n",
    "from scipy.stats import ttest_ind, chisquare, normaltest\n",
    "\n",
    "import seaborn as sns"
   ]
  },
  {
   "cell_type": "code",
   "execution_count": 2,
   "metadata": {},
   "outputs": [],
   "source": [
    "# Configure libraries(taken from A2)\n",
    "# The seaborn library makes plots look nicer\n",
    "sns.set()\n",
    "sns.set_context('talk')\n",
    "\n",
    "# Don't display too many rows/cols of DataFrames\n",
    "pd.options.display.max_rows = 7\n",
    "pd.options.display.max_columns = 8\n",
    "\n",
    "# Round decimals when displaying DataFrames\n",
    "pd.set_option('precision', 2)"
   ]
  },
  {
   "cell_type": "markdown",
   "metadata": {},
   "source": [
    "# Data Cleaning"
   ]
  },
  {
   "cell_type": "markdown",
   "metadata": {},
   "source": [
    "## TODO\n",
    "Describe your data cleaning steps here."
   ]
  },
  {
   "cell_type": "code",
   "execution_count": 3,
   "metadata": {},
   "outputs": [],
   "source": [
    "# Read in data\n",
    "df_steam = pd.read_csv('steam.csv', low_memory=False)\n",
    "df_googleplay = pd.read_csv('Google-Playstore-Full.csv', low_memory=False)"
   ]
  },
  {
   "cell_type": "code",
   "execution_count": 4,
   "metadata": {},
   "outputs": [
    {
     "data": {
      "text/html": [
       "<div>\n",
       "<style scoped>\n",
       "    .dataframe tbody tr th:only-of-type {\n",
       "        vertical-align: middle;\n",
       "    }\n",
       "\n",
       "    .dataframe tbody tr th {\n",
       "        vertical-align: top;\n",
       "    }\n",
       "\n",
       "    .dataframe thead th {\n",
       "        text-align: right;\n",
       "    }\n",
       "</style>\n",
       "<table border=\"1\" class=\"dataframe\">\n",
       "  <thead>\n",
       "    <tr style=\"text-align: right;\">\n",
       "      <th></th>\n",
       "      <th>appid</th>\n",
       "      <th>name</th>\n",
       "      <th>release_date</th>\n",
       "      <th>english</th>\n",
       "      <th>...</th>\n",
       "      <th>average_playtime</th>\n",
       "      <th>median_playtime</th>\n",
       "      <th>owners</th>\n",
       "      <th>price</th>\n",
       "    </tr>\n",
       "  </thead>\n",
       "  <tbody>\n",
       "    <tr>\n",
       "      <th>0</th>\n",
       "      <td>10</td>\n",
       "      <td>Counter-Strike</td>\n",
       "      <td>2000-11-01</td>\n",
       "      <td>1</td>\n",
       "      <td>...</td>\n",
       "      <td>17612</td>\n",
       "      <td>317</td>\n",
       "      <td>10000000-20000000</td>\n",
       "      <td>7.19</td>\n",
       "    </tr>\n",
       "    <tr>\n",
       "      <th>1</th>\n",
       "      <td>20</td>\n",
       "      <td>Team Fortress Classic</td>\n",
       "      <td>1999-04-01</td>\n",
       "      <td>1</td>\n",
       "      <td>...</td>\n",
       "      <td>277</td>\n",
       "      <td>62</td>\n",
       "      <td>5000000-10000000</td>\n",
       "      <td>3.99</td>\n",
       "    </tr>\n",
       "    <tr>\n",
       "      <th>2</th>\n",
       "      <td>30</td>\n",
       "      <td>Day of Defeat</td>\n",
       "      <td>2003-05-01</td>\n",
       "      <td>1</td>\n",
       "      <td>...</td>\n",
       "      <td>187</td>\n",
       "      <td>34</td>\n",
       "      <td>5000000-10000000</td>\n",
       "      <td>3.99</td>\n",
       "    </tr>\n",
       "    <tr>\n",
       "      <th>3</th>\n",
       "      <td>40</td>\n",
       "      <td>Deathmatch Classic</td>\n",
       "      <td>2001-06-01</td>\n",
       "      <td>1</td>\n",
       "      <td>...</td>\n",
       "      <td>258</td>\n",
       "      <td>184</td>\n",
       "      <td>5000000-10000000</td>\n",
       "      <td>3.99</td>\n",
       "    </tr>\n",
       "    <tr>\n",
       "      <th>4</th>\n",
       "      <td>50</td>\n",
       "      <td>Half-Life: Opposing Force</td>\n",
       "      <td>1999-11-01</td>\n",
       "      <td>1</td>\n",
       "      <td>...</td>\n",
       "      <td>624</td>\n",
       "      <td>415</td>\n",
       "      <td>5000000-10000000</td>\n",
       "      <td>3.99</td>\n",
       "    </tr>\n",
       "  </tbody>\n",
       "</table>\n",
       "<p>5 rows × 18 columns</p>\n",
       "</div>"
      ],
      "text/plain": [
       "   appid                       name release_date  english  ...  \\\n",
       "0     10             Counter-Strike   2000-11-01        1  ...   \n",
       "1     20      Team Fortress Classic   1999-04-01        1  ...   \n",
       "2     30              Day of Defeat   2003-05-01        1  ...   \n",
       "3     40         Deathmatch Classic   2001-06-01        1  ...   \n",
       "4     50  Half-Life: Opposing Force   1999-11-01        1  ...   \n",
       "\n",
       "  average_playtime median_playtime             owners  price  \n",
       "0            17612             317  10000000-20000000   7.19  \n",
       "1              277              62   5000000-10000000   3.99  \n",
       "2              187              34   5000000-10000000   3.99  \n",
       "3              258             184   5000000-10000000   3.99  \n",
       "4              624             415   5000000-10000000   3.99  \n",
       "\n",
       "[5 rows x 18 columns]"
      ]
     },
     "execution_count": 4,
     "metadata": {},
     "output_type": "execute_result"
    }
   ],
   "source": [
    "# Preview and clean up steam data set first\n",
    "df_steam.head(5)"
   ]
  },
  {
   "cell_type": "code",
   "execution_count": 5,
   "metadata": {},
   "outputs": [],
   "source": [
    "# Start by dropping unwanted data, keep the name so we have some way to identify apps, but not neccesary\n",
    "del df_steam['appid']\n",
    "del df_steam['english']\n",
    "del df_steam['developer']\n",
    "del df_steam['publisher']\n",
    "del df_steam['platforms']\n",
    "del df_steam['required_age']\n",
    "del df_steam['achievements']\n",
    "del df_steam['average_playtime']\n",
    "del df_steam['median_playtime']\n",
    "del df_steam['price']\n",
    "del df_steam['owners']  # We drop owners because it gives a range which might make data inconsistent, instead we will weigh off each rating"
   ]
  },
  {
   "cell_type": "code",
   "execution_count": 6,
   "metadata": {},
   "outputs": [],
   "source": [
    "# Rename categories before we start cleaning data\n",
    "df_steam.columns = ['Name', 'Year', 'Steam Categories', 'Genre', 'Steamspy Categories', 'Positive Ratings', 'Negative Ratings']"
   ]
  },
  {
   "cell_type": "code",
   "execution_count": 7,
   "metadata": {},
   "outputs": [],
   "source": [
    "# Extract only the year from the release date because we analyze by year\n",
    "def extract_year(string):\n",
    "    return int(string[:4])  # Only need first 4 characters for year"
   ]
  },
  {
   "cell_type": "code",
   "execution_count": 8,
   "metadata": {},
   "outputs": [],
   "source": [
    "df_steam['Year'] = df_steam['Year'].apply(extract_year)  # Change all years in our df"
   ]
  },
  {
   "cell_type": "code",
   "execution_count": 9,
   "metadata": {},
   "outputs": [
    {
     "data": {
      "text/html": [
       "<div>\n",
       "<style scoped>\n",
       "    .dataframe tbody tr th:only-of-type {\n",
       "        vertical-align: middle;\n",
       "    }\n",
       "\n",
       "    .dataframe tbody tr th {\n",
       "        vertical-align: top;\n",
       "    }\n",
       "\n",
       "    .dataframe thead th {\n",
       "        text-align: right;\n",
       "    }\n",
       "</style>\n",
       "<table border=\"1\" class=\"dataframe\">\n",
       "  <thead>\n",
       "    <tr style=\"text-align: right;\">\n",
       "      <th></th>\n",
       "      <th>App Name</th>\n",
       "      <th>Category</th>\n",
       "      <th>Rating</th>\n",
       "      <th>Reviews</th>\n",
       "      <th>...</th>\n",
       "      <th>Unnamed: 11</th>\n",
       "      <th>Unnamed: 12</th>\n",
       "      <th>Unnamed: 13</th>\n",
       "      <th>Unnamed: 14</th>\n",
       "    </tr>\n",
       "  </thead>\n",
       "  <tbody>\n",
       "    <tr>\n",
       "      <th>0</th>\n",
       "      <td>DoorDash - Food Delivery</td>\n",
       "      <td>FOOD_AND_DRINK</td>\n",
       "      <td>4.548561573</td>\n",
       "      <td>305034</td>\n",
       "      <td>...</td>\n",
       "      <td>NaN</td>\n",
       "      <td>NaN</td>\n",
       "      <td>NaN</td>\n",
       "      <td>NaN</td>\n",
       "    </tr>\n",
       "    <tr>\n",
       "      <th>1</th>\n",
       "      <td>TripAdvisor Hotels Flights Restaurants Attract...</td>\n",
       "      <td>TRAVEL_AND_LOCAL</td>\n",
       "      <td>4.400671482</td>\n",
       "      <td>1207922</td>\n",
       "      <td>...</td>\n",
       "      <td>NaN</td>\n",
       "      <td>NaN</td>\n",
       "      <td>NaN</td>\n",
       "      <td>NaN</td>\n",
       "    </tr>\n",
       "    <tr>\n",
       "      <th>2</th>\n",
       "      <td>Peapod</td>\n",
       "      <td>SHOPPING</td>\n",
       "      <td>3.656329393</td>\n",
       "      <td>1967</td>\n",
       "      <td>...</td>\n",
       "      <td>NaN</td>\n",
       "      <td>NaN</td>\n",
       "      <td>NaN</td>\n",
       "      <td>NaN</td>\n",
       "    </tr>\n",
       "    <tr>\n",
       "      <th>3</th>\n",
       "      <td>foodpanda - Local Food Delivery</td>\n",
       "      <td>FOOD_AND_DRINK</td>\n",
       "      <td>4.107232571</td>\n",
       "      <td>389154</td>\n",
       "      <td>...</td>\n",
       "      <td>NaN</td>\n",
       "      <td>NaN</td>\n",
       "      <td>NaN</td>\n",
       "      <td>NaN</td>\n",
       "    </tr>\n",
       "    <tr>\n",
       "      <th>4</th>\n",
       "      <td>My CookBook Pro (Ad Free)</td>\n",
       "      <td>FOOD_AND_DRINK</td>\n",
       "      <td>4.647752285</td>\n",
       "      <td>2291</td>\n",
       "      <td>...</td>\n",
       "      <td>NaN</td>\n",
       "      <td>NaN</td>\n",
       "      <td>NaN</td>\n",
       "      <td>NaN</td>\n",
       "    </tr>\n",
       "  </tbody>\n",
       "</table>\n",
       "<p>5 rows × 15 columns</p>\n",
       "</div>"
      ],
      "text/plain": [
       "                                            App Name          Category  \\\n",
       "0                           DoorDash - Food Delivery    FOOD_AND_DRINK   \n",
       "1  TripAdvisor Hotels Flights Restaurants Attract...  TRAVEL_AND_LOCAL   \n",
       "2                                             Peapod          SHOPPING   \n",
       "3                    foodpanda - Local Food Delivery    FOOD_AND_DRINK   \n",
       "4                          My CookBook Pro (Ad Free)    FOOD_AND_DRINK   \n",
       "\n",
       "        Rating  Reviews  ... Unnamed: 11 Unnamed: 12 Unnamed: 13 Unnamed: 14  \n",
       "0  4.548561573   305034  ...         NaN         NaN         NaN         NaN  \n",
       "1  4.400671482  1207922  ...         NaN         NaN         NaN         NaN  \n",
       "2  3.656329393     1967  ...         NaN         NaN         NaN         NaN  \n",
       "3  4.107232571   389154  ...         NaN         NaN         NaN         NaN  \n",
       "4  4.647752285     2291  ...         NaN         NaN         NaN         NaN  \n",
       "\n",
       "[5 rows x 15 columns]"
      ]
     },
     "execution_count": 9,
     "metadata": {},
     "output_type": "execute_result"
    }
   ],
   "source": [
    "# Preview and clean up Google Play Data\n",
    "df_googleplay.head(5)"
   ]
  },
  {
   "cell_type": "code",
   "execution_count": 10,
   "metadata": {},
   "outputs": [],
   "source": [
    "# Start by dropping unwanted data, keep the name so we have some way to identify apps, but not neccesary\n",
    "del df_googleplay['Installs']  # We don't care about installs for same reason as steam, use number of ratings instead\n",
    "del df_googleplay['Size']\n",
    "del df_googleplay['Price']\n",
    "del df_googleplay['Content Rating']\n",
    "del df_googleplay['Last Updated']\n",
    "del df_googleplay['Minimum Version']\n",
    "del df_googleplay['Latest Version']\n",
    "del df_googleplay['Unnamed: 11']\n",
    "del df_googleplay['Unnamed: 12']\n",
    "del df_googleplay['Unnamed: 13']\n",
    "del df_googleplay['Unnamed: 14']"
   ]
  },
  {
   "cell_type": "code",
   "execution_count": 11,
   "metadata": {},
   "outputs": [],
   "source": [
    "df_googleplay = df_googleplay.dropna(subset=['Category', 'Rating', 'Reviews'])"
   ]
  },
  {
   "cell_type": "code",
   "execution_count": 12,
   "metadata": {},
   "outputs": [],
   "source": [
    "# First start by dropping all non game category games, games will start with the string \"GAME_\" in category\n",
    "df_googleplay = df_googleplay[df_googleplay['Category'].str.contains('GAME')]\n",
    "df_googleplay = df_googleplay.reset_index(drop=True)"
   ]
  },
  {
   "cell_type": "code",
   "execution_count": 13,
   "metadata": {},
   "outputs": [],
   "source": [
    "# Add extra columns to steam one for the average rating(out of 10) and total number of ratings(Pos rating/(Pos + neg rating))\n",
    "df_steam['AvgRating'] = df_steam['Positive Ratings'].div(df_steam['Positive Ratings'].add(df_steam['Negative Ratings']))\n",
    "df_steam['NumRating'] = df_steam['Positive Ratings'].add(df_steam['Negative Ratings'])"
   ]
  },
  {
   "cell_type": "code",
   "execution_count": 14,
   "metadata": {},
   "outputs": [],
   "source": [
    "# Add extra columns to googleplay, one for avg rating(out of 10) and rename total to match steam\n",
    "df_googleplay['Rating'] = df_googleplay['Rating'].astype(float)\n",
    "df_googleplay['AvgRating'] = df_googleplay['Rating'].mul(2)\n",
    "df_googleplay.rename(columns = {'Reviews':'NumRating'}, inplace = True) "
   ]
  },
  {
   "cell_type": "code",
   "execution_count": 15,
   "metadata": {},
   "outputs": [],
   "source": [
    "# Clean up the categories for the games\n",
    "df_googleplay['Category'] = df_googleplay['Category'].str.slice(start=5)"
   ]
  },
  {
   "cell_type": "code",
   "execution_count": 16,
   "metadata": {},
   "outputs": [
    {
     "data": {
      "text/html": [
       "<div>\n",
       "<style scoped>\n",
       "    .dataframe tbody tr th:only-of-type {\n",
       "        vertical-align: middle;\n",
       "    }\n",
       "\n",
       "    .dataframe tbody tr th {\n",
       "        vertical-align: top;\n",
       "    }\n",
       "\n",
       "    .dataframe thead th {\n",
       "        text-align: right;\n",
       "    }\n",
       "</style>\n",
       "<table border=\"1\" class=\"dataframe\">\n",
       "  <thead>\n",
       "    <tr style=\"text-align: right;\">\n",
       "      <th></th>\n",
       "      <th>Name</th>\n",
       "      <th>Year</th>\n",
       "      <th>Steam Categories</th>\n",
       "      <th>Genre</th>\n",
       "      <th>...</th>\n",
       "      <th>Positive Ratings</th>\n",
       "      <th>Negative Ratings</th>\n",
       "      <th>AvgRating</th>\n",
       "      <th>NumRating</th>\n",
       "    </tr>\n",
       "  </thead>\n",
       "  <tbody>\n",
       "    <tr>\n",
       "      <th>0</th>\n",
       "      <td>Counter-Strike</td>\n",
       "      <td>2000</td>\n",
       "      <td>Multi-player;Online Multi-Player;Local Multi-P...</td>\n",
       "      <td>Action</td>\n",
       "      <td>...</td>\n",
       "      <td>124534</td>\n",
       "      <td>3339</td>\n",
       "      <td>0.97</td>\n",
       "      <td>127873</td>\n",
       "    </tr>\n",
       "    <tr>\n",
       "      <th>1</th>\n",
       "      <td>Team Fortress Classic</td>\n",
       "      <td>1999</td>\n",
       "      <td>Multi-player;Online Multi-Player;Local Multi-P...</td>\n",
       "      <td>Action</td>\n",
       "      <td>...</td>\n",
       "      <td>3318</td>\n",
       "      <td>633</td>\n",
       "      <td>0.84</td>\n",
       "      <td>3951</td>\n",
       "    </tr>\n",
       "    <tr>\n",
       "      <th>2</th>\n",
       "      <td>Day of Defeat</td>\n",
       "      <td>2003</td>\n",
       "      <td>Multi-player;Valve Anti-Cheat enabled</td>\n",
       "      <td>Action</td>\n",
       "      <td>...</td>\n",
       "      <td>3416</td>\n",
       "      <td>398</td>\n",
       "      <td>0.90</td>\n",
       "      <td>3814</td>\n",
       "    </tr>\n",
       "    <tr>\n",
       "      <th>3</th>\n",
       "      <td>Deathmatch Classic</td>\n",
       "      <td>2001</td>\n",
       "      <td>Multi-player;Online Multi-Player;Local Multi-P...</td>\n",
       "      <td>Action</td>\n",
       "      <td>...</td>\n",
       "      <td>1273</td>\n",
       "      <td>267</td>\n",
       "      <td>0.83</td>\n",
       "      <td>1540</td>\n",
       "    </tr>\n",
       "    <tr>\n",
       "      <th>4</th>\n",
       "      <td>Half-Life: Opposing Force</td>\n",
       "      <td>1999</td>\n",
       "      <td>Single-player;Multi-player;Valve Anti-Cheat en...</td>\n",
       "      <td>Action</td>\n",
       "      <td>...</td>\n",
       "      <td>5250</td>\n",
       "      <td>288</td>\n",
       "      <td>0.95</td>\n",
       "      <td>5538</td>\n",
       "    </tr>\n",
       "  </tbody>\n",
       "</table>\n",
       "<p>5 rows × 9 columns</p>\n",
       "</div>"
      ],
      "text/plain": [
       "                        Name  Year  \\\n",
       "0             Counter-Strike  2000   \n",
       "1      Team Fortress Classic  1999   \n",
       "2              Day of Defeat  2003   \n",
       "3         Deathmatch Classic  2001   \n",
       "4  Half-Life: Opposing Force  1999   \n",
       "\n",
       "                                    Steam Categories   Genre  ...  \\\n",
       "0  Multi-player;Online Multi-Player;Local Multi-P...  Action  ...   \n",
       "1  Multi-player;Online Multi-Player;Local Multi-P...  Action  ...   \n",
       "2              Multi-player;Valve Anti-Cheat enabled  Action  ...   \n",
       "3  Multi-player;Online Multi-Player;Local Multi-P...  Action  ...   \n",
       "4  Single-player;Multi-player;Valve Anti-Cheat en...  Action  ...   \n",
       "\n",
       "  Positive Ratings  Negative Ratings  AvgRating  NumRating  \n",
       "0           124534              3339       0.97     127873  \n",
       "1             3318               633       0.84       3951  \n",
       "2             3416               398       0.90       3814  \n",
       "3             1273               267       0.83       1540  \n",
       "4             5250               288       0.95       5538  \n",
       "\n",
       "[5 rows x 9 columns]"
      ]
     },
     "execution_count": 16,
     "metadata": {},
     "output_type": "execute_result"
    }
   ],
   "source": [
    "# Preview mostly cleaned up data\n",
    "df_steam.head(5)"
   ]
  },
  {
   "cell_type": "code",
   "execution_count": 17,
   "metadata": {},
   "outputs": [
    {
     "data": {
      "text/html": [
       "<div>\n",
       "<style scoped>\n",
       "    .dataframe tbody tr th:only-of-type {\n",
       "        vertical-align: middle;\n",
       "    }\n",
       "\n",
       "    .dataframe tbody tr th {\n",
       "        vertical-align: top;\n",
       "    }\n",
       "\n",
       "    .dataframe thead th {\n",
       "        text-align: right;\n",
       "    }\n",
       "</style>\n",
       "<table border=\"1\" class=\"dataframe\">\n",
       "  <thead>\n",
       "    <tr style=\"text-align: right;\">\n",
       "      <th></th>\n",
       "      <th>App Name</th>\n",
       "      <th>Category</th>\n",
       "      <th>Rating</th>\n",
       "      <th>NumRating</th>\n",
       "      <th>AvgRating</th>\n",
       "    </tr>\n",
       "  </thead>\n",
       "  <tbody>\n",
       "    <tr>\n",
       "      <th>0</th>\n",
       "      <td>King of Crabs</td>\n",
       "      <td>ACTION</td>\n",
       "      <td>3.28</td>\n",
       "      <td>785</td>\n",
       "      <td>6.56</td>\n",
       "    </tr>\n",
       "    <tr>\n",
       "      <th>1</th>\n",
       "      <td>Match 3 App Rewards: Daily Game Rewards</td>\n",
       "      <td>CASUAL</td>\n",
       "      <td>4.52</td>\n",
       "      <td>248</td>\n",
       "      <td>9.04</td>\n",
       "    </tr>\n",
       "    <tr>\n",
       "      <th>2</th>\n",
       "      <td>Brown Dust</td>\n",
       "      <td>ROLE_PLAYING</td>\n",
       "      <td>4.48</td>\n",
       "      <td>70260</td>\n",
       "      <td>8.95</td>\n",
       "    </tr>\n",
       "    <tr>\n",
       "      <th>3</th>\n",
       "      <td>Poly - Coloring Puzzle Art Book</td>\n",
       "      <td>PUZZLE</td>\n",
       "      <td>4.58</td>\n",
       "      <td>878</td>\n",
       "      <td>9.16</td>\n",
       "    </tr>\n",
       "    <tr>\n",
       "      <th>4</th>\n",
       "      <td>Legend of Empress</td>\n",
       "      <td>ROLE_PLAYING</td>\n",
       "      <td>3.82</td>\n",
       "      <td>750</td>\n",
       "      <td>7.64</td>\n",
       "    </tr>\n",
       "  </tbody>\n",
       "</table>\n",
       "</div>"
      ],
      "text/plain": [
       "                                  App Name      Category  Rating NumRating  \\\n",
       "0                            King of Crabs        ACTION    3.28       785   \n",
       "1  Match 3 App Rewards: Daily Game Rewards        CASUAL    4.52       248   \n",
       "2                               Brown Dust  ROLE_PLAYING    4.48     70260   \n",
       "3          Poly - Coloring Puzzle Art Book        PUZZLE    4.58       878   \n",
       "4                        Legend of Empress  ROLE_PLAYING    3.82       750   \n",
       "\n",
       "   AvgRating  \n",
       "0       6.56  \n",
       "1       9.04  \n",
       "2       8.95  \n",
       "3       9.16  \n",
       "4       7.64  "
      ]
     },
     "execution_count": 17,
     "metadata": {},
     "output_type": "execute_result"
    }
   ],
   "source": [
    "df_googleplay.head(5)"
   ]
  },
  {
   "cell_type": "code",
   "execution_count": 18,
   "metadata": {},
   "outputs": [],
   "source": [
    "del df_googleplay['AvgRating'] # Avg Rating is redundant since it's just (Rating * 2)\n",
    "df_googleplay['NumRating'] = df_googleplay['NumRating'].astype(int)"
   ]
  },
  {
   "cell_type": "code",
   "execution_count": 19,
   "metadata": {},
   "outputs": [],
   "source": [
    "df_googleplay['NumRating'] = df_googleplay['NumRating'].astype(int)"
   ]
  },
  {
   "cell_type": "code",
   "execution_count": 20,
   "metadata": {},
   "outputs": [
    {
     "data": {
      "text/html": [
       "<div>\n",
       "<style scoped>\n",
       "    .dataframe tbody tr th:only-of-type {\n",
       "        vertical-align: middle;\n",
       "    }\n",
       "\n",
       "    .dataframe tbody tr th {\n",
       "        vertical-align: top;\n",
       "    }\n",
       "\n",
       "    .dataframe thead th {\n",
       "        text-align: right;\n",
       "    }\n",
       "</style>\n",
       "<table border=\"1\" class=\"dataframe\">\n",
       "  <thead>\n",
       "    <tr style=\"text-align: right;\">\n",
       "      <th></th>\n",
       "      <th>App Name</th>\n",
       "      <th>Category</th>\n",
       "      <th>Rating</th>\n",
       "      <th>NumRating</th>\n",
       "    </tr>\n",
       "  </thead>\n",
       "  <tbody>\n",
       "    <tr>\n",
       "      <th>0</th>\n",
       "      <td>King of Crabs</td>\n",
       "      <td>ACTION</td>\n",
       "      <td>3.28</td>\n",
       "      <td>785</td>\n",
       "    </tr>\n",
       "    <tr>\n",
       "      <th>1</th>\n",
       "      <td>Match 3 App Rewards: Daily Game Rewards</td>\n",
       "      <td>CASUAL</td>\n",
       "      <td>4.52</td>\n",
       "      <td>248</td>\n",
       "    </tr>\n",
       "    <tr>\n",
       "      <th>2</th>\n",
       "      <td>Brown Dust</td>\n",
       "      <td>ROLE_PLAYING</td>\n",
       "      <td>4.48</td>\n",
       "      <td>70260</td>\n",
       "    </tr>\n",
       "    <tr>\n",
       "      <th>3</th>\n",
       "      <td>Poly - Coloring Puzzle Art Book</td>\n",
       "      <td>PUZZLE</td>\n",
       "      <td>4.58</td>\n",
       "      <td>878</td>\n",
       "    </tr>\n",
       "    <tr>\n",
       "      <th>4</th>\n",
       "      <td>Legend of Empress</td>\n",
       "      <td>ROLE_PLAYING</td>\n",
       "      <td>3.82</td>\n",
       "      <td>750</td>\n",
       "    </tr>\n",
       "  </tbody>\n",
       "</table>\n",
       "</div>"
      ],
      "text/plain": [
       "                                  App Name      Category  Rating  NumRating\n",
       "0                            King of Crabs        ACTION    3.28        785\n",
       "1  Match 3 App Rewards: Daily Game Rewards        CASUAL    4.52        248\n",
       "2                               Brown Dust  ROLE_PLAYING    4.48      70260\n",
       "3          Poly - Coloring Puzzle Art Book        PUZZLE    4.58        878\n",
       "4                        Legend of Empress  ROLE_PLAYING    3.82        750"
      ]
     },
     "execution_count": 20,
     "metadata": {},
     "output_type": "execute_result"
    }
   ],
   "source": [
    "df_googleplay.head(5)"
   ]
  },
  {
   "cell_type": "code",
   "execution_count": 21,
   "metadata": {},
   "outputs": [
    {
     "name": "stdout",
     "output_type": "stream",
     "text": [
      "['Multi-player;Online Multi-Player;Local Multi-Player;Valve Anti-Cheat enabled'\n",
      " 'Multi-player;Valve Anti-Cheat enabled'\n",
      " 'Single-player;Multi-player;Valve Anti-Cheat enabled' ...\n",
      " 'Online Multi-Player;Steam Achievements;Full controller support;In-App Purchases;Steam Cloud'\n",
      " 'Multi-player;Local Multi-Player;Co-op;Local Co-op;Shared/Split Screen'\n",
      " 'Multi-player;Online Multi-Player;Cross-Platform Multiplayer;Stats'] 3333\n"
     ]
    }
   ],
   "source": [
    "# Clean up categories\n",
    "# Convert Steam Categories + Genre + Steamspy Categories into one category and put it in an array\n",
    "print(df_steam[\"Steam Categories\"].unique(), len(df_steam[\"Steam Categories\"].unique()))"
   ]
  },
  {
   "cell_type": "code",
   "execution_count": 22,
   "metadata": {},
   "outputs": [
    {
     "name": "stdout",
     "output_type": "stream",
     "text": [
      "['Action' 'Action;Free to Play' 'Action;Free to Play;Strategy' ...\n",
      " 'Action;Adventure;Indie;Massively Multiplayer;RPG;Strategy;Early Access'\n",
      " 'Action;Adventure;Casual;Free to Play;Indie;RPG;Simulation;Sports;Strategy'\n",
      " 'Casual;Free to Play;Massively Multiplayer;RPG;Early Access'] 1552\n"
     ]
    }
   ],
   "source": [
    "print(df_steam[\"Genre\"].unique(), len(df_steam[\"Genre\"].unique()))"
   ]
  },
  {
   "cell_type": "code",
   "execution_count": 23,
   "metadata": {},
   "outputs": [
    {
     "name": "stdout",
     "output_type": "stream",
     "text": [
      "['Action;FPS;Multiplayer' 'FPS;World War II;Multiplayer'\n",
      " 'FPS;Action;Sci-fi' ... 'Casual;Adventure;Arcade'\n",
      " 'Free to Play;Visual Novel' 'Early Access;Adventure;Sexual Content'] 6423\n"
     ]
    }
   ],
   "source": [
    "print(df_steam[\"Steamspy Categories\"].unique(), len(df_steam[\"Steamspy Categories\"].unique()))"
   ]
  },
  {
   "cell_type": "code",
   "execution_count": 24,
   "metadata": {},
   "outputs": [
    {
     "data": {
      "text/plain": [
       "array(['ACTION', 'CASUAL', 'ROLE_PLAYING', 'PUZZLE', 'RACING',\n",
       "       'ADVENTURE', 'ARCADE', 'STRATEGY', 'SPORTS', 'SIMULATION', 'MUSIC',\n",
       "       'EDUCATIONAL', 'WORD', 'TRIVIA', 'BOARD', 'CASINO', 'CARD'],\n",
       "      dtype=object)"
      ]
     },
     "execution_count": 24,
     "metadata": {},
     "output_type": "execute_result"
    }
   ],
   "source": [
    "# Convert Google Play Categories into same style as Steam\n",
    "df_googleplay[\"Category\"].unique()"
   ]
  },
  {
   "cell_type": "code",
   "execution_count": 25,
   "metadata": {},
   "outputs": [],
   "source": [
    "# A function that saves arrays into text files\n",
    "def array2txt(array, file_name = 'output.txt'):\n",
    "    with open(file_name, \"w\") as txt_file:\n",
    "        for i in array:\n",
    "            txt_file.write(i + \"\\n\")"
   ]
  },
  {
   "cell_type": "code",
   "execution_count": 26,
   "metadata": {},
   "outputs": [],
   "source": [
    "# Save the uncleaned categories into text files\n",
    "array2txt(df_steam[\"Steam Categories\"].unique(), 'steam_categories_uncleaned.txt')\n"
   ]
  },
  {
   "cell_type": "code",
   "execution_count": 27,
   "metadata": {},
   "outputs": [],
   "source": [
    "# Split the categories connected by semicolons\n",
    "def split_semi(array):\n",
    "    output = []\n",
    "    for i in array:\n",
    "        output.extend(i.split(';'))\n",
    "    return output"
   ]
  },
  {
   "cell_type": "code",
   "execution_count": 28,
   "metadata": {},
   "outputs": [
    {
     "data": {
      "text/plain": [
       "21447"
      ]
     },
     "execution_count": 28,
     "metadata": {},
     "output_type": "execute_result"
    }
   ],
   "source": [
    "split_semi(df_steam[\"Steam Categories\"].unique())\n",
    "len(split_semi(df_steam[\"Steam Categories\"].unique()))"
   ]
  },
  {
   "cell_type": "code",
   "execution_count": 29,
   "metadata": {},
   "outputs": [],
   "source": [
    "# Filter identical items in a list\n",
    "def unique(list1): \n",
    "    x = np.array(list1) \n",
    "    #print(np.unique(x))\n",
    "    return np.unique(x)"
   ]
  },
  {
   "cell_type": "code",
   "execution_count": 30,
   "metadata": {},
   "outputs": [
    {
     "data": {
      "text/plain": [
       "array(['1', '2', '3'], dtype='<U1')"
      ]
     },
     "execution_count": 30,
     "metadata": {},
     "output_type": "execute_result"
    }
   ],
   "source": [
    "unique([\"1\",\"1\",'2','3'])"
   ]
  },
  {
   "cell_type": "code",
   "execution_count": 31,
   "metadata": {},
   "outputs": [
    {
     "data": {
      "text/plain": [
       "array(['Captions available', 'Co-op', 'Commentary available',\n",
       "       'Cross-Platform Multiplayer', 'Full controller support',\n",
       "       'In-App Purchases', 'Includes Source SDK', 'Includes level editor',\n",
       "       'Local Co-op', 'Local Multi-Player', 'MMO', 'Mods',\n",
       "       'Mods (require HL2)', 'Multi-player', 'Online Co-op',\n",
       "       'Online Multi-Player', 'Partial Controller Support',\n",
       "       'Shared/Split Screen', 'Single-player', 'Stats',\n",
       "       'Steam Achievements', 'Steam Cloud', 'Steam Leaderboards',\n",
       "       'Steam Trading Cards', 'Steam Turn Notifications',\n",
       "       'Steam Workshop', 'SteamVR Collectibles', 'VR Support',\n",
       "       'Valve Anti-Cheat enabled'], dtype='<U26')"
      ]
     },
     "execution_count": 31,
     "metadata": {},
     "output_type": "execute_result"
    }
   ],
   "source": [
    "# Cleaned steam categories\n",
    "array_steam = unique(split_semi(df_steam[\"Steam Categories\"].unique()))\n",
    "array_steam"
   ]
  },
  {
   "cell_type": "code",
   "execution_count": 32,
   "metadata": {},
   "outputs": [
    {
     "data": {
      "text/plain": [
       "array(['Accounting', 'Action', 'Adventure', 'Animation & Modeling',\n",
       "       'Audio Production', 'Casual', 'Design & Illustration',\n",
       "       'Documentary', 'Early Access', 'Education', 'Free to Play',\n",
       "       'Game Development', 'Gore', 'Indie', 'Massively Multiplayer',\n",
       "       'Nudity', 'Photo Editing', 'RPG', 'Racing', 'Sexual Content',\n",
       "       'Simulation', 'Software Training', 'Sports', 'Strategy',\n",
       "       'Tutorial', 'Utilities', 'Video Production', 'Violent',\n",
       "       'Web Publishing'], dtype='<U21')"
      ]
     },
     "execution_count": 32,
     "metadata": {},
     "output_type": "execute_result"
    }
   ],
   "source": [
    "# Cleaned steam genres\n",
    "array_genre = unique(split_semi(df_steam[\"Genre\"].unique()))\n",
    "array_genre"
   ]
  },
  {
   "cell_type": "code",
   "execution_count": 33,
   "metadata": {},
   "outputs": [
    {
     "data": {
      "text/plain": [
       "array(['1980s', \"1990's\", '2.5D', '2D', '2D Fighter', '360 Video', '3D',\n",
       "       '3D Platformer', '3D Vision', '4 Player Local', '4X', '6DOF',\n",
       "       'Abstract', 'Action', 'Action RPG', 'Action-Adventure',\n",
       "       'Adventure', 'Agriculture', 'Aliens', 'Alternate History',\n",
       "       'America', 'Animation & Modeling', 'Anime', 'Arcade',\n",
       "       'Arena Shooter', 'Assassin', 'Atmospheric', 'Audio Production',\n",
       "       'BMX', 'Base-Building', 'Baseball', 'Basketball', 'Batman',\n",
       "       'Battle Royale', \"Beat 'em up\", 'Beautiful', 'Benchmark', 'Bikes',\n",
       "       'Blood', 'Board Game', 'Bowling', 'Building', 'Bullet Hell',\n",
       "       'Bullet Time', 'CRPG', 'Capitalism', 'Card Game', 'Cartoon',\n",
       "       'Cartoony', 'Casual', 'Cats', 'Character Action Game',\n",
       "       'Character Customization', 'Chess', 'Choices Matter',\n",
       "       'Choose Your Own Adventure', 'Cinematic', 'City Builder',\n",
       "       'Class-Based', 'Classic', 'Clicker', 'Co-op', 'Cold War',\n",
       "       'Colorful', 'Comedy', 'Comic Book', 'Competitive', 'Controller',\n",
       "       'Conversation', 'Crafting', 'Crime', 'Cult Classic', 'Cute',\n",
       "       'Cyberpunk', 'Cycling', 'Dark', 'Dark Fantasy', 'Dark Humor',\n",
       "       'Dating Sim', 'Demons', 'Design & Illustration', 'Destruction',\n",
       "       'Detective', 'Difficult', 'Dinosaurs', 'Diplomacy', 'Documentary',\n",
       "       'Dog', 'Dragons', 'Drama', 'Driving', 'Dungeon Crawler',\n",
       "       'Dungeons & Dragons', 'Dystopian ', 'Early Access', 'Economy',\n",
       "       'Education', 'Epic', 'Experimental', 'Exploration', 'FMV', 'FPS',\n",
       "       'Faith', 'Family Friendly', 'Fantasy', 'Fast-Paced',\n",
       "       'Female Protagonist', 'Fighting', 'First-Person', 'Fishing',\n",
       "       'Flight', 'Football', 'Free to Play', 'Funny', 'Futuristic',\n",
       "       'Gambling', 'Game Development', 'GameMaker', 'Games Workshop',\n",
       "       'God Game', 'Golf', 'Gore', 'Gothic', 'Grand Strategy',\n",
       "       'Great Soundtrack', 'Grid-Based Movement', 'Gun Customization',\n",
       "       'Hack and Slash', 'Hacking', 'Hand-drawn', 'Heist', 'Hex Grid',\n",
       "       'Hidden Object', 'Historical', 'Hockey', 'Horror', 'Horses',\n",
       "       'Hunting', 'Illuminati', 'Indie', 'Intentionally Awkward Controls',\n",
       "       'Interactive Fiction', 'Inventory Management', 'Investigation',\n",
       "       'Isometric', 'JRPG', 'Kickstarter', 'LEGO', 'Lara Croft',\n",
       "       'Lemmings', 'Level Editor', 'Linear', 'Local Co-Op',\n",
       "       'Local Multiplayer', 'Logic', 'Loot', 'Lovecraftian', 'MMORPG',\n",
       "       'MOBA', 'Magic', 'Management', 'Mars', 'Martial Arts',\n",
       "       'Massively Multiplayer', 'Masterpiece', 'Match 3', 'Mature',\n",
       "       'Mechs', 'Medieval', 'Memes', 'Metroidvania', 'Military',\n",
       "       'Mini Golf', 'Minimalist', 'Mining', 'Mod', 'Moddable',\n",
       "       'Motocross', 'Motorbike', 'Mouse only', 'Movie', 'Multiplayer',\n",
       "       'Multiple Endings', 'Music', 'Music-Based Procedural Generation',\n",
       "       'Mystery', 'Mystery Dungeon', 'Mythology', 'NSFW', 'Narration',\n",
       "       'Naval', 'Ninja', 'Noir', 'Nonlinear', 'Nudity', 'Offroad',\n",
       "       'Old School', 'On-Rails Shooter', 'Online Co-Op', 'Open World',\n",
       "       'Otome', 'Parkour', 'Parody ', 'Party-Based RPG', 'Perma Death',\n",
       "       'Philisophical', 'Photo Editing', 'Physics', 'Pinball', 'Pirates',\n",
       "       'Pixel Graphics', 'Platformer', 'Point & Click', 'Political',\n",
       "       'Politics', 'Pool', 'Post-apocalyptic', 'Procedural Generation',\n",
       "       'Programming', 'Psychedelic', 'Psychological',\n",
       "       'Psychological Horror', 'Puzzle', 'Puzzle-Platformer', 'PvP',\n",
       "       'Quick-Time Events', 'RPG', 'RPGMaker', 'RTS', 'Racing',\n",
       "       'Real Time Tactics', 'Real-Time', 'Real-Time with Pause',\n",
       "       'Realistic', 'Relaxing', 'Remake', 'Replay Value',\n",
       "       'Resource Management', 'Retro', 'Rhythm', 'Robots', 'Rogue-like',\n",
       "       'Rogue-lite', 'Romance', 'Rome', 'Runner', 'Sailing', 'Sandbox',\n",
       "       'Satire', 'Sci-fi', 'Science', 'Score Attack', 'Sexual Content',\n",
       "       \"Shoot 'Em Up\", 'Shooter', 'Short', 'Side Scroller', 'Simulation',\n",
       "       'Singleplayer', 'Skateboarding', 'Skating', 'Sniper', 'Snow',\n",
       "       'Snowboarding', 'Soccer', 'Software', 'Software Training',\n",
       "       'Sokoban', 'Souls-like', 'Space', 'Space Sim', 'Spectacle fighter',\n",
       "       'Spelling', 'Split Screen', 'Sports', 'Star Wars', 'Stealth',\n",
       "       'Steampunk', 'Story Rich', 'Strategy', 'Strategy RPG', 'Stylized',\n",
       "       'Submarine', 'Superhero', 'Supernatural', 'Surreal', 'Survival',\n",
       "       'Survival Horror', 'Swordplay', 'Tactical', 'Tactical RPG',\n",
       "       'Tanks', 'Team-Based', 'Tennis', 'Text-Based', 'Third Person',\n",
       "       'Third-Person Shooter', 'Thriller', 'Time Attack',\n",
       "       'Time Management', 'Time Manipulation', 'Time Travel', 'Top-Down',\n",
       "       'Top-Down Shooter', 'Touch-Friendly', 'Tower Defense', 'Trading',\n",
       "       'Trading Card Game', 'Trains', 'Turn-Based', 'Turn-Based Combat',\n",
       "       'Turn-Based Strategy', 'Turn-Based Tactics', 'Twin Stick Shooter',\n",
       "       'Typing', 'Underwater', 'Utilities', 'VR', 'VR Only', 'Vampire',\n",
       "       'Video Production', 'Villain Protagonist', 'Violent',\n",
       "       'Visual Novel', 'Voice Control', 'Voxel', 'Walking Simulator',\n",
       "       'War', 'Wargame', 'Warhammer 40K', 'Web Publishing', 'Werewolves',\n",
       "       'Western', 'Word Game', 'World War I', 'World War II', 'Wrestling',\n",
       "       'Zombies', 'e-sports'], dtype='<U33')"
      ]
     },
     "execution_count": 33,
     "metadata": {},
     "output_type": "execute_result"
    }
   ],
   "source": [
    "# Cleaned steamspy categories\n",
    "array_steampy = unique(split_semi(df_steam[\"Steamspy Categories\"].unique()))\n",
    "array_steampy"
   ]
  },
  {
   "cell_type": "code",
   "execution_count": 34,
   "metadata": {},
   "outputs": [],
   "source": [
    "# Save cleaned categories into text files\n",
    "array2txt(array_steam, 'steam_categories_cleaned.txt')\n",
    "array2txt(array_genre, 'steam_genres_cleaned.txt')\n",
    "array2txt(array_steampy, 'steamspy_categories_cleaned.txt')"
   ]
  },
  {
   "cell_type": "code",
   "execution_count": 35,
   "metadata": {},
   "outputs": [
    {
     "name": "stdout",
     "output_type": "stream",
     "text": [
      "['Captions available' 'Co-op' 'Commentary available'\n",
      " 'Cross-Platform Multiplayer' 'Full controller support' 'In-App Purchases'\n",
      " 'Includes Source SDK' 'Includes level editor' 'Local Co-op'\n",
      " 'Local Multi-Player' 'MMO' 'Mods' 'Mods (require HL2)' 'Multi-player'\n",
      " 'Online Co-op' 'Online Multi-Player' 'Partial Controller Support'\n",
      " 'Shared/Split Screen' 'Single-player' 'Stats' 'Steam Achievements'\n",
      " 'Steam Cloud' 'Steam Leaderboards' 'Steam Trading Cards'\n",
      " 'Steam Turn Notifications' 'Steam Workshop' 'SteamVR Collectibles'\n",
      " 'VR Support' 'Valve Anti-Cheat enabled' 'Accounting' 'Action' 'Adventure'\n",
      " 'Animation & Modeling' 'Audio Production' 'Casual'\n",
      " 'Design & Illustration' 'Documentary' 'Early Access' 'Education'\n",
      " 'Free to Play' 'Game Development' 'Gore' 'Indie' 'Massively Multiplayer'\n",
      " 'Nudity' 'Photo Editing' 'RPG' 'Racing' 'Sexual Content' 'Simulation'\n",
      " 'Software Training' 'Sports' 'Strategy' 'Tutorial' 'Utilities'\n",
      " 'Video Production' 'Violent' 'Web Publishing' '1980s' \"1990's\" '2.5D'\n",
      " '2D' '2D Fighter' '360 Video' '3D' '3D Platformer' '3D Vision'\n",
      " '4 Player Local' '4X' '6DOF' 'Abstract' 'Action' 'Action RPG'\n",
      " 'Action-Adventure' 'Adventure' 'Agriculture' 'Aliens' 'Alternate History'\n",
      " 'America' 'Animation & Modeling' 'Anime' 'Arcade' 'Arena Shooter'\n",
      " 'Assassin' 'Atmospheric' 'Audio Production' 'BMX' 'Base-Building'\n",
      " 'Baseball' 'Basketball' 'Batman' 'Battle Royale' \"Beat 'em up\"\n",
      " 'Beautiful' 'Benchmark' 'Bikes' 'Blood' 'Board Game' 'Bowling' 'Building'\n",
      " 'Bullet Hell' 'Bullet Time' 'CRPG' 'Capitalism' 'Card Game' 'Cartoon'\n",
      " 'Cartoony' 'Casual' 'Cats' 'Character Action Game'\n",
      " 'Character Customization' 'Chess' 'Choices Matter'\n",
      " 'Choose Your Own Adventure' 'Cinematic' 'City Builder' 'Class-Based'\n",
      " 'Classic' 'Clicker' 'Co-op' 'Cold War' 'Colorful' 'Comedy' 'Comic Book'\n",
      " 'Competitive' 'Controller' 'Conversation' 'Crafting' 'Crime'\n",
      " 'Cult Classic' 'Cute' 'Cyberpunk' 'Cycling' 'Dark' 'Dark Fantasy'\n",
      " 'Dark Humor' 'Dating Sim' 'Demons' 'Design & Illustration' 'Destruction'\n",
      " 'Detective' 'Difficult' 'Dinosaurs' 'Diplomacy' 'Documentary' 'Dog'\n",
      " 'Dragons' 'Drama' 'Driving' 'Dungeon Crawler' 'Dungeons & Dragons'\n",
      " 'Dystopian ' 'Early Access' 'Economy' 'Education' 'Epic' 'Experimental'\n",
      " 'Exploration' 'FMV' 'FPS' 'Faith' 'Family Friendly' 'Fantasy'\n",
      " 'Fast-Paced' 'Female Protagonist' 'Fighting' 'First-Person' 'Fishing'\n",
      " 'Flight' 'Football' 'Free to Play' 'Funny' 'Futuristic' 'Gambling'\n",
      " 'Game Development' 'GameMaker' 'Games Workshop' 'God Game' 'Golf' 'Gore'\n",
      " 'Gothic' 'Grand Strategy' 'Great Soundtrack' 'Grid-Based Movement'\n",
      " 'Gun Customization' 'Hack and Slash' 'Hacking' 'Hand-drawn' 'Heist'\n",
      " 'Hex Grid' 'Hidden Object' 'Historical' 'Hockey' 'Horror' 'Horses'\n",
      " 'Hunting' 'Illuminati' 'Indie' 'Intentionally Awkward Controls'\n",
      " 'Interactive Fiction' 'Inventory Management' 'Investigation' 'Isometric'\n",
      " 'JRPG' 'Kickstarter' 'LEGO' 'Lara Croft' 'Lemmings' 'Level Editor'\n",
      " 'Linear' 'Local Co-Op' 'Local Multiplayer' 'Logic' 'Loot' 'Lovecraftian'\n",
      " 'MMORPG' 'MOBA' 'Magic' 'Management' 'Mars' 'Martial Arts'\n",
      " 'Massively Multiplayer' 'Masterpiece' 'Match 3' 'Mature' 'Mechs'\n",
      " 'Medieval' 'Memes' 'Metroidvania' 'Military' 'Mini Golf' 'Minimalist'\n",
      " 'Mining' 'Mod' 'Moddable' 'Motocross' 'Motorbike' 'Mouse only' 'Movie'\n",
      " 'Multiplayer' 'Multiple Endings' 'Music'\n",
      " 'Music-Based Procedural Generation' 'Mystery' 'Mystery Dungeon'\n",
      " 'Mythology' 'NSFW' 'Narration' 'Naval' 'Ninja' 'Noir' 'Nonlinear'\n",
      " 'Nudity' 'Offroad' 'Old School' 'On-Rails Shooter' 'Online Co-Op'\n",
      " 'Open World' 'Otome' 'Parkour' 'Parody ' 'Party-Based RPG' 'Perma Death'\n",
      " 'Philisophical' 'Photo Editing' 'Physics' 'Pinball' 'Pirates'\n",
      " 'Pixel Graphics' 'Platformer' 'Point & Click' 'Political' 'Politics'\n",
      " 'Pool' 'Post-apocalyptic' 'Procedural Generation' 'Programming'\n",
      " 'Psychedelic' 'Psychological' 'Psychological Horror' 'Puzzle'\n",
      " 'Puzzle-Platformer' 'PvP' 'Quick-Time Events' 'RPG' 'RPGMaker' 'RTS'\n",
      " 'Racing' 'Real Time Tactics' 'Real-Time' 'Real-Time with Pause'\n",
      " 'Realistic' 'Relaxing' 'Remake' 'Replay Value' 'Resource Management'\n",
      " 'Retro' 'Rhythm' 'Robots' 'Rogue-like' 'Rogue-lite' 'Romance' 'Rome'\n",
      " 'Runner' 'Sailing' 'Sandbox' 'Satire' 'Sci-fi' 'Science' 'Score Attack'\n",
      " 'Sexual Content' \"Shoot 'Em Up\" 'Shooter' 'Short' 'Side Scroller'\n",
      " 'Simulation' 'Singleplayer' 'Skateboarding' 'Skating' 'Sniper' 'Snow'\n",
      " 'Snowboarding' 'Soccer' 'Software' 'Software Training' 'Sokoban'\n",
      " 'Souls-like' 'Space' 'Space Sim' 'Spectacle fighter' 'Spelling'\n",
      " 'Split Screen' 'Sports' 'Star Wars' 'Stealth' 'Steampunk' 'Story Rich'\n",
      " 'Strategy' 'Strategy RPG' 'Stylized' 'Submarine' 'Superhero'\n",
      " 'Supernatural' 'Surreal' 'Survival' 'Survival Horror' 'Swordplay'\n",
      " 'Tactical' 'Tactical RPG' 'Tanks' 'Team-Based' 'Tennis' 'Text-Based'\n",
      " 'Third Person' 'Third-Person Shooter' 'Thriller' 'Time Attack'\n",
      " 'Time Management' 'Time Manipulation' 'Time Travel' 'Top-Down'\n",
      " 'Top-Down Shooter' 'Touch-Friendly' 'Tower Defense' 'Trading'\n",
      " 'Trading Card Game' 'Trains' 'Turn-Based' 'Turn-Based Combat'\n",
      " 'Turn-Based Strategy' 'Turn-Based Tactics' 'Twin Stick Shooter' 'Typing'\n",
      " 'Underwater' 'Utilities' 'VR' 'VR Only' 'Vampire' 'Video Production'\n",
      " 'Villain Protagonist' 'Violent' 'Visual Novel' 'Voice Control' 'Voxel'\n",
      " 'Walking Simulator' 'War' 'Wargame' 'Warhammer 40K' 'Web Publishing'\n",
      " 'Werewolves' 'Western' 'Word Game' 'World War I' 'World War II'\n",
      " 'Wrestling' 'Zombies' 'e-sports' 'ACTION' 'CASUAL' 'ROLE_PLAYING'\n",
      " 'PUZZLE' 'RACING' 'ADVENTURE' 'ARCADE' 'STRATEGY' 'SPORTS' 'SIMULATION'\n",
      " 'MUSIC' 'EDUCATIONAL' 'WORD' 'TRIVIA' 'BOARD' 'CASINO' 'CARD'] 414\n"
     ]
    }
   ],
   "source": [
    "# Combine all the categories into one single array\n",
    "array_googleplay = df_googleplay[\"Category\"].unique()\n",
    "all_categories = np.concatenate((array_steam, array_genre, array_steampy, array_googleplay), axis=0)\n",
    "print(all_categories, len(all_categories))"
   ]
  },
  {
   "cell_type": "code",
   "execution_count": 36,
   "metadata": {
    "scrolled": true
   },
   "outputs": [
    {
     "name": "stdout",
     "output_type": "stream",
     "text": [
      "['Captions available' 'Co-op' 'Commentary available'\n",
      " 'Cross-Platform Multiplayer' 'Full controller support' 'In-App Purchases'\n",
      " 'Includes Source SDK' 'Includes level editor' 'Local Co-op'\n",
      " 'Local Multi-Player' 'MMO' 'Mods' 'Mods (require HL2)' 'Multi-player'\n",
      " 'Online Co-op' 'Online Multi-Player' 'Partial Controller Support'\n",
      " 'Shared/Split Screen' 'Single-player' 'Stats' 'Steam Achievements'\n",
      " 'Steam Cloud' 'Steam Leaderboards' 'Steam Trading Cards'\n",
      " 'Steam Turn Notifications' 'Steam Workshop' 'SteamVR Collectibles'\n",
      " 'VR Support' 'Valve Anti-Cheat enabled' 'Accounting' 'Action' 'Adventure'\n",
      " 'Animation & Modeling' 'Audio Production' 'Casual'\n",
      " 'Design & Illustration' 'Documentary' 'Early Access' 'Education'\n",
      " 'Free to Play' 'Game Development' 'Gore' 'Indie' 'Massively Multiplayer'\n",
      " 'Nudity' 'Photo Editing' 'RPG' 'Racing' 'Sexual Content' 'Simulation'\n",
      " 'Software Training' 'Sports' 'Strategy' 'Tutorial' 'Utilities'\n",
      " 'Video Production' 'Violent' 'Web Publishing' '1980s' \"1990's\" '2.5D'\n",
      " '2D' '2D Fighter' '360 Video' '3D' '3D Platformer' '3D Vision'\n",
      " '4 Player Local' '4X' '6DOF' 'Abstract' 'Action' 'Action RPG'\n",
      " 'Action-Adventure' 'Adventure' 'Agriculture' 'Aliens' 'Alternate History'\n",
      " 'America' 'Animation & Modeling' 'Anime' 'Arcade' 'Arena Shooter'\n",
      " 'Assassin' 'Atmospheric' 'Audio Production' 'BMX' 'Base-Building'\n",
      " 'Baseball' 'Basketball' 'Batman' 'Battle Royale' \"Beat 'em up\"\n",
      " 'Beautiful' 'Benchmark' 'Bikes' 'Blood' 'Board Game' 'Bowling' 'Building'\n",
      " 'Bullet Hell' 'Bullet Time' 'CRPG' 'Capitalism' 'Card Game' 'Cartoon'\n",
      " 'Cartoony' 'Casual' 'Cats' 'Character Action Game'\n",
      " 'Character Customization' 'Chess' 'Choices Matter'\n",
      " 'Choose Your Own Adventure' 'Cinematic' 'City Builder' 'Class-Based'\n",
      " 'Classic' 'Clicker' 'Co-op' 'Cold War' 'Colorful' 'Comedy' 'Comic Book'\n",
      " 'Competitive' 'Controller' 'Conversation' 'Crafting' 'Crime'\n",
      " 'Cult Classic' 'Cute' 'Cyberpunk' 'Cycling' 'Dark' 'Dark Fantasy'\n",
      " 'Dark Humor' 'Dating Sim' 'Demons' 'Design & Illustration' 'Destruction'\n",
      " 'Detective' 'Difficult' 'Dinosaurs' 'Diplomacy' 'Documentary' 'Dog'\n",
      " 'Dragons' 'Drama' 'Driving' 'Dungeon Crawler' 'Dungeons & Dragons'\n",
      " 'Dystopian ' 'Early Access' 'Economy' 'Education' 'Epic' 'Experimental'\n",
      " 'Exploration' 'FMV' 'FPS' 'Faith' 'Family Friendly' 'Fantasy'\n",
      " 'Fast-Paced' 'Female Protagonist' 'Fighting' 'First-Person' 'Fishing'\n",
      " 'Flight' 'Football' 'Free to Play' 'Funny' 'Futuristic' 'Gambling'\n",
      " 'Game Development' 'GameMaker' 'Games Workshop' 'God Game' 'Golf' 'Gore'\n",
      " 'Gothic' 'Grand Strategy' 'Great Soundtrack' 'Grid-Based Movement'\n",
      " 'Gun Customization' 'Hack and Slash' 'Hacking' 'Hand-drawn' 'Heist'\n",
      " 'Hex Grid' 'Hidden Object' 'Historical' 'Hockey' 'Horror' 'Horses'\n",
      " 'Hunting' 'Illuminati' 'Indie' 'Intentionally Awkward Controls'\n",
      " 'Interactive Fiction' 'Inventory Management' 'Investigation' 'Isometric'\n",
      " 'JRPG' 'Kickstarter' 'LEGO' 'Lara Croft' 'Lemmings' 'Level Editor'\n",
      " 'Linear' 'Local Co-Op' 'Local Multiplayer' 'Logic' 'Loot' 'Lovecraftian'\n",
      " 'MMORPG' 'MOBA' 'Magic' 'Management' 'Mars' 'Martial Arts'\n",
      " 'Massively Multiplayer' 'Masterpiece' 'Match 3' 'Mature' 'Mechs'\n",
      " 'Medieval' 'Memes' 'Metroidvania' 'Military' 'Mini Golf' 'Minimalist'\n",
      " 'Mining' 'Mod' 'Moddable' 'Motocross' 'Motorbike' 'Mouse only' 'Movie'\n",
      " 'Multiplayer' 'Multiple Endings' 'Music'\n",
      " 'Music-Based Procedural Generation' 'Mystery' 'Mystery Dungeon'\n",
      " 'Mythology' 'NSFW' 'Narration' 'Naval' 'Ninja' 'Noir' 'Nonlinear'\n",
      " 'Nudity' 'Offroad' 'Old School' 'On-Rails Shooter' 'Online Co-Op'\n",
      " 'Open World' 'Otome' 'Parkour' 'Parody ' 'Party-Based RPG' 'Perma Death'\n",
      " 'Philisophical' 'Photo Editing' 'Physics' 'Pinball' 'Pirates'\n",
      " 'Pixel Graphics' 'Platformer' 'Point & Click' 'Political' 'Politics'\n",
      " 'Pool' 'Post-apocalyptic' 'Procedural Generation' 'Programming'\n",
      " 'Psychedelic' 'Psychological' 'Psychological Horror' 'Puzzle'\n",
      " 'Puzzle-Platformer' 'PvP' 'Quick-Time Events' 'RPG' 'RPGMaker' 'RTS'\n",
      " 'Racing' 'Real Time Tactics' 'Real-Time' 'Real-Time with Pause'\n",
      " 'Realistic' 'Relaxing' 'Remake' 'Replay Value' 'Resource Management'\n",
      " 'Retro' 'Rhythm' 'Robots' 'Rogue-like' 'Rogue-lite' 'Romance' 'Rome'\n",
      " 'Runner' 'Sailing' 'Sandbox' 'Satire' 'Sci-fi' 'Science' 'Score Attack'\n",
      " 'Sexual Content' \"Shoot 'Em Up\" 'Shooter' 'Short' 'Side Scroller'\n",
      " 'Simulation' 'Singleplayer' 'Skateboarding' 'Skating' 'Sniper' 'Snow'\n",
      " 'Snowboarding' 'Soccer' 'Software' 'Software Training' 'Sokoban'\n",
      " 'Souls-like' 'Space' 'Space Sim' 'Spectacle fighter' 'Spelling'\n",
      " 'Split Screen' 'Sports' 'Star Wars' 'Stealth' 'Steampunk' 'Story Rich'\n",
      " 'Strategy' 'Strategy RPG' 'Stylized' 'Submarine' 'Superhero'\n",
      " 'Supernatural' 'Surreal' 'Survival' 'Survival Horror' 'Swordplay'\n",
      " 'Tactical' 'Tactical RPG' 'Tanks' 'Team-Based' 'Tennis' 'Text-Based'\n",
      " 'Third Person' 'Third-Person Shooter' 'Thriller' 'Time Attack'\n",
      " 'Time Management' 'Time Manipulation' 'Time Travel' 'Top-Down'\n",
      " 'Top-Down Shooter' 'Touch-Friendly' 'Tower Defense' 'Trading'\n",
      " 'Trading Card Game' 'Trains' 'Turn-Based' 'Turn-Based Combat'\n",
      " 'Turn-Based Strategy' 'Turn-Based Tactics' 'Twin Stick Shooter' 'Typing'\n",
      " 'Underwater' 'Utilities' 'VR' 'VR Only' 'Vampire' 'Video Production'\n",
      " 'Villain Protagonist' 'Violent' 'Visual Novel' 'Voice Control' 'Voxel'\n",
      " 'Walking Simulator' 'War' 'Wargame' 'Warhammer 40K' 'Web Publishing'\n",
      " 'Werewolves' 'Western' 'Word Game' 'World War I' 'World War II'\n",
      " 'Wrestling' 'Zombies' 'e-sports'] 397\n"
     ]
    }
   ],
   "source": [
    "# Also prepare steam and google play as 2 separate groups of categories\n",
    "all_steam = np.concatenate((array_steam, array_genre, array_steampy), axis=0)\n",
    "print(all_steam, len(all_steam))\n",
    "array2txt(all_steam, 'all_steam_categories_cleaned.txt')\n",
    "array2txt(array_googleplay, 'googleplay_categories.txt')"
   ]
  },
  {
   "cell_type": "markdown",
   "metadata": {},
   "source": [
    "# Datasets Compilation"
   ]
  },
  {
   "cell_type": "markdown",
   "metadata": {},
   "source": [
    "Create datasets to be used in data analysis"
   ]
  },
  {
   "cell_type": "markdown",
   "metadata": {},
   "source": [
    "### All the datasets available so far:\n",
    "`df_steam` <br>\n",
    "`df_googleplay` <br>\n",
    "`array_steam` <br>\n",
    "`array_genre` <br>\n",
    "`array_steampy` <br>\n",
    "`array_googleplay` <br>\n",
    "`all_steam` <br>\n",
    "`all_categories` <br>\n",
    "`steam_avg` <br>\n",
    "`googleplay_avg` <br>"
   ]
  },
  {
   "cell_type": "code",
   "execution_count": 37,
   "metadata": {},
   "outputs": [
    {
     "data": {
      "text/plain": [
       "4.129128248469181"
      ]
     },
     "execution_count": 37,
     "metadata": {},
     "output_type": "execute_result"
    }
   ],
   "source": [
    "# mean rating of steam\n",
    "df_steam['AvgRating']\n",
    "df_steam['NumRating'].sum()\n",
    "steam_avg = np.multiply(df_steam['AvgRating'], df_steam['NumRating']).sum()/df_steam['NumRating'].sum() * 5\n",
    "steam_avg"
   ]
  },
  {
   "cell_type": "code",
   "execution_count": 38,
   "metadata": {},
   "outputs": [
    {
     "data": {
      "text/plain": [
       "4.4378157379329695"
      ]
     },
     "execution_count": 38,
     "metadata": {},
     "output_type": "execute_result"
    }
   ],
   "source": [
    "# mean rating of googleplay\n",
    "googleplay_avg = np.multiply(df_googleplay['Rating'], df_googleplay['NumRating']).sum()/df_googleplay['NumRating'].sum()\n",
    "googleplay_avg"
   ]
  },
  {
   "cell_type": "code",
   "execution_count": 39,
   "metadata": {},
   "outputs": [],
   "source": [
    "# Find similarities between the two\n",
    "def similar_categories(a, b):\n",
    "    a_set = set(a)\n",
    "    b_set = set(b)\n",
    "\n",
    "    if(len(a_set.intersection(b_set)) > 0):\n",
    "        return a_set.intersection(b_set);\n",
    "    else:\n",
    "        return \"no similarities\""
   ]
  },
  {
   "cell_type": "code",
   "execution_count": 40,
   "metadata": {},
   "outputs": [
    {
     "name": "stdout",
     "output_type": "stream",
     "text": [
      "{'adventure', 'racing', 'simulation', 'action', 'strategy', 'sports', 'casual'}\n"
     ]
    }
   ],
   "source": [
    "print(similar_categories([x.lower() for x in array_genre], [y.lower() for y in array_googleplay]))"
   ]
  },
  {
   "cell_type": "code",
   "execution_count": 41,
   "metadata": {},
   "outputs": [
    {
     "data": {
      "text/plain": [
       "4.342119700985616"
      ]
     },
     "execution_count": 41,
     "metadata": {},
     "output_type": "execute_result"
    }
   ],
   "source": [
    "# Above categories are what we care about when we run code, so get our similar categories extracted\n",
    "# ALL EXTRACTION IS WEIGHTED, BASED ON NUM OF REVIEWS, NOT NUM OF GAMES\n",
    "# ADVENTURE FOR BOTH\n",
    "steam_adv = df_steam[df_steam['Genre'].str.contains(\"adventure\", case=False)]\n",
    "steam_adv.head(5)\n",
    "steam_adv_avg = np.multiply(steam_adv['AvgRating'], steam_adv['NumRating']).sum()/steam_adv['NumRating'].sum() * 5\n",
    "steam_adv_avg\n",
    "google_adv = df_googleplay[df_googleplay['Category'].str.contains(\"adventure\", case=False)]\n",
    "google_adv\n",
    "google_adv_avg = np.multiply(google_adv['Rating'], google_adv['NumRating']).sum()/google_adv['NumRating'].sum()\n",
    "google_adv_avg"
   ]
  },
  {
   "cell_type": "code",
   "execution_count": 42,
   "metadata": {},
   "outputs": [
    {
     "data": {
      "text/plain": [
       "4.422157355730271"
      ]
     },
     "execution_count": 42,
     "metadata": {},
     "output_type": "execute_result"
    }
   ],
   "source": [
    "# CASUAL FOR BOTH\n",
    "steam_cas = df_steam[df_steam['Genre'].str.contains(\"casual\", case=False)]\n",
    "steam_cas\n",
    "steam_cas_avg = np.multiply(steam_cas['AvgRating'], steam_cas['NumRating']).sum()/steam_cas['NumRating'].sum() * 5\n",
    "steam_cas_avg\n",
    "google_cas = df_googleplay[df_googleplay['Category'].str.contains(\"casual\", case=False)]\n",
    "google_cas\n",
    "google_cas_avg = np.multiply(google_cas['Rating'], google_cas['NumRating']).sum()/google_cas['NumRating'].sum()\n",
    "google_cas_avg"
   ]
  },
  {
   "cell_type": "code",
   "execution_count": 43,
   "metadata": {},
   "outputs": [
    {
     "data": {
      "text/plain": [
       "4.441160775274634"
      ]
     },
     "execution_count": 43,
     "metadata": {},
     "output_type": "execute_result"
    }
   ],
   "source": [
    "# SIMULATION FOR BOTH\n",
    "steam_sim = df_steam[df_steam['Genre'].str.contains(\"simulation\", case=False)]\n",
    "steam_sim\n",
    "steam_sim_avg = np.multiply(steam_sim['AvgRating'], steam_sim['NumRating']).sum()/steam_sim['NumRating'].sum() * 5\n",
    "steam_sim_avg\n",
    "google_sim = df_googleplay[df_googleplay['Category'].str.contains(\"simulation\", case=False)]\n",
    "google_sim\n",
    "google_sim_avg = np.multiply(google_sim['Rating'], google_sim['NumRating']).sum()/google_sim['NumRating'].sum()\n",
    "google_sim_avg"
   ]
  },
  {
   "cell_type": "code",
   "execution_count": 44,
   "metadata": {},
   "outputs": [
    {
     "data": {
      "text/plain": [
       "4.429699906912171"
      ]
     },
     "execution_count": 44,
     "metadata": {},
     "output_type": "execute_result"
    }
   ],
   "source": [
    "# SPORTS FOR BOTH\n",
    "steam_spt = df_steam[df_steam['Genre'].str.contains(\"sports\", case=False)]\n",
    "steam_spt\n",
    "steam_spt_avg = np.multiply(steam_spt['AvgRating'], steam_spt['NumRating']).sum()/steam_spt['NumRating'].sum() * 5\n",
    "steam_spt_avg\n",
    "google_spt = df_googleplay[df_googleplay['Category'].str.contains(\"sports\", case=False)]\n",
    "google_spt\n",
    "google_spt_avg = np.multiply(google_spt['Rating'], google_spt['NumRating']).sum()/google_spt['NumRating'].sum()\n",
    "google_spt_avg"
   ]
  },
  {
   "cell_type": "code",
   "execution_count": 45,
   "metadata": {},
   "outputs": [
    {
     "data": {
      "text/plain": [
       "4.4414171484927625"
      ]
     },
     "execution_count": 45,
     "metadata": {},
     "output_type": "execute_result"
    }
   ],
   "source": [
    "# ACTION FOR BOTH\n",
    "steam_act = df_steam[df_steam['Genre'].str.contains(\"action\", case=False)]\n",
    "steam_act\n",
    "steam_act_avg = np.multiply(steam_act['AvgRating'], steam_act['NumRating']).sum()/steam_act['NumRating'].sum() * 5\n",
    "steam_act_avg\n",
    "google_act = df_googleplay[df_googleplay['Category'].str.contains(\"action\", case=False)]\n",
    "google_act\n",
    "google_act_avg = np.multiply(google_act['Rating'], google_act['NumRating']).sum()/google_act['NumRating'].sum()\n",
    "google_act_avg"
   ]
  },
  {
   "cell_type": "code",
   "execution_count": 46,
   "metadata": {},
   "outputs": [
    {
     "data": {
      "text/plain": [
       "4.423843398407345"
      ]
     },
     "execution_count": 46,
     "metadata": {},
     "output_type": "execute_result"
    }
   ],
   "source": [
    "# RACING FOR BOTH\n",
    "steam_rac = df_steam[df_steam['Genre'].str.contains(\"racing\", case=False)]\n",
    "steam_rac\n",
    "steam_rac_avg = np.multiply(steam_rac['AvgRating'], steam_rac['NumRating']).sum()/steam_rac['NumRating'].sum() * 5\n",
    "steam_rac_avg\n",
    "google_rac = df_googleplay[df_googleplay['Category'].str.contains(\"racing\", case=False)]\n",
    "google_rac\n",
    "google_rac_avg = np.multiply(google_rac['Rating'], google_rac['NumRating']).sum()/google_rac['NumRating'].sum()\n",
    "google_rac_avg"
   ]
  },
  {
   "cell_type": "code",
   "execution_count": 47,
   "metadata": {},
   "outputs": [
    {
     "data": {
      "text/plain": [
       "4.4927580266566105"
      ]
     },
     "execution_count": 47,
     "metadata": {},
     "output_type": "execute_result"
    }
   ],
   "source": [
    "# STRATEGY FOR BOTH\n",
    "steam_stg = df_steam[df_steam['Genre'].str.contains(\"strategy\", case=False)]\n",
    "steam_stg\n",
    "steam_stg_avg = np.multiply(steam_stg['AvgRating'], steam_stg['NumRating']).sum()/steam_stg['NumRating'].sum() * 5\n",
    "steam_stg_avg\n",
    "google_stg = df_googleplay[df_googleplay['Category'].str.contains(\"strategy\", case=False)]\n",
    "google_stg\n",
    "google_stg_avg = np.multiply(google_stg['Rating'], google_stg['NumRating']).sum()/google_stg['NumRating'].sum()\n",
    "google_stg_avg"
   ]
  },
  {
   "cell_type": "markdown",
   "metadata": {},
   "source": [
    "###For similar data between the two, usable information is<br>\n",
    "Adventure Games:<br>\n",
    "    &nbsp;&nbsp;&nbsp;&nbsp;Steam:<br>\n",
    "        &nbsp;&nbsp;&nbsp;&nbsp;&nbsp;&nbsp;&nbsp;&nbsp;DF: steam_adv<br>\n",
    "        &nbsp;&nbsp;&nbsp;&nbsp;&nbsp;&nbsp;&nbsp;&nbsp;Avg Rating: steam_adv_avg<br>\n",
    "    &nbsp;&nbsp;&nbsp;&nbsp;Google Play:<br>\n",
    "        &nbsp;&nbsp;&nbsp;&nbsp;&nbsp;&nbsp;&nbsp;&nbsp;DF: google_adv<br>\n",
    "        &nbsp;&nbsp;&nbsp;&nbsp;&nbsp;&nbsp;&nbsp;&nbsp;Avg Rating: google_adv_avg<br>\n",
    "Casual Games:<br>\n",
    "    &nbsp;&nbsp;&nbsp;&nbsp;Steam:<br>\n",
    "        &nbsp;&nbsp;&nbsp;&nbsp;&nbsp;&nbsp;&nbsp;&nbsp;DF: steam_cas<br>\n",
    "        &nbsp;&nbsp;&nbsp;&nbsp;&nbsp;&nbsp;&nbsp;&nbsp;Avg Rating: steam_cas_avg<br>\n",
    "    &nbsp;&nbsp;&nbsp;&nbsp;Google Play:<br>\n",
    "        &nbsp;&nbsp;&nbsp;&nbsp;&nbsp;&nbsp;&nbsp;&nbsp;DF: google_cas<br>\n",
    "        &nbsp;&nbsp;&nbsp;&nbsp;&nbsp;&nbsp;&nbsp;&nbsp;Avg Rating: google_cas_avg<br>\n",
    "Simulation Games:<br>\n",
    "    &nbsp;&nbsp;&nbsp;&nbsp;Steam:<br>\n",
    "        &nbsp;&nbsp;&nbsp;&nbsp;&nbsp;&nbsp;&nbsp;&nbsp;DF: steam_sim<br>\n",
    "        &nbsp;&nbsp;&nbsp;&nbsp;&nbsp;&nbsp;&nbsp;&nbsp;Avg Rating: steam_sim_avg<br>\n",
    "    &nbsp;&nbsp;&nbsp;&nbsp;Google Play:<br>\n",
    "        &nbsp;&nbsp;&nbsp;&nbsp;&nbsp;&nbsp;&nbsp;&nbsp;DF: google_sim<br>\n",
    "        &nbsp;&nbsp;&nbsp;&nbsp;&nbsp;&nbsp;&nbsp;&nbsp;Avg Rating: google_sim_avg<br>\n",
    "Sports Games:<br>\n",
    "    &nbsp;&nbsp;&nbsp;&nbsp;Steam:<br>\n",
    "        &nbsp;&nbsp;&nbsp;&nbsp;&nbsp;&nbsp;&nbsp;&nbsp;DF: steam_spt<br>\n",
    "        &nbsp;&nbsp;&nbsp;&nbsp;&nbsp;&nbsp;&nbsp;&nbsp;Avg Rating: steam_spt_avg<br>\n",
    "    &nbsp;&nbsp;&nbsp;&nbsp;Google Play:<br>\n",
    "        &nbsp;&nbsp;&nbsp;&nbsp;&nbsp;&nbsp;&nbsp;&nbsp;DF: google_spt<br>\n",
    "        &nbsp;&nbsp;&nbsp;&nbsp;&nbsp;&nbsp;&nbsp;&nbsp;Avg Rating: google_spt_avg<br>\n",
    "Action Games:<br>\n",
    "    &nbsp;&nbsp;&nbsp;&nbsp;Steam:<br>\n",
    "        &nbsp;&nbsp;&nbsp;&nbsp;&nbsp;&nbsp;&nbsp;&nbsp;DF: steam_act<br>\n",
    "        &nbsp;&nbsp;&nbsp;&nbsp;&nbsp;&nbsp;&nbsp;&nbsp;Avg Rating: steam_act_avg<br>\n",
    "    &nbsp;&nbsp;&nbsp;&nbsp;Google Play:<br>\n",
    "        &nbsp;&nbsp;&nbsp;&nbsp;&nbsp;&nbsp;&nbsp;&nbsp;DF: google_act<br>\n",
    "        &nbsp;&nbsp;&nbsp;&nbsp;&nbsp;&nbsp;&nbsp;&nbsp;Avg Rating: google_act_avg<br>\n",
    "Racing Games:<br>\n",
    "    &nbsp;&nbsp;&nbsp;&nbsp;Steam:<br>\n",
    "        &nbsp;&nbsp;&nbsp;&nbsp;&nbsp;&nbsp;&nbsp;&nbsp;DF: steam_rac<br>\n",
    "        &nbsp;&nbsp;&nbsp;&nbsp;&nbsp;&nbsp;&nbsp;&nbsp;Avg Rating: steam_rac_avg<br>\n",
    "    &nbsp;&nbsp;&nbsp;&nbsp;Google Play:<br>\n",
    "        &nbsp;&nbsp;&nbsp;&nbsp;&nbsp;&nbsp;&nbsp;&nbsp;DF: google_rac<br>\n",
    "        &nbsp;&nbsp;&nbsp;&nbsp;&nbsp;&nbsp;&nbsp;&nbsp;Avg Rating: google_rac_avg<br>\n",
    "Strategy Games:<br>\n",
    "    &nbsp;&nbsp;&nbsp;&nbsp;Steam:<br>\n",
    "        &nbsp;&nbsp;&nbsp;&nbsp;&nbsp;&nbsp;&nbsp;&nbsp;DF: steam_stg<br>\n",
    "        &nbsp;&nbsp;&nbsp;&nbsp;&nbsp;&nbsp;&nbsp;&nbsp;Avg Rating: steam_stg_avg<br>\n",
    "    &nbsp;&nbsp;&nbsp;&nbsp;Google Play:<br>\n",
    "        &nbsp;&nbsp;&nbsp;&nbsp;&nbsp;&nbsp;&nbsp;&nbsp;DF: google_stg<br>\n",
    "        &nbsp;&nbsp;&nbsp;&nbsp;&nbsp;&nbsp;&nbsp;&nbsp;Avg Rating: google_stg_avg<br>"
   ]
  },
  {
   "cell_type": "code",
   "execution_count": 48,
   "metadata": {},
   "outputs": [
    {
     "name": "stdout",
     "output_type": "stream",
     "text": [
      "[9.095607235142118, 9.618783573037602, 9.029402466013279, 9.693637436698015, 8.752705906607567, 9.056109071840586, 8.754001477468604, 9.479488087409582, 8.500661472879612, 9.011417563313444, 9.333008722633643, 8.21608030701174, 9.177362904379347, 8.983502527144198, 9.139741297141363, 8.718103536225515, 8.67737451324013, 8.037640922193642, 7.9355065304116925, 7.7990773625483625, 7.066461836950674, 7.337061980744535, 8.297044606115977]\n"
     ]
    }
   ],
   "source": [
    "# Make array that counts the avg rating in the year for act\n",
    "steam_act_year = [0, 0, 0, 0, 0, 0, 0, 0, 0, 0, 0, 0, 0, 0, 0, 0, 0, 0, 0, 0, 0, 0, 0]\n",
    "for i in range(df_steam['Year'].min(), df_steam['Year'].max() + 1):\n",
    "    # Loops through and gets avg rating in the year\n",
    "    steam_temp = steam_act[steam_act['Year'] == i]\n",
    "    if len(steam_temp) > 0:\n",
    "        steam_temp_avg = np.multiply(steam_temp['AvgRating'], steam_temp['NumRating']).sum()/steam_temp['NumRating'].sum() * 10\n",
    "        steam_act_year[i - 1997] = steam_temp_avg\n",
    "    else:\n",
    "        if i > 0:\n",
    "            steam_act_year[i - 1997] = steam_act_year[i - 1997 - 1]\n",
    "        else:\n",
    "            steam_act_year[i - 1997] = 0\n",
    "\n",
    "print(steam_act_year)"
   ]
  },
  {
   "cell_type": "code",
   "execution_count": 49,
   "metadata": {},
   "outputs": [
    {
     "name": "stdout",
     "output_type": "stream",
     "text": [
      "[0, 0, 0, 0, 0, 9.056109071840586, 9.056109071840586, 9.056109071840586, 9.056109071840586, 9.056109071840586, 8.305041480536056, 7.141347361993447, 8.633132749081216, 8.925909219489444, 9.472728141065222, 9.07958442401737, 8.833925219815736, 8.227710928464859, 7.721225469130497, 8.053433836615643, 7.0526121247579265, 7.414571708615487, 8.249131062847338]\n"
     ]
    }
   ],
   "source": [
    "# Make array that counts the avg rating in the year for adv\n",
    "steam_adv_year = [0, 0, 0, 0, 0, 0, 0, 0, 0, 0, 0, 0, 0, 0, 0, 0, 0, 0, 0, 0, 0, 0, 0]\n",
    "for i in range(df_steam['Year'].min(), df_steam['Year'].max() + 1):\n",
    "    # Loops through and gets avg rating in the year\n",
    "    steam_temp = steam_adv[steam_adv['Year'] == i]\n",
    "    if len(steam_temp) > 0:\n",
    "        steam_temp_avg = np.multiply(steam_temp['AvgRating'], steam_temp['NumRating']).sum()/steam_temp['NumRating'].sum() * 10\n",
    "        steam_adv_year[i - 1997] = steam_temp_avg\n",
    "    else:\n",
    "        if i > 0:\n",
    "            steam_adv_year[i - 1997] = steam_adv_year[i - 1997 - 1]\n",
    "        else:\n",
    "            steam_adv_year[i - 1997] = 0\n",
    "\n",
    "print(steam_adv_year)"
   ]
  },
  {
   "cell_type": "code",
   "execution_count": 50,
   "metadata": {},
   "outputs": [
    {
     "name": "stdout",
     "output_type": "stream",
     "text": [
      "[0, 0, 0, 0, 0, 0, 5.627530364372469, 5.627530364372469, 5.627530364372469, 8.376068376068377, 8.777957860615883, 7.8047337278106514, 8.471292351389735, 8.802868773018027, 8.402859819937262, 9.000452284034374, 8.603401886212772, 8.382744810199295, 8.40504612045578, 8.55573034915627, 8.624623088877968, 8.07124657468391, 8.424591388640877]\n"
     ]
    }
   ],
   "source": [
    "# Make array that counts the avg rating in the year for cas\n",
    "steam_cas_year = [0, 0, 0, 0, 0, 0, 0, 0, 0, 0, 0, 0, 0, 0, 0, 0, 0, 0, 0, 0, 0, 0, 0]\n",
    "for i in range(df_steam['Year'].min(), df_steam['Year'].max() + 1):\n",
    "    # Loops through and gets avg rating in the year\n",
    "    steam_temp = steam_cas[steam_cas['Year'] == i]\n",
    "    if len(steam_temp) > 0:\n",
    "        steam_temp_avg = np.multiply(steam_temp['AvgRating'], steam_temp['NumRating']).sum()/steam_temp['NumRating'].sum() * 10\n",
    "        steam_cas_year[i - 1997] = steam_temp_avg\n",
    "    else:\n",
    "        if i > 0:\n",
    "            steam_cas_year[i - 1997] = steam_cas_year[i - 1997 - 1]\n",
    "        else:\n",
    "            steam_cas_year[i - 1997] = 0\n",
    "\n",
    "print(steam_cas_year)"
   ]
  },
  {
   "cell_type": "code",
   "execution_count": 51,
   "metadata": {},
   "outputs": [
    {
     "name": "stdout",
     "output_type": "stream",
     "text": [
      "[9.095607235142118, 9.095607235142118, 9.095607235142118, 9.095607235142118, 9.095607235142118, 9.095607235142118, 9.095607235142118, 9.095607235142118, 9.095607235142118, 9.305669008331972, 8.547281863864779, 8.206048180420298, 8.442164839052, 8.04996349222906, 6.7875031836318875, 7.843274037902569, 7.685096100060412, 7.979112375026011, 8.877008333449657, 8.211186396890449, 7.43116908543599, 7.328290610262876, 6.2766429840142095]\n"
     ]
    }
   ],
   "source": [
    "# Make array that counts the avg rating in the year for rac\n",
    "steam_rac_year = [0, 0, 0, 0, 0, 0, 0, 0, 0, 0, 0, 0, 0, 0, 0, 0, 0, 0, 0, 0, 0, 0, 0]\n",
    "for i in range(df_steam['Year'].min(), df_steam['Year'].max() + 1):\n",
    "    # Loops through and gets avg rating in the year\n",
    "    steam_temp = steam_rac[steam_rac['Year'] == i]\n",
    "    if len(steam_temp) > 0:\n",
    "        steam_temp_avg = np.multiply(steam_temp['AvgRating'], steam_temp['NumRating']).sum()/steam_temp['NumRating'].sum() * 10\n",
    "        steam_rac_year[i - 1997] = steam_temp_avg\n",
    "    else:\n",
    "        if i > 0:\n",
    "            steam_rac_year[i - 1997] = steam_rac_year[i - 1997 - 1]\n",
    "        else:\n",
    "            steam_rac_year[i - 1997] = 0\n",
    "\n",
    "print(steam_rac_year)"
   ]
  },
  {
   "cell_type": "code",
   "execution_count": 52,
   "metadata": {},
   "outputs": [
    {
     "name": "stdout",
     "output_type": "stream",
     "text": [
      "[0, 0, 0, 0, 0, 0, 0, 0, 0, 9.56772781556948, 8.404255319148938, 8.71472258628222, 7.616645649432535, 8.332325336558924, 8.55063804361743, 9.263568715529777, 8.141386892333845, 7.898691378122847, 8.220146897783215, 8.630937261874523, 7.654004389449588, 8.01346429066423, 8.207972844310138]\n"
     ]
    }
   ],
   "source": [
    "# Make array that counts the avg rating in the year for sim\n",
    "steam_sim_year = [0, 0, 0, 0, 0, 0, 0, 0, 0, 0, 0, 0, 0, 0, 0, 0, 0, 0, 0, 0, 0, 0, 0]\n",
    "for i in range(df_steam['Year'].min(), df_steam['Year'].max() + 1):\n",
    "    # Loops through and gets avg rating in the year\n",
    "    steam_temp = steam_sim[steam_sim['Year'] == i]\n",
    "    if len(steam_temp) > 0:\n",
    "        steam_temp_avg = np.multiply(steam_temp['AvgRating'], steam_temp['NumRating']).sum()/steam_temp['NumRating'].sum() * 10\n",
    "        steam_sim_year[i - 1997] = steam_temp_avg\n",
    "    else:\n",
    "        if i > 0:\n",
    "            steam_sim_year[i - 1997] = steam_sim_year[i - 1997 - 1]\n",
    "        else: \n",
    "            steam_sim_year[i - 1997] = 0\n",
    "\n",
    "print(steam_sim_year)"
   ]
  },
  {
   "cell_type": "code",
   "execution_count": 53,
   "metadata": {},
   "outputs": [
    {
     "name": "stdout",
     "output_type": "stream",
     "text": [
      "[0, 0, 0, 0, 0, 0, 0, 0, 0, 0, 0, 8.027522935779816, 7.768469154607769, 7.679398148148148, 7.722204523733673, 8.241701244813278, 7.608436763966443, 6.977143470329434, 8.726443193648779, 7.937330734332684, 7.399031195024653, 6.742663570966392, 6.836403033586133]\n"
     ]
    }
   ],
   "source": [
    "# Make array that counts the avg rating in the year for spt\n",
    "steam_spt_year = [0, 0, 0, 0, 0, 0, 0, 0, 0, 0, 0, 0, 0, 0, 0, 0, 0, 0, 0, 0, 0, 0, 0]\n",
    "for i in range(df_steam['Year'].min(), df_steam['Year'].max() + 1):\n",
    "    # Loops through and gets avg rating in the year\n",
    "    steam_temp = steam_spt[steam_spt['Year'] == i]\n",
    "    if len(steam_temp) > 0:\n",
    "        steam_temp_avg = np.multiply(steam_temp['AvgRating'], steam_temp['NumRating']).sum()/steam_temp['NumRating'].sum() * 10\n",
    "        steam_spt_year[i - 1997] = steam_temp_avg\n",
    "    else:\n",
    "        if i > 0:\n",
    "            steam_spt_year[i - 1997] = steam_spt_year[i - 1997 - 1]\n",
    "        else:\n",
    "            steam_spt_year[i - 1997] = 0\n",
    "\n",
    "print(steam_spt_year)"
   ]
  },
  {
   "cell_type": "code",
   "execution_count": 54,
   "metadata": {},
   "outputs": [
    {
     "name": "stdout",
     "output_type": "stream",
     "text": [
      "[0, 0, 0, 0, 9.403508771929825, 9.403508771929825, 9.142857142857142, 9.142857142857142, 7.545454545454545, 8.848354020507285, 9.002262133260214, 8.774561802293277, 8.71168905971356, 9.092773920608655, 8.199353219763907, 8.610674799847503, 8.522213543441811, 8.200847011495156, 8.10301266315887, 8.047004070801279, 7.843938292312455, 7.791741355147802, 8.44148476682869]\n"
     ]
    }
   ],
   "source": [
    "# Make array that counts the avg rating in the year for stg\n",
    "steam_stg_year = [0, 0, 0, 0, 0, 0, 0, 0, 0, 0, 0, 0, 0, 0, 0, 0, 0, 0, 0, 0, 0, 0, 0]\n",
    "for i in range(df_steam['Year'].min(), df_steam['Year'].max() + 1):\n",
    "    # Loops through and gets avg rating in the year\n",
    "    steam_temp = steam_stg[steam_stg['Year'] == i]\n",
    "    if len(steam_temp) > 0:\n",
    "        steam_temp_avg = np.multiply(steam_temp['AvgRating'], steam_temp['NumRating']).sum()/steam_temp['NumRating'].sum() * 10\n",
    "        steam_stg_year[i - 1997] = steam_temp_avg\n",
    "    else:\n",
    "        if i > 0:\n",
    "            steam_stg_year[i - 1997] = steam_stg_year[i - 1997 - 1]\n",
    "        else:\n",
    "            steam_stg_year[i - 1997] = 0\n",
    "\n",
    "print(steam_stg_year)"
   ]
  },
  {
   "cell_type": "markdown",
   "metadata": {},
   "source": [
    "# Data Analysis & Results"
   ]
  },
  {
   "cell_type": "markdown",
   "metadata": {},
   "source": [
    "Include cells that describe the steps in your data analysis."
   ]
  },
  {
   "cell_type": "code",
   "execution_count": 55,
   "metadata": {},
   "outputs": [
    {
     "data": {
      "text/plain": [
       "(array([ 668.,   27.,   37.,  108.,  111.,  223.,  326.,  267.,  556.,\n",
       "         417.,  664.,  626., 1337.,  806.,  907., 1354., 1647., 1591.,\n",
       "        1861., 1590., 2318., 2105., 2089., 1874., 3566.]),\n",
       " array([0. , 0.2, 0.4, 0.6, 0.8, 1. , 1.2, 1.4, 1.6, 1.8, 2. , 2.2, 2.4,\n",
       "        2.6, 2.8, 3. , 3.2, 3.4, 3.6, 3.8, 4. , 4.2, 4.4, 4.6, 4.8, 5. ]),\n",
       " <a list of 25 Patch objects>)"
      ]
     },
     "execution_count": 55,
     "metadata": {},
     "output_type": "execute_result"
    },
    {
     "data": {
      "image/png": "[encoded data removed]",
      "text/plain": [
       "<Figure size 432x288 with 1 Axes>"
      ]
     },
     "metadata": {},
     "output_type": "display_data"
    }
   ],
   "source": [
    "plt.hist(df_steam['AvgRating']*5, bins = 25) # Unweighted steam ratings distribution histogramyear"
   ]
  },
  {
   "cell_type": "code",
   "execution_count": 56,
   "metadata": {},
   "outputs": [
    {
     "data": {
      "text/plain": [
       "(array([1.625000e+03, 5.370000e+02, 8.250000e+02, 8.050000e+03,\n",
       "        1.280200e+04, 1.455200e+04, 4.731800e+04, 4.878700e+04,\n",
       "        7.320800e+04, 7.044400e+04, 1.524630e+05, 1.645770e+05,\n",
       "        1.279400e+06, 5.369600e+05, 4.380050e+05, 7.209080e+05,\n",
       "        9.598900e+05, 1.967427e+06, 1.572702e+06, 1.974187e+06,\n",
       "        2.684326e+06, 6.714170e+06, 4.358539e+06, 5.788099e+06,\n",
       "        3.213881e+06]),\n",
       " array([0. , 0.2, 0.4, 0.6, 0.8, 1. , 1.2, 1.4, 1.6, 1.8, 2. , 2.2, 2.4,\n",
       "        2.6, 2.8, 3. , 3.2, 3.4, 3.6, 3.8, 4. , 4.2, 4.4, 4.6, 4.8, 5. ]),\n",
       " <a list of 25 Patch objects>)"
      ]
     },
     "execution_count": 56,
     "metadata": {},
     "output_type": "execute_result"
    },
    {
     "data": {
      "image/png": "[encoded data removed]",
      "text/plain": [
       "<Figure size 432x288 with 1 Axes>"
      ]
     },
     "metadata": {},
     "output_type": "display_data"
    }
   ],
   "source": [
    "plt.hist(df_steam['AvgRating']*5, weights = df_steam['NumRating'], bins = 25) # Weighted steam ratings distribution histogram"
   ]
  },
  {
   "cell_type": "code",
   "execution_count": 57,
   "metadata": {},
   "outputs": [
    {
     "data": {
      "text/plain": [
       "(array([4.600e+01, 0.000e+00, 3.000e+00, 5.000e+00, 8.000e+00, 4.000e+00,\n",
       "        3.600e+01, 1.500e+01, 4.000e+01, 3.000e+01, 4.400e+01, 8.400e+01,\n",
       "        2.320e+02, 1.810e+02, 2.600e+02, 4.560e+02, 6.910e+02, 1.120e+03,\n",
       "        1.936e+03, 2.694e+03, 3.647e+03, 4.332e+03, 3.251e+03, 1.632e+03,\n",
       "        1.761e+03]),\n",
       " array([1.  , 1.16, 1.32, 1.48, 1.64, 1.8 , 1.96, 2.12, 2.28, 2.44, 2.6 ,\n",
       "        2.76, 2.92, 3.08, 3.24, 3.4 , 3.56, 3.72, 3.88, 4.04, 4.2 , 4.36,\n",
       "        4.52, 4.68, 4.84, 5.  ]),\n",
       " <a list of 25 Patch objects>)"
      ]
     },
     "execution_count": 57,
     "metadata": {},
     "output_type": "execute_result"
    },
    {
     "data": {
      "image/png": "[encoded data removed]",
      "text/plain": [
       "<Figure size 432x288 with 1 Axes>"
      ]
     },
     "metadata": {},
     "output_type": "display_data"
    }
   ],
   "source": [
    "plt.hist(df_googleplay['Rating'], bins = 25) # Unweighted googleplay ratings distribution histogram"
   ]
  },
  {
   "cell_type": "code",
   "execution_count": 58,
   "metadata": {},
   "outputs": [
    {
     "data": {
      "text/plain": [
       "(array([6.00000000e+01, 0.00000000e+00, 3.90000000e+01, 1.71000000e+02,\n",
       "        7.48000000e+02, 1.15700000e+03, 1.31900000e+03, 1.21400000e+03,\n",
       "        7.95000000e+02, 1.37280000e+04, 3.35490000e+04, 7.74420000e+04,\n",
       "        4.14120000e+04, 8.68120000e+04, 4.29777000e+05, 9.17688000e+05,\n",
       "        2.88157700e+06, 1.56102290e+07, 3.41718130e+07, 1.11294063e+08,\n",
       "        3.14314908e+08, 5.80888278e+08, 4.61236786e+08, 9.57058150e+07,\n",
       "        4.70740800e+06]),\n",
       " array([1.  , 1.16, 1.32, 1.48, 1.64, 1.8 , 1.96, 2.12, 2.28, 2.44, 2.6 ,\n",
       "        2.76, 2.92, 3.08, 3.24, 3.4 , 3.56, 3.72, 3.88, 4.04, 4.2 , 4.36,\n",
       "        4.52, 4.68, 4.84, 5.  ]),\n",
       " <a list of 25 Patch objects>)"
      ]
     },
     "execution_count": 58,
     "metadata": {},
     "output_type": "execute_result"
    },
    {
     "data": {
      "image/png": "[encoded data removed]",
      "text/plain": [
       "<Figure size 432x288 with 1 Axes>"
      ]
     },
     "metadata": {},
     "output_type": "display_data"
    }
   ],
   "source": [
    "plt.hist(df_googleplay['Rating'], weights = df_googleplay['NumRating'], bins = 25) # Weighted googleplay ratings distribution histogram"
   ]
  },
  {
   "cell_type": "code",
   "execution_count": 59,
   "metadata": {},
   "outputs": [],
   "source": [
    "# For plotting the regression line\n",
    "# Let's fit an exponential function.  \n",
    "# This looks like a line on a lof-log plot.\n",
    "def myExpFunc(x, a, b):\n",
    "    return a * np.power(x, b)"
   ]
  },
  {
   "cell_type": "code",
   "execution_count": 60,
   "metadata": {},
   "outputs": [],
   "source": [
    "# For plotting a more complicated regression line\n",
    "def myComplexFunc(x, a, b, c):\n",
    "    return a * np.power(x, b) + c"
   ]
  },
  {
   "cell_type": "code",
   "execution_count": 61,
   "metadata": {},
   "outputs": [
    {
     "data": {
      "text/plain": [
       "[<matplotlib.lines.Line2D at 0x7f9e756bea58>]"
      ]
     },
     "execution_count": 61,
     "metadata": {},
     "output_type": "execute_result"
    },
    {
     "data": {
      "image/png": "[encoded data removed]",
      "text/plain": [
       "<Figure size 432x288 with 1 Axes>"
      ]
     },
     "metadata": {},
     "output_type": "display_data"
    }
   ],
   "source": [
    "# googleplay Rating * Num of ratings Scatterplot (in log scale)\n",
    "plt.scatter(df_googleplay['NumRating'], df_googleplay['Rating'], alpha=0.06,s=3)\n",
    "plt.xscale('log')\n",
    "a1, b1 = np.polyfit(df_googleplay['NumRating'], df_googleplay['Rating'], 1)\n",
    "plt.xlabel(\"Number of Ratings\")\n",
    "plt.ylabel(\"Rating\")\n",
    "\n",
    "newX = np.logspace(0, 8, base=10)\n",
    "popt, pcov = curve_fit(myComplexFunc, df_googleplay['NumRating'], df_googleplay['Rating'])\n",
    "plt.plot(newX, myComplexFunc(newX, *popt), 'g-', \n",
    "         label=\"({0:.3f}*x**{1:.3f}) + {2:.3f}\".format(*popt))\n",
    "popt, pcov = curve_fit(myExpFunc, df_googleplay['NumRating'], df_googleplay['Rating'])\n",
    "plt.plot(newX, myExpFunc(newX, *popt), 'r-', \n",
    "         label=\"({0:.3f}*x**{1:.3f})\".format(*popt))\n",
    "\n",
    "\n",
    "#x = np.linspace(10,10**7,100)\n",
    "#y = a1 * x + b1\n",
    "#plt.plot(x, y, 'r');  # dotted red"
   ]
  },
  {
   "cell_type": "code",
   "execution_count": 62,
   "metadata": {},
   "outputs": [
    {
     "data": {
      "text/plain": [
       "[<matplotlib.lines.Line2D at 0x7f9e756bed68>]"
      ]
     },
     "execution_count": 62,
     "metadata": {},
     "output_type": "execute_result"
    },
    {
     "data": {
      "image/png": "[encoded data removed]",
      "text/plain": [
       "<Figure size 432x288 with 1 Axes>"
      ]
     },
     "metadata": {},
     "output_type": "display_data"
    }
   ],
   "source": [
    "# steam Rating * Num of ratings Scatterplot (in log scale)\n",
    "plt.scatter(df_steam['NumRating'], df_steam['AvgRating']*5, alpha=0.08,s=3)\n",
    "plt.xscale('log')\n",
    "plt.xlabel(\"Number of Ratings\")\n",
    "plt.ylabel(\"Rating\")\n",
    "\n",
    "newX = np.logspace(0, 8, base=10)\n",
    "popt, pcov = curve_fit(myComplexFunc, df_googleplay['NumRating'], df_googleplay['Rating'])\n",
    "plt.plot(newX, myComplexFunc(newX, *popt), 'g-', \n",
    "         label=\"({0:.3f}*x**{1:.3f}) + {2:.3f}\".format(*popt))\n",
    "popt, pcov = curve_fit(myExpFunc, df_googleplay['NumRating'], df_googleplay['Rating'])\n",
    "plt.plot(newX, myExpFunc(newX, *popt), 'r-', \n",
    "         label=\"({0:.3f}*x**{1:.3f})\".format(*popt))"
   ]
  },
  {
   "cell_type": "markdown",
   "metadata": {},
   "source": [
    "### Analysis of above log graphs\n",
    "Because the line on both graphs is flat, there is no real distinct correlation between the number of ratings and the average rating given to a game. \n",
    "\n",
    "What this means for us:\n",
    "We do not have to weigh the different ratings based on the number of ratings. There isn't any reason to suspect that because a game has more reviews, it would get more positive reviews so we can give every rating the same weight."
   ]
  },
  {
   "cell_type": "code",
   "execution_count": 63,
   "metadata": {},
   "outputs": [],
   "source": [
    "# Extract the similar categories between the two\n",
    "steam_similar = [steam_act_avg, steam_adv_avg, steam_cas_avg, steam_rac_avg, steam_sim_avg, steam_spt_avg, steam_stg_avg]\n",
    "google_similar = [google_act_avg, google_adv_avg, google_cas_avg, google_rac_avg, google_sim_avg, google_spt_avg, google_stg_avg]"
   ]
  },
  {
   "cell_type": "code",
   "execution_count": 64,
   "metadata": {},
   "outputs": [
    {
     "data": {
      "image/png": "[encoded data removed]",
      "text/plain": [
       "<Figure size 1440x1440 with 1 Axes>"
      ]
     },
     "metadata": {},
     "output_type": "display_data"
    }
   ],
   "source": [
    "# Plot similar categories\n",
    "n = 7  # 7 similar categories\n",
    "fig, ax = plt.subplots(figsize=(20, 20))\n",
    "index = np.arange(n)\n",
    "bar_width = .3\n",
    "opacity = .6\n",
    "ax.bar(index, steam_similar, bar_width, alpha=opacity, color='black', label='Steam')\n",
    "ax.bar(index + bar_width, google_similar, bar_width, alpha=opacity, color='#3fd2d1', label = 'Google Play')\n",
    "ax.set_xlabel('Game Genre')\n",
    "ax.set_ylabel('Avg Rating(Weighted)')\n",
    "ax.set_title('Steam vs Google Play Game Ratings(Weighted on Number of Reviews)')\n",
    "ax.set_xticks(index + bar_width / 2)\n",
    "ax.set_xticklabels(('Action', 'Adventure', 'Casual', 'Racing', 'Simulation', 'Sport', 'Strategy'))\n",
    "ax.legend()\n",
    "plt.show()"
   ]
  },
  {
   "cell_type": "markdown",
   "metadata": {},
   "source": [
    "### Analysis of above graph\n",
    "With the two graphs, we can see two different things.\n",
    "From the comparison between steam and mobile games, we see a fairly consistent trend across the board with mobile games always being a decent bit above steam games. The biggest issue with this, however, is that if you actually compare across the categories for google play, we can see that it typically averages out at around 4.5 We believe the biggest reason for this is that typically mobile games have a much smaller emphasis on reviews.\n",
    "\n",
    "The games we see on a mobile platform seem to always sit at around 4.5 which means across the board, user reviews have very similar distributions overall. This could be due to a number of reasons. There could potentially be bots across the reviews where all the different users give 5 stars with reviews that look the same. Another reason could be because mobile games in similar categories are often developed for similar purposes, for the user to pull out their phone and play for a few minutes at a time. The games overall are a lot more casual and typically will be a lot less story driven, while instead focusing on more arcade style like games where it's meantt to just be there for quick entertainment.\n",
    "\n",
    "On the other hand, we can actually see a decent bit of variety across Steam games. We see adventure and sport games scored under 4/5 while the other ones all sit comfortably above it. These trends let us see that typically casual games released for pc will do a decent bit better than other ones. A potential reason the sports category could be so low might be because the biggest sports series(NBA, NHL) games have historically been rehashes of old versions. The games don't differ too much from year to year which might be a reason for the lower reviews. For adventure games, we are not too sure why it's so much lower than other categories, but a potential reason might be that maybe users aren't looking for a game focused towards just exploring, but instead are looking for more competitive type games like shooters."
   ]
  },
  {
   "cell_type": "code",
   "execution_count": 65,
   "metadata": {},
   "outputs": [
    {
     "name": "stdout",
     "output_type": "stream",
     "text": [
      "7.066394803521256e-06\n"
     ]
    }
   ],
   "source": [
    "t_val, p_val = stats.ttest_ind(steam_similar, google_similar)\n",
    "print(p_val)"
   ]
  },
  {
   "cell_type": "markdown",
   "metadata": {},
   "source": [
    "### Analysis of the stats value\n",
    "Becuse we can see our p value is extremely small(< 0.05), we know that there is a difference between the ratings for steam and google play\n",
    "\n",
    "While this seems somewhat important, we can see this difference in the average rating for google play and steam. Google play ratings are always above the steam ones and sit at the same level so while this data is shown to be statistically significant, we have no real conclusion we can draw from it other than we are confident that google play reviews are on average higher than steam reviews."
   ]
  },
  {
   "cell_type": "code",
   "execution_count": 66,
   "metadata": {},
   "outputs": [
    {
     "data": {
      "text/plain": [
       "<matplotlib.legend.Legend at 0x7f9e74db2550>"
      ]
     },
     "execution_count": 66,
     "metadata": {},
     "output_type": "execute_result"
    },
    {
     "data": {
      "image/png": "[encoded data removed]",
      "text/plain": [
       "<Figure size 1440x720 with 1 Axes>"
      ]
     },
     "metadata": {},
     "output_type": "display_data"
    }
   ],
   "source": [
    "# Plotted with if no notables games came out in a year, rating stays the same\n",
    "fig, ax = plt.subplots(figsize=(20, 10))\n",
    "\n",
    "df_steam_time = pd.DataFrame({'x': range(df_steam['Year'].min(), df_steam['Year'].max() + 1), \n",
    "                                      'Action': steam_act_year, \n",
    "                                      'Adventure': steam_adv_year, \n",
    "                                      'Casual': steam_cas_year,\n",
    "                                      'Racing': steam_rac_year,\n",
    "                                      'Simulation': steam_sim_year,\n",
    "                                      'Sport': steam_spt_year,\n",
    "                                      'Strategy': steam_stg_year})\n",
    "\n",
    "plt.plot('x', 'Action', data=df_steam_time, marker='', color='skyblue', linewidth=4)\n",
    "plt.plot('x', 'Adventure', data=df_steam_time, marker='', color='green', linewidth=4)\n",
    "plt.plot('x', 'Casual', data=df_steam_time, marker='', color='blue', linewidth=4)\n",
    "plt.plot('x', 'Racing', data=df_steam_time, marker='', color='red', linewidth=4)\n",
    "plt.plot('x', 'Simulation', data=df_steam_time, marker='', color='yellow', linewidth=4)\n",
    "plt.plot('x', 'Sport', data=df_steam_time, marker='', color='orange', linewidth=4)\n",
    "plt.plot('x', 'Strategy', data=df_steam_time, marker='', color='olive', linewidth=4)\n",
    "plt.legend()\n",
    "\n",
    "# https://python-graph-gallery.com/122-multiple-lines-chart/"
   ]
  },
  {
   "cell_type": "markdown",
   "metadata": {},
   "source": [
    "### Analysis of above graph\n",
    "From the above graph, the biggest thing we see is a similar correlation between all games generall going down. For this graph, we made it so that if a particular year had no reviews for a game, we would keep the line flat.\n",
    "\n",
    "What's interesting about the above graph though is that we can see that while there is a general trend down, 2015 had the games rating spike up again and 2019 seems to be generally going up again for most game categories(besides racing and sports). I think the most interesting thing about the above graph is still the fact that these games are all generally going down so it could perhaps show that users are more critical of the game they are given. Perhaps the standard for games has gone up on average so typical game ratings has gone down."
   ]
  },
  {
   "cell_type": "markdown",
   "metadata": {},
   "source": [
    "# Ethics & Privacy"
   ]
  },
  {
   "cell_type": "markdown",
   "metadata": {},
   "source": [
    "The two main datasets we used in this project came from Kaggle. The datasets are intended to be public and free. All of the data is publicly visible on the Steam store site and Google play store. The datasets consist of average and median playtime and review ratings from players, but they are recorded in numeral form and thus eliminated any concerns for personal privacy.\n",
    "\n",
    "The datasets consist of over 27,000 games on Steam and over 244,000 apps on Google play store without sampling for a smaller size of data, avoiding the possibility of sampling error and any statistical bias that comes with it.\n",
    "In this project, we used these datasets purely for the purpose of answering an academic question - finding a pattern of the most popular games by categories over two platforms, and how it changes over time. We believe that our result won’t be misused by any personnel to take any harmful actions against the game publishers, the players, Valve and Google which own the two store sites which we collected our data from, Nik Davis and Gautham Prakash, the publishers of these datasets."
   ]
  },
  {
   "cell_type": "markdown",
   "metadata": {},
   "source": [
    "# Conclusion & Discussion"
   ]
  },
  {
   "cell_type": "markdown",
   "metadata": {},
   "source": [
    "As we compared the two different platforms for gaming, we see a general difference in how people actual rate games on mobile vs steam. It seems mobile game reviews are generally consistently similar across the board. One of our main goals which was to see differences across popular games on the different platforms definitely did not produce results expected because of the lack of different ratings for google play. The steam reviews seem to give decent results, but we had nothing strong to compare it to so we can't particularly draw any conclusions on what genres are more popular on which platforms.\n",
    "\n",
    "Our biggest limitation for comparing the two comes from the google play games. For google play, the actual games only had one category each which could have potentially contributed to data that is not particularly good to analyze. And as we can see, the actual ratings across the board all sit around the same level which makes it hard to actually draw any clear conclusion from it.\n",
    "\n",
    "For our other main goal of comparing steam categories across the years, we actually got somewhat decent results. Overall it was fairly surprising to see a general decrease in the reviews. This graph gave us a decent visualization on the general trends for ratings and you can see some fairly interesting trends such as how racing was generally going down until it spiked back up in 2015 and then started going down again.\n",
    "\n",
    "Our biggest limitation for this is most likely the lack of actual information on review dates. All of our analysis is based on release year which does not actually accurately depict how the games are doing right now, just how they affect the release year. For example, a game like CSGO was released years back but is still a relevant game today and as the games update over time, the reviews could also be shifting. So for us to limit this data to only the release year makes it so that some of the conclusions we can draw from this data is not completely accurate to current trends."
   ]
  }
 ],
 "metadata": {
  "kernelspec": {
   "display_name": "Python 3",
   "language": "python",
   "name": "python3"
  },
  "language_info": {
   "codemirror_mode": {
    "name": "ipython",
    "version": 3
   },
   "file_extension": ".py",
   "mimetype": "text/x-python",
   "name": "python",
   "nbconvert_exporter": "python",
   "pygments_lexer": "ipython3",
   "version": "3.6.7"
  }
 },
 "nbformat": 4,
 "nbformat_minor": 2
}
